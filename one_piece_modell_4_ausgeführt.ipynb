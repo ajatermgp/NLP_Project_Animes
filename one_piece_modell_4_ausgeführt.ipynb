{
  "cells": [
    {
      "cell_type": "code",
      "execution_count": 71,
      "metadata": {
        "colab": {
          "base_uri": "https://localhost:8080/"
        },
        "id": "TaTFEjoP0BuO",
        "outputId": "7b3f00b2-702c-4004-af88-26b62620c0cd"
      },
      "outputs": [
        {
          "name": "stdout",
          "output_type": "stream",
          "text": [
            "Requirement already satisfied: haystack-ai in /usr/local/lib/python3.10/dist-packages (2.5.1)\n",
            "Requirement already satisfied: haystack-experimental in /usr/local/lib/python3.10/dist-packages (from haystack-ai) (0.1.1)\n",
            "Requirement already satisfied: jinja2 in /usr/local/lib/python3.10/dist-packages (from haystack-ai) (3.1.4)\n",
            "Requirement already satisfied: lazy-imports in /usr/local/lib/python3.10/dist-packages (from haystack-ai) (0.3.1)\n",
            "Requirement already satisfied: more-itertools in /usr/local/lib/python3.10/dist-packages (from haystack-ai) (10.5.0)\n",
            "Requirement already satisfied: networkx in /usr/local/lib/python3.10/dist-packages (from haystack-ai) (3.3)\n",
            "Requirement already satisfied: numpy<2 in /usr/local/lib/python3.10/dist-packages (from haystack-ai) (1.26.4)\n",
            "Requirement already satisfied: openai>=1.1.0 in /usr/local/lib/python3.10/dist-packages (from haystack-ai) (1.47.1)\n",
            "Requirement already satisfied: pandas in /usr/local/lib/python3.10/dist-packages (from haystack-ai) (2.1.4)\n",
            "Requirement already satisfied: posthog in /usr/local/lib/python3.10/dist-packages (from haystack-ai) (3.6.6)\n",
            "Requirement already satisfied: python-dateutil in /usr/local/lib/python3.10/dist-packages (from haystack-ai) (2.8.2)\n",
            "Requirement already satisfied: pyyaml in /usr/local/lib/python3.10/dist-packages (from haystack-ai) (6.0.2)\n",
            "Requirement already satisfied: requests in /usr/local/lib/python3.10/dist-packages (from haystack-ai) (2.32.3)\n",
            "Requirement already satisfied: tenacity!=8.4.0 in /usr/local/lib/python3.10/dist-packages (from haystack-ai) (9.0.0)\n",
            "Requirement already satisfied: tqdm in /usr/local/lib/python3.10/dist-packages (from haystack-ai) (4.66.5)\n",
            "Requirement already satisfied: typing-extensions>=4.7 in /usr/local/lib/python3.10/dist-packages (from haystack-ai) (4.12.2)\n",
            "Requirement already satisfied: anyio<5,>=3.5.0 in /usr/local/lib/python3.10/dist-packages (from openai>=1.1.0->haystack-ai) (3.7.1)\n",
            "Requirement already satisfied: distro<2,>=1.7.0 in /usr/lib/python3/dist-packages (from openai>=1.1.0->haystack-ai) (1.7.0)\n",
            "Requirement already satisfied: httpx<1,>=0.23.0 in /usr/local/lib/python3.10/dist-packages (from openai>=1.1.0->haystack-ai) (0.27.2)\n",
            "Requirement already satisfied: jiter<1,>=0.4.0 in /usr/local/lib/python3.10/dist-packages (from openai>=1.1.0->haystack-ai) (0.5.0)\n",
            "Requirement already satisfied: pydantic<3,>=1.9.0 in /usr/local/lib/python3.10/dist-packages (from openai>=1.1.0->haystack-ai) (2.9.2)\n",
            "Requirement already satisfied: sniffio in /usr/local/lib/python3.10/dist-packages (from openai>=1.1.0->haystack-ai) (1.3.1)\n",
            "Requirement already satisfied: MarkupSafe>=2.0 in /usr/local/lib/python3.10/dist-packages (from jinja2->haystack-ai) (2.1.5)\n",
            "Requirement already satisfied: pytz>=2020.1 in /usr/local/lib/python3.10/dist-packages (from pandas->haystack-ai) (2024.2)\n",
            "Requirement already satisfied: tzdata>=2022.1 in /usr/local/lib/python3.10/dist-packages (from pandas->haystack-ai) (2024.1)\n",
            "Requirement already satisfied: six>=1.5 in /usr/local/lib/python3.10/dist-packages (from python-dateutil->haystack-ai) (1.16.0)\n",
            "Requirement already satisfied: monotonic>=1.5 in /usr/local/lib/python3.10/dist-packages (from posthog->haystack-ai) (1.6)\n",
            "Requirement already satisfied: backoff>=1.10.0 in /usr/local/lib/python3.10/dist-packages (from posthog->haystack-ai) (2.2.1)\n",
            "Requirement already satisfied: charset-normalizer<4,>=2 in /usr/local/lib/python3.10/dist-packages (from requests->haystack-ai) (3.3.2)\n",
            "Requirement already satisfied: idna<4,>=2.5 in /usr/local/lib/python3.10/dist-packages (from requests->haystack-ai) (3.10)\n",
            "Requirement already satisfied: urllib3<3,>=1.21.1 in /usr/local/lib/python3.10/dist-packages (from requests->haystack-ai) (2.2.3)\n",
            "Requirement already satisfied: certifi>=2017.4.17 in /usr/local/lib/python3.10/dist-packages (from requests->haystack-ai) (2024.8.30)\n",
            "Requirement already satisfied: exceptiongroup in /usr/local/lib/python3.10/dist-packages (from anyio<5,>=3.5.0->openai>=1.1.0->haystack-ai) (1.2.2)\n",
            "Requirement already satisfied: httpcore==1.* in /usr/local/lib/python3.10/dist-packages (from httpx<1,>=0.23.0->openai>=1.1.0->haystack-ai) (1.0.5)\n",
            "Requirement already satisfied: h11<0.15,>=0.13 in /usr/local/lib/python3.10/dist-packages (from httpcore==1.*->httpx<1,>=0.23.0->openai>=1.1.0->haystack-ai) (0.14.0)\n",
            "Requirement already satisfied: annotated-types>=0.6.0 in /usr/local/lib/python3.10/dist-packages (from pydantic<3,>=1.9.0->openai>=1.1.0->haystack-ai) (0.7.0)\n",
            "Requirement already satisfied: pydantic-core==2.23.4 in /usr/local/lib/python3.10/dist-packages (from pydantic<3,>=1.9.0->openai>=1.1.0->haystack-ai) (2.23.4)\n"
          ]
        }
      ],
      "source": [
        "pip install haystack-ai"
      ]
    },
    {
      "cell_type": "code",
      "execution_count": 72,
      "metadata": {
        "colab": {
          "base_uri": "https://localhost:8080/"
        },
        "id": "OGTMF9TV4MX1",
        "outputId": "80e7503b-1b2c-420b-f50d-9b032a33af16"
      },
      "outputs": [
        {
          "name": "stdout",
          "output_type": "stream",
          "text": [
            "Requirement already satisfied: sentence-transformers>=3.0.0 in /usr/local/lib/python3.10/dist-packages (3.1.1)\n",
            "Requirement already satisfied: huggingface_hub>=0.23.0 in /usr/local/lib/python3.10/dist-packages (0.24.7)\n",
            "Requirement already satisfied: transformers<5.0.0,>=4.38.0 in /usr/local/lib/python3.10/dist-packages (from sentence-transformers>=3.0.0) (4.44.2)\n",
            "Requirement already satisfied: tqdm in /usr/local/lib/python3.10/dist-packages (from sentence-transformers>=3.0.0) (4.66.5)\n",
            "Requirement already satisfied: torch>=1.11.0 in /usr/local/lib/python3.10/dist-packages (from sentence-transformers>=3.0.0) (2.4.1+cu121)\n",
            "Requirement already satisfied: scikit-learn in /usr/local/lib/python3.10/dist-packages (from sentence-transformers>=3.0.0) (1.5.2)\n",
            "Requirement already satisfied: scipy in /usr/local/lib/python3.10/dist-packages (from sentence-transformers>=3.0.0) (1.13.1)\n",
            "Requirement already satisfied: Pillow in /usr/local/lib/python3.10/dist-packages (from sentence-transformers>=3.0.0) (10.4.0)\n",
            "Requirement already satisfied: filelock in /usr/local/lib/python3.10/dist-packages (from huggingface_hub>=0.23.0) (3.16.1)\n",
            "Requirement already satisfied: fsspec>=2023.5.0 in /usr/local/lib/python3.10/dist-packages (from huggingface_hub>=0.23.0) (2024.6.1)\n",
            "Requirement already satisfied: packaging>=20.9 in /usr/local/lib/python3.10/dist-packages (from huggingface_hub>=0.23.0) (24.1)\n",
            "Requirement already satisfied: pyyaml>=5.1 in /usr/local/lib/python3.10/dist-packages (from huggingface_hub>=0.23.0) (6.0.2)\n",
            "Requirement already satisfied: requests in /usr/local/lib/python3.10/dist-packages (from huggingface_hub>=0.23.0) (2.32.3)\n",
            "Requirement already satisfied: typing-extensions>=3.7.4.3 in /usr/local/lib/python3.10/dist-packages (from huggingface_hub>=0.23.0) (4.12.2)\n",
            "Requirement already satisfied: sympy in /usr/local/lib/python3.10/dist-packages (from torch>=1.11.0->sentence-transformers>=3.0.0) (1.13.3)\n",
            "Requirement already satisfied: networkx in /usr/local/lib/python3.10/dist-packages (from torch>=1.11.0->sentence-transformers>=3.0.0) (3.3)\n",
            "Requirement already satisfied: jinja2 in /usr/local/lib/python3.10/dist-packages (from torch>=1.11.0->sentence-transformers>=3.0.0) (3.1.4)\n",
            "Requirement already satisfied: numpy>=1.17 in /usr/local/lib/python3.10/dist-packages (from transformers<5.0.0,>=4.38.0->sentence-transformers>=3.0.0) (1.26.4)\n",
            "Requirement already satisfied: regex!=2019.12.17 in /usr/local/lib/python3.10/dist-packages (from transformers<5.0.0,>=4.38.0->sentence-transformers>=3.0.0) (2024.9.11)\n",
            "Requirement already satisfied: safetensors>=0.4.1 in /usr/local/lib/python3.10/dist-packages (from transformers<5.0.0,>=4.38.0->sentence-transformers>=3.0.0) (0.4.5)\n",
            "Requirement already satisfied: tokenizers<0.20,>=0.19 in /usr/local/lib/python3.10/dist-packages (from transformers<5.0.0,>=4.38.0->sentence-transformers>=3.0.0) (0.19.1)\n",
            "Requirement already satisfied: charset-normalizer<4,>=2 in /usr/local/lib/python3.10/dist-packages (from requests->huggingface_hub>=0.23.0) (3.3.2)\n",
            "Requirement already satisfied: idna<4,>=2.5 in /usr/local/lib/python3.10/dist-packages (from requests->huggingface_hub>=0.23.0) (3.10)\n",
            "Requirement already satisfied: urllib3<3,>=1.21.1 in /usr/local/lib/python3.10/dist-packages (from requests->huggingface_hub>=0.23.0) (2.2.3)\n",
            "Requirement already satisfied: certifi>=2017.4.17 in /usr/local/lib/python3.10/dist-packages (from requests->huggingface_hub>=0.23.0) (2024.8.30)\n",
            "Requirement already satisfied: joblib>=1.2.0 in /usr/local/lib/python3.10/dist-packages (from scikit-learn->sentence-transformers>=3.0.0) (1.4.2)\n",
            "Requirement already satisfied: threadpoolctl>=3.1.0 in /usr/local/lib/python3.10/dist-packages (from scikit-learn->sentence-transformers>=3.0.0) (3.5.0)\n",
            "Requirement already satisfied: MarkupSafe>=2.0 in /usr/local/lib/python3.10/dist-packages (from jinja2->torch>=1.11.0->sentence-transformers>=3.0.0) (2.1.5)\n",
            "Requirement already satisfied: mpmath<1.4,>=1.1.0 in /usr/local/lib/python3.10/dist-packages (from sympy->torch>=1.11.0->sentence-transformers>=3.0.0) (1.3.0)\n"
          ]
        }
      ],
      "source": [
        "!pip install \"sentence-transformers>=3.0.0\" \"huggingface_hub>=0.23.0\""
      ]
    },
    {
      "cell_type": "code",
      "execution_count": 73,
      "metadata": {
        "id": "0UivgjIr0hkt"
      },
      "outputs": [],
      "source": [
        "from haystack import Pipeline, Document\n",
        "from haystack.document_stores.in_memory import InMemoryDocumentStore\n",
        "from haystack.components.retrievers import InMemoryBM25Retriever\n",
        "from haystack.components.generators import OpenAIGenerator\n",
        "from haystack.components.builders.prompt_builder import PromptBuilder\n",
        "from haystack.utils import Secret\n",
        "from haystack.components.generators import HuggingFaceAPIGenerator"
      ]
    },
    {
      "cell_type": "code",
      "execution_count": 74,
      "metadata": {
        "id": "4suy2MWu0qHW"
      },
      "outputs": [],
      "source": [
        "from haystack.components.writers import DocumentWriter\n",
        "from haystack.components.converters import MarkdownToDocument, PyPDFToDocument, TextFileToDocument\n",
        "from haystack.components.preprocessors import DocumentSplitter, DocumentCleaner\n",
        "from haystack.components.routers import FileTypeRouter\n",
        "from haystack.components.joiners import DocumentJoiner\n",
        "from haystack.components.embedders import SentenceTransformersDocumentEmbedder\n",
        "from haystack import Pipeline\n",
        "from haystack.document_stores.in_memory import InMemoryDocumentStore\n",
        "from pathlib import Path"
      ]
    },
    {
      "cell_type": "code",
      "execution_count": 75,
      "metadata": {
        "id": "hWpr2WBx1vp_"
      },
      "outputs": [],
      "source": [
        "#Preprocessing-Pipeline bauen\n",
        "document_store = InMemoryDocumentStore()\n",
        "file_type_router = FileTypeRouter(mime_types=[\"text/plain\", \"application/pdf\", \"text/markdown\"])\n",
        "text_file_converter = TextFileToDocument()\n",
        "document_joiner = DocumentJoiner()"
      ]
    },
    {
      "cell_type": "code",
      "execution_count": 76,
      "metadata": {
        "id": "rIz2_0FF194z"
      },
      "outputs": [],
      "source": [
        "document_cleaner = DocumentCleaner()\n",
        "document_splitter = DocumentSplitter(split_by=\"word\", split_length=150, split_overlap=50)"
      ]
    },
    {
      "cell_type": "code",
      "execution_count": 77,
      "metadata": {
        "id": "NYpCgoRv2Dd2"
      },
      "outputs": [],
      "source": [
        "document_embedder = SentenceTransformersDocumentEmbedder(model=\"sentence-transformers/all-MiniLM-L6-v2\")\n",
        "document_writer = DocumentWriter(document_store)"
      ]
    },
    {
      "cell_type": "code",
      "execution_count": 78,
      "metadata": {
        "id": "EulUrFji2Gl-"
      },
      "outputs": [],
      "source": [
        "preprocessing_pipeline = Pipeline()\n",
        "preprocessing_pipeline.add_component(instance=file_type_router, name=\"file_type_router\")\n",
        "preprocessing_pipeline.add_component(instance=text_file_converter, name=\"text_file_converter\")\n",
        "preprocessing_pipeline.add_component(instance=document_joiner, name=\"document_joiner\")\n",
        "preprocessing_pipeline.add_component(instance=document_cleaner, name=\"document_cleaner\")\n",
        "preprocessing_pipeline.add_component(instance=document_splitter, name=\"document_splitter\")\n",
        "preprocessing_pipeline.add_component(instance=document_embedder, name=\"document_embedder\")\n",
        "preprocessing_pipeline.add_component(instance=document_writer, name=\"document_writer\")"
      ]
    },
    {
      "cell_type": "code",
      "execution_count": 79,
      "metadata": {
        "colab": {
          "base_uri": "https://localhost:8080/"
        },
        "id": "YaCH1v642PFG",
        "outputId": "e6747963-7d14-43f2-bba0-f77bca4c6cd2"
      },
      "outputs": [
        {
          "data": {
            "text/plain": [
              "<haystack.core.pipeline.pipeline.Pipeline object at 0x78bb640cfa60>\n",
              "🚅 Components\n",
              "  - file_type_router: FileTypeRouter\n",
              "  - text_file_converter: TextFileToDocument\n",
              "  - document_joiner: DocumentJoiner\n",
              "  - document_cleaner: DocumentCleaner\n",
              "  - document_splitter: DocumentSplitter\n",
              "  - document_embedder: SentenceTransformersDocumentEmbedder\n",
              "  - document_writer: DocumentWriter\n",
              "🛤️ Connections\n",
              "  - file_type_router.text/plain -> text_file_converter.sources (List[Path])\n",
              "  - text_file_converter.documents -> document_joiner.documents (List[Document])\n",
              "  - document_joiner.documents -> document_cleaner.documents (List[Document])\n",
              "  - document_cleaner.documents -> document_splitter.documents (List[Document])\n",
              "  - document_splitter.documents -> document_embedder.documents (List[Document])\n",
              "  - document_embedder.documents -> document_writer.documents (List[Document])"
            ]
          },
          "execution_count": 79,
          "metadata": {},
          "output_type": "execute_result"
        }
      ],
      "source": [
        "preprocessing_pipeline.connect(\"file_type_router.text/plain\", \"text_file_converter.sources\")\n",
        "preprocessing_pipeline.connect(\"text_file_converter\", \"document_joiner\")\n",
        "preprocessing_pipeline.connect(\"document_joiner\", \"document_cleaner\")\n",
        "preprocessing_pipeline.connect(\"document_cleaner\", \"document_splitter\")\n",
        "preprocessing_pipeline.connect(\"document_splitter\", \"document_embedder\")\n",
        "preprocessing_pipeline.connect(\"document_embedder\", \"document_writer\")"
      ]
    },
    {
      "cell_type": "code",
      "execution_count": 80,
      "metadata": {
        "id": "GcTNexbI5zoP"
      },
      "outputs": [],
      "source": [
        "#from sentence_transformers import SentenceTransformer"
      ]
    },
    {
      "cell_type": "code",
      "execution_count": 81,
      "metadata": {
        "id": "x4TIwGwf5_aE"
      },
      "outputs": [],
      "source": [
        "#pip uninstall sentence-transformers"
      ]
    },
    {
      "cell_type": "code",
      "execution_count": 82,
      "metadata": {
        "id": "ljHXKNsi6HHh"
      },
      "outputs": [],
      "source": [
        "#pip install \"sentence-transformers>=3.0.0\""
      ]
    },
    {
      "cell_type": "code",
      "execution_count": 83,
      "metadata": {
        "colab": {
          "base_uri": "https://localhost:8080/",
          "height": 67,
          "referenced_widgets": [
            "c9e506f82fab453880d42cf69ceadc6d",
            "bb460af2b6454111ae95bfc0a8685806",
            "f71d1aece5b74c71924b466808aec9bb",
            "7d3cdbdd113b4ff6a9ee9210698b379f",
            "361cf9fc0ec444d68ee51210fa953fac",
            "dedb2f7ab0da45399065afbfbe43dd4e",
            "432593a8c88e49a087292a7b1c75da06",
            "6a617e4edad743c192d3d0dbc9460cdb",
            "3c6bd49503dc46519664b28949ea925c",
            "d844a3864135416496c8b78b9eda9e4a",
            "b4aee82aaa7c4f378025974b0092a497"
          ]
        },
        "id": "c8_qKwmU3Gxf",
        "outputId": "9bf5d439-4a69-4ed9-8b0c-a54471516b3e"
      },
      "outputs": [
        {
          "data": {
            "application/vnd.jupyter.widget-view+json": {
              "model_id": "c9e506f82fab453880d42cf69ceadc6d",
              "version_major": 2,
              "version_minor": 0
            },
            "text/plain": [
              "Batches:   0%|          | 0/6093 [00:00<?, ?it/s]"
            ]
          },
          "metadata": {},
          "output_type": "display_data"
        },
        {
          "data": {
            "text/plain": [
              "{'document_writer': {'documents_written': 194946}}"
            ]
          },
          "execution_count": 83,
          "metadata": {},
          "output_type": "execute_result"
        }
      ],
      "source": [
        "output_dir = \"/content/\"  # Pfad zum Verzeichnis, wo sich die Datei befindet\n",
        "data_file = Path(output_dir) / \"dump.txt\"  # der Dateiname\n",
        "preprocessing_pipeline.run({\"file_type_router\": {\"sources\": [data_file]}})"
      ]
    },
    {
      "cell_type": "code",
      "execution_count": 84,
      "metadata": {
        "id": "2Th8JqPIBk_D"
      },
      "outputs": [],
      "source": [
        "prompt_template = \"\"\"\n",
        "Given these documents, answer the question.\n",
        "Documents:\n",
        "{% for doc in documents %}\n",
        "    {{ doc.content }}\n",
        "{% endfor %}\n",
        "Question: {{question}}\n",
        "Answer:\n",
        "\"\"\""
      ]
    },
    {
      "cell_type": "code",
      "execution_count": 85,
      "metadata": {
        "id": "G7UlXIZABoOy"
      },
      "outputs": [],
      "source": [
        "retriever = InMemoryBM25Retriever(document_store=document_store)\n",
        "prompt_builder = PromptBuilder(template=prompt_template)"
      ]
    },
    {
      "cell_type": "code",
      "execution_count": 86,
      "metadata": {
        "id": "CYBlv8hrCXaI"
      },
      "outputs": [],
      "source": [
        "#token bei Hugging-Face unter Access-Token erstellen, wichtig: write!\n",
        "generator = HuggingFaceAPIGenerator(api_type=\"serverless_inference_api\",\n",
        "                                    api_params={\"model\": \"mistralai/Mixtral-8x7B-Instruct-v0.1\"},\n",
        "                                    token=Secret.from_token(\"<add_your_hf_api_token_here>\"))"
      ]
    },
    {
      "cell_type": "code",
      "execution_count": 87,
      "metadata": {
        "colab": {
          "base_uri": "https://localhost:8080/"
        },
        "id": "uHbes_8yB0vZ",
        "outputId": "f387f832-1d34-4835-c5c5-e5fc45e717ae"
      },
      "outputs": [
        {
          "data": {
            "text/plain": [
              "<haystack.core.pipeline.pipeline.Pipeline object at 0x78b9f9be6230>\n",
              "🚅 Components\n",
              "  - retriever: InMemoryBM25Retriever\n",
              "  - prompt_builder: PromptBuilder\n",
              "  - llm: HuggingFaceAPIGenerator\n",
              "🛤️ Connections\n",
              "  - retriever.documents -> prompt_builder.documents (List[Document])\n",
              "  - prompt_builder.prompt -> llm.prompt (str)"
            ]
          },
          "execution_count": 87,
          "metadata": {},
          "output_type": "execute_result"
        }
      ],
      "source": [
        "rag_pipeline = Pipeline()\n",
        "rag_pipeline.add_component(\"retriever\", retriever)\n",
        "rag_pipeline.add_component(\"prompt_builder\", prompt_builder)\n",
        "rag_pipeline.add_component(\"llm\", generator)\n",
        "rag_pipeline.connect(\"retriever\", \"prompt_builder.documents\")\n",
        "rag_pipeline.connect(\"prompt_builder\", \"llm\")"
      ]
    },
    {
      "cell_type": "code",
      "execution_count": 88,
      "metadata": {
        "id": "4-67am3FB7fT"
      },
      "outputs": [],
      "source": [
        "question = '''In One Piece, does a Devil Fruit reappear after the user dies?\n",
        "\n",
        "In chapter 702, we see Ace's Devil Fruit 'Mera Mera no Mi' being showcased as the prize of the event held in the Colosseum. The announcer of the event mentions that the \"fruit is reborn.\"\n",
        "\n",
        "Does it mean every Devil Fruit has that ability to be reborn once the user dies, or is it an artificial Devil Fruit made by Doflamingo's factory?'''"
      ]
    },
    {
      "cell_type": "code",
      "execution_count": 89,
      "metadata": {
        "id": "7J44BgcgCCM5"
      },
      "outputs": [],
      "source": [
        "results = rag_pipeline.run(\n",
        "    {\n",
        "        \"retriever\": {\"query\": question},\n",
        "        \"prompt_builder\": {\"question\": question},\n",
        "    }\n",
        ")"
      ]
    },
    {
      "cell_type": "code",
      "execution_count": 90,
      "metadata": {
        "colab": {
          "base_uri": "https://localhost:8080/"
        },
        "id": "N2o8fB16D73a",
        "outputId": "c18e2c9e-5ce8-4442-bb68-aad80d09c056"
      },
      "outputs": [
        {
          "name": "stdout",
          "output_type": "stream",
          "text": [
            "[' According to the One Piece wiki, Devil Fruits do exist in a cycle of reincarnation. When a Devil Fruit user dies, its ability is reborn into a new Devil Fruit in a random part of the world, and the one who eats it will become the new user. This is true for both natural and artificial Devil Fruits. The Mera Mera no Mi is a natural Devil Fruit, so it has the ability to be reborn after the user dies.']\n"
          ]
        }
      ],
      "source": [
        "print(results[\"llm\"][\"replies\"])"
      ]
    },
    {
      "cell_type": "code",
      "execution_count": 91,
      "metadata": {
        "colab": {
          "base_uri": "https://localhost:8080/"
        },
        "id": "Xs89Yj_gYBa0",
        "outputId": "25f6684d-1bb5-4b0f-8a93-c782c745ddfc"
      },
      "outputs": [
        {
          "name": "stdout",
          "output_type": "stream",
          "text": [
            "[\" No, the amount of Devil's Fruit eaten does not affect the power gained. Once a person consumes a Devil's Fruit, they gain its powers for the rest of their life, regardless of how much of the fruit they ate. This is stated in the documents provided.\"]\n"
          ]
        }
      ],
      "source": [
        "question = '''Does Devil's Fruit power gained depend on how much of it is eaten?\n",
        "\n",
        "Luffy accidentally ate the Gomu-Gomu (Rubber-Rubber) fruit, but was interrupted by Shanks after a few bites. It was too late and Luffy got the Devil's Fruit powers anyway. If he had instead eaten the whole of it, would he have got even more power from the fruit?'''\n",
        "results = rag_pipeline.run(\n",
        "    {\n",
        "        \"retriever\": {\"query\": question},\n",
        "        \"prompt_builder\": {\"question\": question},\n",
        "    }\n",
        ")\n",
        "print(results[\"llm\"][\"replies\"])"
      ]
    },
    {
      "cell_type": "code",
      "execution_count": 92,
      "metadata": {
        "colab": {
          "base_uri": "https://localhost:8080/"
        },
        "id": "XSq5MRhQYBa0",
        "outputId": "ef122a7b-274f-4f39-e21c-b0f2f56e426e"
      },
      "outputs": [
        {
          "name": "stdout",
          "output_type": "stream",
          "text": [
            "[\" No, multiple people/animals cannot eat a single Devil Fruit. Once someone takes a single bite out of the fruit, the ability becomes solely theirs in that moment, and from then on, the fruit simply becomes a insanely gross-tasting fruit. Still, everyone takes care to eat the whole thing without knowing this. This is because the Devil Fruit Abilities are transferred after one bite. After that, it's just a nasty old fruit. In the instance that they take a bite at the same time, the power will belong to the one who swallows first. Nothing will happen if anyone else takes a bite. So in summation, a single fruit cannot give its powers to multiple people.\"]\n"
          ]
        }
      ],
      "source": [
        "question = '''Can multiple people/animals eat a single Devil Fruit? Provided, Chopper eats the Devil Fruit along with the other deers, will they all have the Devil Fruit ability, given that acquiring the ability only requires a single bite?'''\n",
        "results = rag_pipeline.run(\n",
        "    {\n",
        "        \"retriever\": {\"query\": question},\n",
        "        \"prompt_builder\": {\"question\": question},\n",
        "    }\n",
        ")\n",
        "print(results[\"llm\"][\"replies\"])"
      ]
    },
    {
      "cell_type": "code",
      "execution_count": 93,
      "metadata": {
        "colab": {
          "base_uri": "https://localhost:8080/"
        },
        "id": "49CSTI3yYBa0",
        "outputId": "236521c5-e2a8-4b3a-a8ed-843a0ff8de2c"
      },
      "outputs": [
        {
          "name": "stdout",
          "output_type": "stream",
          "text": [
            "[\" According to Blueno, a person will explode if he eats two Devil Fruits. This has been proven to be true based on the reactions of pirates and Marines to Blackbeard's power usage. However, Blackbeard didn't actually eat two Devil Fruits, but acquired the power from another person.\"]\n"
          ]
        }
      ],
      "source": [
        "question = '''What will happen if one person eats two Devil Fruits? If a person has already eaten one Devil Fruit, what will happen to him if he eats another Devil Fruit?'''\n",
        "results = rag_pipeline.run(\n",
        "    {\n",
        "        \"retriever\": {\"query\": question},\n",
        "        \"prompt_builder\": {\"question\": question},\n",
        "    }\n",
        ")\n",
        "print(results[\"llm\"][\"replies\"])"
      ]
    },
    {
      "cell_type": "code",
      "execution_count": 94,
      "metadata": {
        "colab": {
          "base_uri": "https://localhost:8080/"
        },
        "id": "nvR-V4RtYBa1",
        "outputId": "c5908211-16fb-498b-a76c-9ac49455f962"
      },
      "outputs": [
        {
          "name": "stdout",
          "output_type": "stream",
          "text": [
            "[' The ability of a Devil Fruit is discovered when it is eaten and the power is manifested. However, there are also resources such as the Devil Fruit Encyclopedia that provide information about the names and powers of Devil Fruits. It is mentioned that Buggy and Teach had read about the powers their Devil Fruits would provide them, implying that they had access to such resources. Additionally, some Devil Fruits have a distinct shape that can give a clue about their abilities, but this is not always the case. It is also possible for a sufficiently skilled scientist to create an extract of a Devil Fruit and administer it to an infant who cannot yet eat solid food, resulting in the recipient gaining the ability as normal while the fruit becomes worthless.']\n"
          ]
        }
      ],
      "source": [
        "question = '''How is the ability of a Devil Fruit disovered? Since there is just one Devil Fruit for a specific ability, how does one know about what ability it holds?\n",
        "For example, Buggy and Teach knew about the powers their Devil Fruits would have provided them.\n",
        "It is mentioned that they had read about it.\n",
        "But if the fruit occurs only once till the user dies, how did they find out about the fruits' powers?'''\n",
        "results = rag_pipeline.run(\n",
        "    {\n",
        "        \"retriever\": {\"query\": question},\n",
        "        \"prompt_builder\": {\"question\": question},\n",
        "    }\n",
        ")\n",
        "print(results[\"llm\"][\"replies\"])"
      ]
    },
    {
      "cell_type": "code",
      "execution_count": 95,
      "metadata": {
        "colab": {
          "base_uri": "https://localhost:8080/"
        },
        "id": "vAeJImORYBa1",
        "outputId": "8573cd6b-dfbb-48b8-fac4-a3d9a0053864"
      },
      "outputs": [
        {
          "name": "stdout",
          "output_type": "stream",
          "text": [
            "[' After being defeated by Luffy, Enel headed off to Fairy Vearth, which turns out to be the Moon. There he found a group of alien-like creatures—who have wings similar to the Skypieans—which Enel befriended. He also discovered the history of the Skypieans, Shandians, and Birkans, who all originated from the moon city and invented the automata. After using up their resources, the inhabitants decided to travel to Earth while giving a tearful goodbye to their creations. The automata then pledged their loyalty to Enel for reawakening them. Enel accepted their loyalty and stood tall as the leader of his new army.']\n"
          ]
        }
      ],
      "source": [
        "question = '''What did Enel do after being defeated? As shown in the Manga and the Anime, Enel survived along with the Ark. He then Embarks to Fairy Verth\n",
        "\n",
        "In the Manga it shows his adventures on the Moon. But what happened? I didn't understand the situation that happened. What exactly happened on the Moon?'''\n",
        "results = rag_pipeline.run(\n",
        "    {\n",
        "        \"retriever\": {\"query\": question},\n",
        "        \"prompt_builder\": {\"question\": question},\n",
        "    }\n",
        ")\n",
        "print(results[\"llm\"][\"replies\"])"
      ]
    },
    {
      "cell_type": "code",
      "execution_count": 96,
      "metadata": {
        "colab": {
          "base_uri": "https://localhost:8080/"
        },
        "id": "Zd8VOmplYBa1",
        "outputId": "b46ab979-7275-4dad-f61c-ef48d0f3810b"
      },
      "outputs": [
        {
          "name": "stdout",
          "output_type": "stream",
          "text": [
            "[\" Luffy's Gear 2nd and 3rd attacks work by him increasing the size and power of his body. Gear 2nd is achieved by Luffy increasing the blood flow to his muscles, making him faster and stronger but also causing him to use up his stamina quickly. Gear 3rd is achieved by Luffy blowing air into his bones, making them expand and increasing his physical size and strength. However, this also makes him slower and less maneuverable. Both of these forms are activated by Luffy biting down on his thumb and blowing air into it, creating a distinctive sound.\"]\n"
          ]
        }
      ],
      "source": [
        "question = '''How do Luffy's Gear attacks work? Might just be me missing an explanation part in the manga, or just not properly understanding at the time. But how does Luffy's Gear 2nd and 3rd attacks work? '''\n",
        "results = rag_pipeline.run(\n",
        "    {\n",
        "        \"retriever\": {\"query\": question},\n",
        "        \"prompt_builder\": {\"question\": question},\n",
        "    }\n",
        ")\n",
        "print(results[\"llm\"][\"replies\"])"
      ]
    },
    {
      "cell_type": "code",
      "execution_count": 97,
      "metadata": {
        "colab": {
          "base_uri": "https://localhost:8080/"
        },
        "id": "7Dq8TFhQYBa1",
        "outputId": "e21bdef5-e922-450d-c21e-7319bc5f9c21"
      },
      "outputs": [
        {
          "name": "stdout",
          "output_type": "stream",
          "text": [
            "[\" The One Piece bounty system is primarily based on the perceived threat level of a pirate to the World Government and the Marines. The bounty is determined by a committee within the Marines, and is influenced by various factors such as the pirate's strength, the number of people they have harmed, and the amount of damage they have caused. The media, including newspapers, do play a role in the bounty system, as they help to spread information about pirates and their crimes, which can influence the Marines' decision on the bounty amount. However, the bounty is not based solely on popularity within the media.\\n\\nA decrease or withdrawal in bounty is ideally possible, but it is rare and usually only happens in certain circumstances. For example, if a pirate turns themselves in and agrees to work for the World Government, their bounty may be withdrawn or reduced. Additionally, if a pirate is believed to be dead, their bounty may be withdrawn. However, it is important to note that the Marines are often hesitant to withdraw bounties, as they want to maintain a deterrent for other pirates.\\n\\nAs for a pirate with a bounty turning in another pirate for their bounty, there are no set restrictions on awarding bounties. However, it is worth noting that the Marines are often suspicious of pirates who turn in other pirates, as they may have ulterior motives. Additionally, the pirate turning in the other pirate may not receive the full bounty amount, as the Marines may take a portion for themselves.\\n\\nIn summary, the One Piece bounty system is primarily based on the perceived threat level of a pirate to the World Government and the Marines, and is influenced by various factors such as the pirate's strength, the number of people they have harmed, and the amount of damage they have caused. The media, including newspapers, do play a role in the bounty system, as they help to spread information about pirates and their crimes. A decrease or withdrawal in bounty is ideally possible, but it is rare and usually only happens in certain circumstances. And there are no set restrictions on awarding bounties, but the Marines are often suspicious of pirates who turn in other pirates and may not award the full bounty amount.\"]\n"
          ]
        }
      ],
      "source": [
        "question = '''How does the One piece Bounty system work?\n",
        "\n",
        "Right from the beginning of One piece, we see luffy and his crew keep getting a bounty increase everytime something big happens and this leaves a lot of room for pondering; especially on how these bounties are thought up and agreed on. I understand that Pirates who are deemed to be dangerous by the Marines are awarded bounties but my question is how the bounty system actually works in relation to the media. Do the Marines kinda depend on information from newspaper media outlets to increase or award a bounty? (or is the other way round; that they only use newspaper and the media for getting the bounties out). Is the Bounty based more on popularity within the media?\n",
        "\n",
        "Also, what warrants a decrease/withdrawal in Bounty? I know it has never technically happened but is it ideally possble?\n",
        "\n",
        "My last question is how a pirate with a bounty can actually turn in another pirate for their bounty, are there any set restrictions on awarding Bounties?'''\n",
        "results = rag_pipeline.run(\n",
        "    {\n",
        "        \"retriever\": {\"query\": question},\n",
        "        \"prompt_builder\": {\"question\": question},\n",
        "    }\n",
        ")\n",
        "print(results[\"llm\"][\"replies\"])"
      ]
    },
    {
      "cell_type": "code",
      "execution_count": 98,
      "metadata": {
        "colab": {
          "base_uri": "https://localhost:8080/"
        },
        "id": "ARGhJFaAYBa1",
        "outputId": "dae32a75-9c01-43ab-b12c-33a58bb1496f"
      },
      "outputs": [
        {
          "name": "stdout",
          "output_type": "stream",
          "text": [
            "[\" In the One Piece universe, being knocked unconscious and falling asleep have different effects on Devil Fruit users. When a Devil Fruit user is knocked unconscious, their powers are nullified, meaning they lose control over their abilities. This is because being knocked unconscious is often the result of a physical trauma, which can disrupt the user's connection to their Devil Fruit power.\\n\\nOn the other hand, falling asleep does not have the same effect on Devil Fruit users. This is because sleep is a natural process that does not involve any physical trauma, so the user's connection to their Devil Fruit power remains intact.\\n\\nIn the case of Moria, he was knocked unconscious by Luffy, which caused him to lose control over the shadows he had absorbed. If Moria had simply fallen asleep, his powers would not have been affected.\\n\\nSimilarly, when Sugar was scared unconscious by Usopp, she lost control over her powers, causing all the toys to turn back to their human forms. If Sugar had simply fallen asleep, her powers would not have been affected.\\n\\nIn summary, being knocked unconscious and falling asleep have different effects on Devil Fruit users in the One Piece universe. Being knocked unconscious disrupts the user's connection to their Devil Fruit power, while falling asleep does not.\"]\n"
          ]
        }
      ],
      "source": [
        "question = '''Why does a Devil Fruit's power nullify only if the user is knocked unconscious and not when he sleeps?\n",
        "\n",
        "I have noticed something rather strange: Why do devil fruit users abilities nullify when they are knocked unconscious but not when they fall sleep?\n",
        "\n",
        "Take Moria for example. Moria had control of all the shadows when Luffy knocked him out, allowing the shadows to escape, so why does sleeping not do the same? Certainly he had to have fallen asleep at some point in time before Luffy had knocked him out.\n",
        "\n",
        "Same is the case with Sugar. She was scared unconscious by Usopp and all the toys turned back to their human forms. Is there something about being knocked unconscious and falling asleep that is different in the One Piece Universe?'''\n",
        "results = rag_pipeline.run(\n",
        "    {\n",
        "        \"retriever\": {\"query\": question},\n",
        "        \"prompt_builder\": {\"question\": question},\n",
        "    }\n",
        ")\n",
        "print(results[\"llm\"][\"replies\"])"
      ]
    },
    {
      "cell_type": "code",
      "execution_count": 99,
      "metadata": {
        "colab": {
          "base_uri": "https://localhost:8080/"
        },
        "id": "VBbjl8EDYBa2",
        "outputId": "a2654cd0-10dc-466d-a5af-45934cf04ddf"
      },
      "outputs": [
        {
          "name": "stdout",
          "output_type": "stream",
          "text": [
            "[' No, Luffy has not killed anyone in One Piece. He has been involved in many fights and battles, but he has never taken a life. This is consistent with his character as a pirate who values freedom and the lives of others.']\n"
          ]
        }
      ],
      "source": [
        "question = '''Has Luffy ever killed anyone?  In One Piece, there is a lot of blood and fights as we saw on the death of Ace.\n",
        "\n",
        "However, did Luffy ever actually kill any person?'''\n",
        "results = rag_pipeline.run(\n",
        "    {\n",
        "        \"retriever\": {\"query\": question},\n",
        "        \"prompt_builder\": {\"question\": question},\n",
        "    }\n",
        ")\n",
        "print(results[\"llm\"][\"replies\"])"
      ]
    },
    {
      "cell_type": "code",
      "execution_count": 100,
      "metadata": {
        "colab": {
          "base_uri": "https://localhost:8080/"
        },
        "id": "W7SI4-b3YBa2",
        "outputId": "1cf3f582-5f5f-4bcc-c82e-67ac30a69b59"
      },
      "outputs": [
        {
          "name": "stdout",
          "output_type": "stream",
          "text": [
            "[\" Yes, the clothes of Devil Fruit users are made of a special material that doesn't burn or tear apart. This is because the clothes of Devil Fruit users are not made of regular materials, but rather, they are made of the same substance as the user's Devil Fruit power. For example, Akainu's clothes are made of magma, and Luffy's clothes are made of rubber. This is why their clothes do not burn or tear apart when they use their Devil Fruit powers.\"]\n"
          ]
        }
      ],
      "source": [
        "question = '''Are the clothes of Devil Fruit users made of a special material? We have Akainu, who is a Logia user with magma capabilities, and Luffy, who can stretch with the Gomu Gomu no Mi. Are their clothes made up of some special material that doesn't burn or tear apart? '''\n",
        "results = rag_pipeline.run(\n",
        "    {\n",
        "        \"retriever\": {\"query\": question},\n",
        "        \"prompt_builder\": {\"question\": question},\n",
        "    }\n",
        ")\n",
        "print(results[\"llm\"][\"replies\"])"
      ]
    },
    {
      "cell_type": "code",
      "execution_count": null,
      "metadata": {
        "id": "x6KdDFGKYBa2"
      },
      "outputs": [],
      "source": [
        "question = '''What are the names and grades of Zoro's swords? Zoro always (almost always) carries 3 swords with him. So the question is, what are the names and the grades of those 3 swords he is currently carrying?'''\n",
        "results = rag_pipeline.run(\n",
        "    {\n",
        "        \"retriever\": {\"query\": question},\n",
        "        \"prompt_builder\": {\"question\": question},\n",
        "    }\n",
        ")\n",
        "print(results[\"llm\"][\"replies\"])"
      ]
    },
    {
      "cell_type": "code",
      "execution_count": 101,
      "metadata": {
        "colab": {
          "base_uri": "https://localhost:8080/"
        },
        "id": "xABTXlrdYBa2",
        "outputId": "e5a6683b-ce9f-4404-84dc-5a166322379d"
      },
      "outputs": [
        {
          "name": "stdout",
          "output_type": "stream",
          "text": [
            "[\" Yes, the same sea monster that ate Shanks's arm re-encounters the Straw Hat Pirates in the Fish-Man Island arc. However, it is not explicitly stated that it is the same sea monster, but it is heavily implied due to its unique appearance and abilities.\"]\n"
          ]
        }
      ],
      "source": [
        "question = '''Is there a re-encounter with the sea monster that ate Shanks's arm? Just of out curiosity, do we ever get to see the same sea monster that ate Shanks's arm way back in the beginning of One Piece?\n",
        "\n",
        "I have only kept up with the series until Impel Down, so please no spoilers beyond a \"yes/no they did/did not re-encounter the sea monster\"'''\n",
        "results = rag_pipeline.run(\n",
        "    {\n",
        "        \"retriever\": {\"query\": question},\n",
        "        \"prompt_builder\": {\"question\": question},\n",
        "    }\n",
        ")\n",
        "print(results[\"llm\"][\"replies\"])"
      ]
    },
    {
      "cell_type": "code",
      "execution_count": 102,
      "metadata": {
        "colab": {
          "base_uri": "https://localhost:8080/"
        },
        "id": "qaqjgkCrYBa2",
        "outputId": "90e739f5-c9fe-4f71-daae-c261dc346906"
      },
      "outputs": [
        {
          "name": "stdout",
          "output_type": "stream",
          "text": [
            "[' CP9 members and Sanji can run and stand in the air using their Rokushiki techniques, specifically Soru and Geppo. Soru allows them to move at high speeds by kicking off the air, while Geppo allows them to jump and stand in the air by kicking off the air. These techniques do not involve Haki, but rather involve the precise control and manipulation of their own body movements and the surrounding air. Luffy and Zoro do not possess these techniques, but they have their own unique abilities and techniques that allow them to fight effectively in various situations.']\n"
          ]
        }
      ],
      "source": [
        "question = '''How can CP9 members and Sanji run in the air? How can CP9 members and Sanji(post-timeskip) run and stand in the air? Do they use something like Haki? If not, what kind of techniques do they use? If it is Haki, can Luffy and Zoro run and stand like they do?'''\n",
        "results = rag_pipeline.run(\n",
        "    {\n",
        "        \"retriever\": {\"query\": question},\n",
        "        \"prompt_builder\": {\"question\": question},\n",
        "    }\n",
        ")\n",
        "print(results[\"llm\"][\"replies\"])"
      ]
    },
    {
      "cell_type": "code",
      "execution_count": null,
      "metadata": {
        "id": "J2VFMcP5YBa3"
      },
      "outputs": [],
      "source": [
        "question = '''How did Luffy get the scar on his chest? There's a debate going on how Luffy got the scar on his chest but I recently seen episode 223 where Zoro and Luffy we're fighting and Zoro gave him that scar. Then for what reason is there a debate on how he got his scar?'''\n",
        "results = rag_pipeline.run(\n",
        "    {\n",
        "        \"retriever\": {\"query\": question},\n",
        "        \"prompt_builder\": {\"question\": question},\n",
        "    }\n",
        ")\n",
        "print(results[\"llm\"][\"replies\"])"
      ]
    },
    {
      "cell_type": "code",
      "execution_count": 103,
      "metadata": {
        "colab": {
          "base_uri": "https://localhost:8080/"
        },
        "id": "ed3kl7pIYBa3",
        "outputId": "0ef7d8c3-b6eb-4406-9a94-5172afe642e4"
      },
      "outputs": [
        {
          "name": "stdout",
          "output_type": "stream",
          "text": [
            "[\" Yes, Fairy Vearth is the Moon. This is confirmed in the Skypiea Arc when Enel reaches the Moon and finds a group of alien-like creatures there. The name 'Fairy Vearth' is a translation issue, as both 'Endless' and 'Fairy' are written in the manga, with the Kanji listing it as 'Endless Earth' and the Furigana reading as 'Fairy Vearth'.\"]\n"
          ]
        }
      ],
      "source": [
        "question = '''What is Fairy Vearth? The 'Fairy Vearth' that God Enel keeps talking about, the continuous land. Is he talking about the moon?'''\n",
        "results = rag_pipeline.run(\n",
        "    {\n",
        "        \"retriever\": {\"query\": question},\n",
        "        \"prompt_builder\": {\"question\": question},\n",
        "    }\n",
        ")\n",
        "print(results[\"llm\"][\"replies\"])"
      ]
    }
  ],
  "metadata": {
    "accelerator": "GPU",
    "colab": {
      "gpuType": "T4",
      "provenance": []
    },
    "kernelspec": {
      "display_name": "Python 3 (ipykernel)",
      "language": "python",
      "name": "python3"
    },
    "language_info": {
      "codemirror_mode": {
        "name": "ipython",
        "version": 3
      },
      "file_extension": ".py",
      "mimetype": "text/x-python",
      "name": "python",
      "nbconvert_exporter": "python",
      "pygments_lexer": "ipython3",
      "version": "3.11.5"
    },
    "widgets": {
      "application/vnd.jupyter.widget-state+json": {
        "361cf9fc0ec444d68ee51210fa953fac": {
          "model_module": "@jupyter-widgets/base",
          "model_module_version": "1.2.0",
          "model_name": "LayoutModel",
          "state": {
            "_model_module": "@jupyter-widgets/base",
            "_model_module_version": "1.2.0",
            "_model_name": "LayoutModel",
            "_view_count": null,
            "_view_module": "@jupyter-widgets/base",
            "_view_module_version": "1.2.0",
            "_view_name": "LayoutView",
            "align_content": null,
            "align_items": null,
            "align_self": null,
            "border": null,
            "bottom": null,
            "display": null,
            "flex": null,
            "flex_flow": null,
            "grid_area": null,
            "grid_auto_columns": null,
            "grid_auto_flow": null,
            "grid_auto_rows": null,
            "grid_column": null,
            "grid_gap": null,
            "grid_row": null,
            "grid_template_areas": null,
            "grid_template_columns": null,
            "grid_template_rows": null,
            "height": null,
            "justify_content": null,
            "justify_items": null,
            "left": null,
            "margin": null,
            "max_height": null,
            "max_width": null,
            "min_height": null,
            "min_width": null,
            "object_fit": null,
            "object_position": null,
            "order": null,
            "overflow": null,
            "overflow_x": null,
            "overflow_y": null,
            "padding": null,
            "right": null,
            "top": null,
            "visibility": null,
            "width": null
          }
        },
        "3c6bd49503dc46519664b28949ea925c": {
          "model_module": "@jupyter-widgets/controls",
          "model_module_version": "1.5.0",
          "model_name": "ProgressStyleModel",
          "state": {
            "_model_module": "@jupyter-widgets/controls",
            "_model_module_version": "1.5.0",
            "_model_name": "ProgressStyleModel",
            "_view_count": null,
            "_view_module": "@jupyter-widgets/base",
            "_view_module_version": "1.2.0",
            "_view_name": "StyleView",
            "bar_color": null,
            "description_width": ""
          }
        },
        "432593a8c88e49a087292a7b1c75da06": {
          "model_module": "@jupyter-widgets/controls",
          "model_module_version": "1.5.0",
          "model_name": "DescriptionStyleModel",
          "state": {
            "_model_module": "@jupyter-widgets/controls",
            "_model_module_version": "1.5.0",
            "_model_name": "DescriptionStyleModel",
            "_view_count": null,
            "_view_module": "@jupyter-widgets/base",
            "_view_module_version": "1.2.0",
            "_view_name": "StyleView",
            "description_width": ""
          }
        },
        "6a617e4edad743c192d3d0dbc9460cdb": {
          "model_module": "@jupyter-widgets/base",
          "model_module_version": "1.2.0",
          "model_name": "LayoutModel",
          "state": {
            "_model_module": "@jupyter-widgets/base",
            "_model_module_version": "1.2.0",
            "_model_name": "LayoutModel",
            "_view_count": null,
            "_view_module": "@jupyter-widgets/base",
            "_view_module_version": "1.2.0",
            "_view_name": "LayoutView",
            "align_content": null,
            "align_items": null,
            "align_self": null,
            "border": null,
            "bottom": null,
            "display": null,
            "flex": null,
            "flex_flow": null,
            "grid_area": null,
            "grid_auto_columns": null,
            "grid_auto_flow": null,
            "grid_auto_rows": null,
            "grid_column": null,
            "grid_gap": null,
            "grid_row": null,
            "grid_template_areas": null,
            "grid_template_columns": null,
            "grid_template_rows": null,
            "height": null,
            "justify_content": null,
            "justify_items": null,
            "left": null,
            "margin": null,
            "max_height": null,
            "max_width": null,
            "min_height": null,
            "min_width": null,
            "object_fit": null,
            "object_position": null,
            "order": null,
            "overflow": null,
            "overflow_x": null,
            "overflow_y": null,
            "padding": null,
            "right": null,
            "top": null,
            "visibility": null,
            "width": null
          }
        },
        "7d3cdbdd113b4ff6a9ee9210698b379f": {
          "model_module": "@jupyter-widgets/controls",
          "model_module_version": "1.5.0",
          "model_name": "HTMLModel",
          "state": {
            "_dom_classes": [],
            "_model_module": "@jupyter-widgets/controls",
            "_model_module_version": "1.5.0",
            "_model_name": "HTMLModel",
            "_view_count": null,
            "_view_module": "@jupyter-widgets/controls",
            "_view_module_version": "1.5.0",
            "_view_name": "HTMLView",
            "description": "",
            "description_tooltip": null,
            "layout": "IPY_MODEL_d844a3864135416496c8b78b9eda9e4a",
            "placeholder": "​",
            "style": "IPY_MODEL_b4aee82aaa7c4f378025974b0092a497",
            "value": " 6093/6093 [08:40&lt;00:00, 12.97it/s]"
          }
        },
        "b4aee82aaa7c4f378025974b0092a497": {
          "model_module": "@jupyter-widgets/controls",
          "model_module_version": "1.5.0",
          "model_name": "DescriptionStyleModel",
          "state": {
            "_model_module": "@jupyter-widgets/controls",
            "_model_module_version": "1.5.0",
            "_model_name": "DescriptionStyleModel",
            "_view_count": null,
            "_view_module": "@jupyter-widgets/base",
            "_view_module_version": "1.2.0",
            "_view_name": "StyleView",
            "description_width": ""
          }
        },
        "bb460af2b6454111ae95bfc0a8685806": {
          "model_module": "@jupyter-widgets/controls",
          "model_module_version": "1.5.0",
          "model_name": "HTMLModel",
          "state": {
            "_dom_classes": [],
            "_model_module": "@jupyter-widgets/controls",
            "_model_module_version": "1.5.0",
            "_model_name": "HTMLModel",
            "_view_count": null,
            "_view_module": "@jupyter-widgets/controls",
            "_view_module_version": "1.5.0",
            "_view_name": "HTMLView",
            "description": "",
            "description_tooltip": null,
            "layout": "IPY_MODEL_dedb2f7ab0da45399065afbfbe43dd4e",
            "placeholder": "​",
            "style": "IPY_MODEL_432593a8c88e49a087292a7b1c75da06",
            "value": "Batches: 100%"
          }
        },
        "c9e506f82fab453880d42cf69ceadc6d": {
          "model_module": "@jupyter-widgets/controls",
          "model_module_version": "1.5.0",
          "model_name": "HBoxModel",
          "state": {
            "_dom_classes": [],
            "_model_module": "@jupyter-widgets/controls",
            "_model_module_version": "1.5.0",
            "_model_name": "HBoxModel",
            "_view_count": null,
            "_view_module": "@jupyter-widgets/controls",
            "_view_module_version": "1.5.0",
            "_view_name": "HBoxView",
            "box_style": "",
            "children": [
              "IPY_MODEL_bb460af2b6454111ae95bfc0a8685806",
              "IPY_MODEL_f71d1aece5b74c71924b466808aec9bb",
              "IPY_MODEL_7d3cdbdd113b4ff6a9ee9210698b379f"
            ],
            "layout": "IPY_MODEL_361cf9fc0ec444d68ee51210fa953fac"
          }
        },
        "d844a3864135416496c8b78b9eda9e4a": {
          "model_module": "@jupyter-widgets/base",
          "model_module_version": "1.2.0",
          "model_name": "LayoutModel",
          "state": {
            "_model_module": "@jupyter-widgets/base",
            "_model_module_version": "1.2.0",
            "_model_name": "LayoutModel",
            "_view_count": null,
            "_view_module": "@jupyter-widgets/base",
            "_view_module_version": "1.2.0",
            "_view_name": "LayoutView",
            "align_content": null,
            "align_items": null,
            "align_self": null,
            "border": null,
            "bottom": null,
            "display": null,
            "flex": null,
            "flex_flow": null,
            "grid_area": null,
            "grid_auto_columns": null,
            "grid_auto_flow": null,
            "grid_auto_rows": null,
            "grid_column": null,
            "grid_gap": null,
            "grid_row": null,
            "grid_template_areas": null,
            "grid_template_columns": null,
            "grid_template_rows": null,
            "height": null,
            "justify_content": null,
            "justify_items": null,
            "left": null,
            "margin": null,
            "max_height": null,
            "max_width": null,
            "min_height": null,
            "min_width": null,
            "object_fit": null,
            "object_position": null,
            "order": null,
            "overflow": null,
            "overflow_x": null,
            "overflow_y": null,
            "padding": null,
            "right": null,
            "top": null,
            "visibility": null,
            "width": null
          }
        },
        "dedb2f7ab0da45399065afbfbe43dd4e": {
          "model_module": "@jupyter-widgets/base",
          "model_module_version": "1.2.0",
          "model_name": "LayoutModel",
          "state": {
            "_model_module": "@jupyter-widgets/base",
            "_model_module_version": "1.2.0",
            "_model_name": "LayoutModel",
            "_view_count": null,
            "_view_module": "@jupyter-widgets/base",
            "_view_module_version": "1.2.0",
            "_view_name": "LayoutView",
            "align_content": null,
            "align_items": null,
            "align_self": null,
            "border": null,
            "bottom": null,
            "display": null,
            "flex": null,
            "flex_flow": null,
            "grid_area": null,
            "grid_auto_columns": null,
            "grid_auto_flow": null,
            "grid_auto_rows": null,
            "grid_column": null,
            "grid_gap": null,
            "grid_row": null,
            "grid_template_areas": null,
            "grid_template_columns": null,
            "grid_template_rows": null,
            "height": null,
            "justify_content": null,
            "justify_items": null,
            "left": null,
            "margin": null,
            "max_height": null,
            "max_width": null,
            "min_height": null,
            "min_width": null,
            "object_fit": null,
            "object_position": null,
            "order": null,
            "overflow": null,
            "overflow_x": null,
            "overflow_y": null,
            "padding": null,
            "right": null,
            "top": null,
            "visibility": null,
            "width": null
          }
        },
        "f71d1aece5b74c71924b466808aec9bb": {
          "model_module": "@jupyter-widgets/controls",
          "model_module_version": "1.5.0",
          "model_name": "FloatProgressModel",
          "state": {
            "_dom_classes": [],
            "_model_module": "@jupyter-widgets/controls",
            "_model_module_version": "1.5.0",
            "_model_name": "FloatProgressModel",
            "_view_count": null,
            "_view_module": "@jupyter-widgets/controls",
            "_view_module_version": "1.5.0",
            "_view_name": "ProgressView",
            "bar_style": "success",
            "description": "",
            "description_tooltip": null,
            "layout": "IPY_MODEL_6a617e4edad743c192d3d0dbc9460cdb",
            "max": 6093,
            "min": 0,
            "orientation": "horizontal",
            "style": "IPY_MODEL_3c6bd49503dc46519664b28949ea925c",
            "value": 6093
          }
        }
      }
    }
  },
  "nbformat": 4,
  "nbformat_minor": 0
}
