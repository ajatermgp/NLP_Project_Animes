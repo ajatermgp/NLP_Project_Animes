{
 "cells": [
  {
   "cell_type": "code",
   "execution_count": 2,
   "id": "d041f959-fcd9-46d3-bc8c-46318a6cc6b7",
   "metadata": {
    "tags": []
   },
   "outputs": [],
   "source": [
    "import json\n",
    "import requests"
   ]
  },
  {
   "cell_type": "code",
   "execution_count": 4,
   "id": "50a1b6ad-6a2a-4bad-a964-b9ee6bd92aa4",
   "metadata": {
    "tags": []
   },
   "outputs": [],
   "source": [
    "API_URL = \"https://api-inference.huggingface.co/models/sentence-transformers/all-MiniLM-L6-v2\"\n",
    "headers = {\"Authorization\": f\"Bearer <add_your_api_token_here>\"}"
   ]
  },
  {
   "cell_type": "code",
   "execution_count": 6,
   "id": "a9b28255-08af-41a7-b0ca-d9c026ff168b",
   "metadata": {
    "tags": []
   },
   "outputs": [],
   "source": [
    "def query(payload):\n",
    "    response = requests.post(API_URL, headers=headers, json=payload)\n",
    "    return response.json()"
   ]
  },
  {
   "cell_type": "code",
   "execution_count": 17,
   "id": "09cbbe41-1b4f-41d7-8dcb-d22603ddfac2",
   "metadata": {
    "tags": []
   },
   "outputs": [],
   "source": [
    "#Antworten mit Chatmodell und Naruto-Daten\n",
    "#Question 1\n",
    "data = query(\n",
    "    {\n",
    "        \"inputs\": {\n",
    "            \"source_sentence\": \"Naruto and Hinata - Bolt (Boruto) and Himawari; Sasuke and Sakura - Salad (Sarada); Shikamaru and Temari - Shikadai; Chouji and Karui - Chouchou; Ino and Sai - Inojin; Kurenai and Asuma - Mirai Sarutobi; Kiba is shown with Tamaki, but we don't even know if there's anything going on between them. Rock Lee is shown training with a kid that looks like him, and Tenten is shown right after that, so maybe that's their kid, or maybe some kid who emulated Lee like he had emulated Guy before.\",\n",
    "            \"sentences\": [\n",
    "                \"The following characters got married and had kids: Naruto Uzumaki and Hinata Hyuga had a son named Boruto Uzumaki. Shikaku Nara and Yoshino Nara had a son named Shikamaru Nara. Shikaku Nara and Yoshino Nara also had a daughter named Temari Nara. Fugaku Uchiha and Mikoto Uchiha had two sons named Itachi Uchiha and Sasuke Uchiha. Kurenai Yūhi and Asuma Sarutobi had a son named Mirai Sarutobi. Choza Akimichi and Tsunade had a son named Chōji Akimichi.Note: The Naruto Hiden novels are not included in this timeline.\"]\n",
    "        }\n",
    "    })"
   ]
  },
  {
   "cell_type": "code",
   "execution_count": 19,
   "id": "c9bebb13-1a9d-4e6e-a3ff-4317a198c02c",
   "metadata": {
    "tags": []
   },
   "outputs": [
    {
     "name": "stdout",
     "output_type": "stream",
     "text": [
      "[0.3258737027645111]\n"
     ]
    }
   ],
   "source": [
    "print(data)"
   ]
  },
  {
   "cell_type": "code",
   "execution_count": 21,
   "id": "c10eeb12-62d5-4b6e-9a11-439ce3a3d3e1",
   "metadata": {
    "tags": []
   },
   "outputs": [],
   "source": [
    "#Question 2\n",
    "data = query(\n",
    "    {\n",
    "        \"inputs\": {\n",
    "            \"source_sentence\": \"According to the Naruto Wiki: Suddenly orphaned, Naruto was left to grow up knowing nothing of his parents, receiving only his mother's last name as Hiruzen believed it was best that nobody knew that he was related to the Fourth Hokage.\",\n",
    "            \"sentences\": [\n",
    "                \"Yes, there is a logical and canonical reason to why Naruto used his mother's family name, Uzumaki, instead of his father's family name. Naruto's full name is a reference to the Naruto whirlpools (鳴門の渦潮, Naruto no uzushio), named after the city in the Tokushima Prefecture in Japan. Additionally, Naruto's mother, Kushina Uzumaki, is a relative to the Uzumaki clan from Uzushiogakure in the Land of Whirlpools, who used the spiral pattern as both their clan and village symbol. Naruto's family name, Uzumaki, can mean 'whirlpool' or 'maelstrom', which is a recurring theme in Naruto, especially in relation to the character of Naruto Uzumaki himself.\"]\n",
    "        }\n",
    "    })"
   ]
  },
  {
   "cell_type": "code",
   "execution_count": 23,
   "id": "ff9c3648-06b3-4b15-912c-305542ff664e",
   "metadata": {
    "tags": []
   },
   "outputs": [
    {
     "name": "stdout",
     "output_type": "stream",
     "text": [
      "[0.5279387831687927]\n"
     ]
    }
   ],
   "source": [
    "print(data)"
   ]
  },
  {
   "cell_type": "code",
   "execution_count": 25,
   "id": "be362cfa-09b0-4d2e-9300-ff77aed7509d",
   "metadata": {
    "tags": []
   },
   "outputs": [],
   "source": [
    "#Question 3\n",
    "data = query(\n",
    "    {\n",
    "        \"inputs\": {\n",
    "            \"source_sentence\": \"After a period of time the tailed beast will revive, so they will survive the death of the host. However, it is revealed that the tailed beasts can actually survive their jinchūriki's deaths, with the only consequence being that it will take time for them to revive without a host. Source: Narutopedia - in the second paragraph of that section.\",\n",
    "            \"sentences\": [\n",
    "                \"If the jinchuriki is killed, the tailed beast will not be extracted and sealed into the Demonic statue by the Akatsuki. Instead, the tailed beast will be released and roam freely. In the scenario you mentioned, if Orochimaru had killed Naruto, the Nine-Tails would have been released and roamed freely. However, it is important to note that this is not shown in the anime or manga, so it is only speculation based on the information provided.\"]\n",
    "        }\n",
    "    })"
   ]
  },
  {
   "cell_type": "code",
   "execution_count": 27,
   "id": "7982fbe3-124e-45bd-b1d8-6b6e1a9e9085",
   "metadata": {
    "tags": []
   },
   "outputs": [
    {
     "name": "stdout",
     "output_type": "stream",
     "text": [
      "[0.7133561968803406]\n"
     ]
    }
   ],
   "source": [
    "print(data)"
   ]
  },
  {
   "cell_type": "code",
   "execution_count": 29,
   "id": "4f4332a1-c98f-44bb-afb1-caa3a6579a94",
   "metadata": {
    "tags": []
   },
   "outputs": [],
   "source": [
    "#Question 4\n",
    "data = query(\n",
    "    {\n",
    "        \"inputs\": {\n",
    "            \"source_sentence\": \"Kakashi and Obito awoke their Mangekyou at the same time: when Kakashi killed Rin. Obito and Kakashi's Mangekyou awakened. Obito (left) and Kakashi (right) awakening their Mangekyou. From chapter 605, pages 4 and 5. Now, as for why Kakashi never used it before his fight with Deidara, I think there's no definitive answer. However, I can think of two different educated guesses: one is in-universe, while the other is out-of-universe. In-universe explanation: As you said, Kakashi was either unaware of or unable to control his Mangekyou Sharingan. I tend to think the former is the case, since he passed out as soon as he awoke his Mangekyou, and probably had no memory of awakening it (Kakashi's page on Naruto wiki seems to agree with this explanation). If this is the case, after his fight with Itachi he most likely tested to see if he had the Mangekyou, finding out he did, and thus trained in order to perfect its use. Out-of-universe explanation: Kishimoto hadn't thought the whole story through. Since Tobi had not made an appearance in the first Naruto series, Kishi had not yet thought about who he would be. If this is the case, then Kakashi's back story had not yet been planned, as well as Obito's. This would make it plausible that Kakashi was not initially planned to have a Mangekyou, since his is transplanted. After the Kakashi Gaiden, however, the important characters are all introduced, which means he had most likely planned for Obito to be Tobi, and about the link between his and Kakashi's Sharingan.\",\n",
    "            \"sentences\": [\n",
    "                \"Kakashi and Obito both awakened their Mangekyō Sharingan after witnessing the death of Rin Nohara during the Third Shinobi World War. However, the manga does not explicitly show the moment when they activated their Mangekyō Sharingan. It is possible that Kakashi was unaware of his Mangekyō Sharingan until he faced Itachi, or he was not proficient in using it. Kakashi did not use his Mangekyō Sharingan in the Naruto series before the start of Shippuden because he was not proficient in using it. As for Obito, his vision started to fade as he sensed Rin dying, which implies that he may have awakened his Mangekyō Sharingan at the same time as Kakashi. However, the manga does not explicitly show the moment when Obito activated his Mangekyō Sharingan. It is also possible that they share the same other dimension because of the same Sharingan, but the manga does not explicitly confirm this.\"]\n",
    "        }\n",
    "    })"
   ]
  },
  {
   "cell_type": "code",
   "execution_count": 31,
   "id": "62892df0-3e4f-4289-a94c-d4500f3c6641",
   "metadata": {
    "tags": []
   },
   "outputs": [
    {
     "name": "stdout",
     "output_type": "stream",
     "text": [
      "[0.7809357047080994]\n"
     ]
    }
   ],
   "source": [
    "print(data)"
   ]
  },
  {
   "cell_type": "code",
   "execution_count": 33,
   "id": "5527535e-9d5f-4a43-9134-3abc514bdb61",
   "metadata": {
    "tags": []
   },
   "outputs": [],
   "source": [
    "#Question 5\n",
    "data = query(\n",
    "    {\n",
    "        \"inputs\": {\n",
    "            \"source_sentence\": \"After Madara receives his right eye from Zetsu, he stuns all the Tailed Beasts and began the process of sealing them up into the Demonic Statue. Yang Kurama, knowing that he will be pulled out of Naruto for certain, contacted Gaara to have Yin Kurama (within Minato's body) sealed into Naruto. But just as Minato was transferring Yin Kurama into Naruto, Black Zetsu (in Obito's body) interferes. Obito regains control of his body and prevents Zetsu from delivering the left Rinnegan eye and Yin Kurama to Madara. Obito then teleports the gang to Kamui dimension. There, Yin Kurama was successfully transferred into Naruto. After the epic fight with Sasuke, Yang Kurama rejoins Naruto. The Yin and Yang halves merge together and formed the complete state of Kurama.\",\n",
    "            \"sentences\": [\n",
    "                \"The Yin half of Kurama was absorbed by Black Zetsu and became its jinchūriki. Naruto did not get both halves of Kurama after fighting Sasuke. The other half of Kurama did not die when Minato was killed.\"]\n",
    "        }\n",
    "    })"
   ]
  },
  {
   "cell_type": "code",
   "execution_count": 35,
   "id": "1efc980d-cad9-4563-9aba-f3186395d1f7",
   "metadata": {
    "tags": []
   },
   "outputs": [
    {
     "name": "stdout",
     "output_type": "stream",
     "text": [
      "[0.7287926077842712]\n"
     ]
    }
   ],
   "source": [
    "print(data)"
   ]
  },
  {
   "cell_type": "code",
   "execution_count": 45,
   "id": "4c5c7a79-689b-4993-8464-0b21b523e881",
   "metadata": {
    "tags": []
   },
   "outputs": [],
   "source": [
    "#Question 6\n",
    "data = query(\n",
    "    {\n",
    "        \"inputs\": {\n",
    "            \"source_sentence\": \"Kakashi became a Genin at the age of 5 and Chunin at 6. Obito became a Genin at the age of 9 and Chunin at the age of 11. It was around the time when Obito became Chunin that Kakashi was promoted to Jonin. Obito then died at the age of 13, which was almost two years after his promotion to Chunin. From this thread on narutoforums (emphasis mine): It is impossible for both Kakashi and Obito to have been 13 during the Kakashi Gaiden, because there is at least a confirmed 4 year age difference between Kakashi and Obito when they were confirmed to both be Genin teammates during the Chuunin Exams. They entered the academy the same time, and they all graduated the academy together as teammates. Kakashi was at least 4 years younger than both of his teammates at all times. There is no possible way that Kakashi was a 13 year old Jonin during the Kakashi Gaiden. At this idea that he was 13 isn't even supported in the databooks, either. It's time we all got our facts straight. If Obito died at 13, then Kakashi was most likely 9 during the Kakashi Gaiden. It is impossible for these two teammates to have ever been the same age. Kakashi was 13 during the Kyuubi attack on Konoha. There is a 4 year difference between the events of the Kakashi Gaiden and the events of the night Naruto was born. Also, from the talk page of Obito Uchiha on Naruto wiki Obito-Kakashi timeline is based on the anime mostly and pre-chapter 599 manga/databook stuff. Kakashi graduated the academy as 5 years old, Rin and Obito as 9. Obito is 3 years 7 months older from Kakashi. They all took the same Chunin Exam, with Kakashi having managed to become a Chunin in it at the age of 6, while Obito age 10 failed. Obito trainer hard, took the next exams and became a Chunin at 11. Obito got crushed by boulders as 13 years old, that means Kakashi was 9-10 at the latest in the Gaiden. Kakashi is now 31 so Obito died as 34. As for the youngest Jonin part, no one really knows how many official Jonin are there. If I remember correctly, Itachi wasn't officially declared as a Jonin. He got into the Anbu after he became a Chunin. So Kakashi might be the youngest Jonin. There is no definitive answer. Edit (courtesy of @Merrice Henderson): There is evidence that Kakashi made Jonin the same year that Obito and Rin made Chunin. This is an exert from Obito's wikia page: Eager for Rin's attention, Obito trained relentlessly, eventually rising to the rank of chūnin himself. His excitement was short-lived as Kakashi soon afterwards became a jōnin, once again earning Rin's praise and Obito's resentment. So, Obito was confirmed 11 when he became Chunin. If we go based on the theory that Kakashi is 4 years younger (which I am more inclined to believe), then he was 7 when he made Jonin. That would effectively make him the youngest Jonin of all time. If Kakashi was the same age as Obito and Rin, there are a few years that need to be accounted for, like: Who was he teamed with after graduation while Obito and Rin were still in the academy? What happened to Kakashi's other teammates, or was he on hiatus for that time?\",\n",
    "            \"sentences\": [\n",
    "                \"According to the Naruto wiki, Kakashi Hatake became a Jounin at the age of 13. This makes him the youngest Jounin in Konoha's history.\"]\n",
    "        }\n",
    "    })"
   ]
  },
  {
   "cell_type": "code",
   "execution_count": 47,
   "id": "46749171-1c50-4769-8708-98e31b818b5b",
   "metadata": {
    "tags": []
   },
   "outputs": [
    {
     "name": "stdout",
     "output_type": "stream",
     "text": [
      "[0.660241961479187]\n"
     ]
    }
   ],
   "source": [
    "print(data)"
   ]
  },
  {
   "cell_type": "code",
   "execution_count": 49,
   "id": "c5e37d5a-439b-4dfa-bb31-c6a3d8fea25d",
   "metadata": {
    "tags": []
   },
   "outputs": [],
   "source": [
    "#Question 7\n",
    "data = query(\n",
    "    {\n",
    "        \"inputs\": {\n",
    "            \"source_sentence\": \"Both Kakashi and Danzou had physically obtained their Sharingan via transplantation. During the finale of the Fourth Shinobi World War, Madara rips Kakashi's Sharingan and transplants as his left eye (Chapter 674). Naruto, using Hagaromo's power, creates a normal eye for Kakashi (Chapter 675). From Naruto Wikia article on Kakashi Hatake, merged plot summary of Chapter 686, 687 and 688 (emphasis mine): Prepared to give his life to lend what little assistance he can, Kakashi stands in front of Sasuke to take the attack while Obito does the same for Naruto. Although they are unified in their willingness to die, Obito decides it's too soon for Kakashi and uses Kamui on the attack bound for him, leaving Obito unable to save himself. Obito's body dissolves, but his spirit returns shortly afterwards and inhabits Kakashi. Obito feels that Kakashi will become the next Hokage and wishes to reward him: a temporary moment of having two Mangekyō Sharingan. Obito gave Kakashi the privilege of having both Sharingan (Mangekyou) temporarily. This was the doing of the spirit of Obito and not the physical self. Hence the Sharingan Kakashi used was spiritually influenced. Later, when Kaguya is defeated, Obito's spirit leaves Kakashi's side to join the other world. Because of the spirit leaving, the Sharingan also disappears along with it. Had the Sharingan been physically present, it would have stayed, just like Danzou, the Kotoamatsukami crow and pre-war Kakashi.\",\n",
    "            \"sentences\": [\n",
    "                \"The Sharingan that Kakashi had received from Obito was a transplanted eye, while the Sharingan that Danzo had stolen from Shisui and the one Shisui had given Itachi were both implanted eyes. Transplanted eyes are not as durable as implanted eyes, and will fade over time after the original owner's death. Implanted eyes, on the other hand, are more permanent and will not fade even after the original owner's death. This is why Kakashi's Sharingan faded after Obito died, while the Sharingan that Danzo had stolen from Shisui and the one Shisui had given Itachi were still okay even after its original owner had died.\"]\n",
    "        }\n",
    "    })"
   ]
  },
  {
   "cell_type": "code",
   "execution_count": 51,
   "id": "39a5baf4-fe5b-4008-b040-38e056548236",
   "metadata": {
    "tags": []
   },
   "outputs": [
    {
     "name": "stdout",
     "output_type": "stream",
     "text": [
      "[0.7430611252784729]\n"
     ]
    }
   ],
   "source": [
    "print(data)"
   ]
  },
  {
   "cell_type": "code",
   "execution_count": 55,
   "id": "e97cb8ce-e895-4468-bc35-84f5c84196f6",
   "metadata": {
    "tags": []
   },
   "outputs": [],
   "source": [
    "#Question 8\n",
    "data = query(\n",
    "    {\n",
    "        \"inputs\": {\n",
    "            \"source_sentence\": \"Well the difference is quite simple. the Inuzuka clan's dogs are simple dogs. They can understand human language very well and are the sidekicks of the Inuzuka. Kiba and Akamaru understand each other by Hand Wave. This is not explained any further as it is prescriptive. Kakashi's dogs on the other hand are Summoned. They are not real dogs but spirits, comparable to Gamabunta, Gamakichi and the other Kuchiose No Jutsu summoned animals.\",\n",
    "            \"sentences\": [\n",
    "                \"The Inuzuka clan's dogs, including Akamaru, cannot use human language. However, Kakashi's dogs, such as Pakkun, can use human language. The reason for this difference is not explicitly stated in the documents. It is possible that Kakashi's dogs have undergone some kind of special training or have a unique ability that allows them to use human language.As for how Kiba and Akamaru understand each other, it is not explicitly stated in the documents. However, it is mentioned that Akamaru has heightened senses and abilities, and is able to work and be summoned alongside shinobi. It is possible that Kiba and Akamaru have developed a strong bond and are able to communicate with each other through body language, gestures, or other non-verbal means. Additionally, it is mentioned that Akamaru has shown the ability to use the Beast Human Clone technique, which allows him to take on a more human-like form and possibly communicate in a more human-like way. However, this technique is not consistently used by Akamaru, so it is likely that Kiba and Akamaru primarily communicate through non-verbal means.\"]\n",
    "        }\n",
    "    })"
   ]
  },
  {
   "cell_type": "code",
   "execution_count": 57,
   "id": "fde3c4ef-b7f7-4e35-99c4-714a39ec7b98",
   "metadata": {
    "tags": []
   },
   "outputs": [
    {
     "name": "stdout",
     "output_type": "stream",
     "text": [
      "[0.7617197036743164]\n"
     ]
    }
   ],
   "source": [
    "print(data)"
   ]
  },
  {
   "cell_type": "code",
   "execution_count": 59,
   "id": "955e773d-046d-48ef-8fcd-736812146028",
   "metadata": {
    "tags": []
   },
   "outputs": [],
   "source": [
    "#Question 9\n",
    "data = query(\n",
    "    {\n",
    "        \"inputs\": {\n",
    "            \"source_sentence\": \"Ebisu explains (in Chapter 90) that to perform a ninjutsu or genjutsu, a shinobi needs to go through 2 steps. 1. Build up the necessary amount of chakra for that jutsu. 2. Control the chakra for that jutsu using various hand seals. Haku's ability to do hand seals with one hand shows his exceptional skill in the chakra control (at step 2). There are other ways in which a shinobi's prowess with hand seals has been demonstrated. Senju Tobirama could use the Water Dragon Bullet Technique with just one hand seal, while it normally requires 44. Uchiha Sasuke has been able to use Chidori without any hand seals, and Fire Techniques with just one hand seal. (He needed more seals for both the jutsu when he started.) The other shinobi shown to be capable of one-handed seals is Guren from the Three Tails filler arc. (Source: Narutopedia)\",\n",
    "            \"sentences\": [\n",
    "                \"Haku's ability to perform hand seals with only one hand is not explicitly explained in the manga or anime. It is possible that it is a unique skill that Haku possesses, but it is not mentioned as a specific technique or jutsu. It is also possible that it is simply a result of Haku's exceptional skill and proficiency in using hand seals. Regardless of the reason, it is clear that Haku's ability to perform hand seals with only one hand is a remarkable feat that sets him apart from other ninja.\"]\n",
    "        }\n",
    "    })"
   ]
  },
  {
   "cell_type": "code",
   "execution_count": 61,
   "id": "1611bc32-7b97-4047-aa6c-bb189cae84b5",
   "metadata": {
    "tags": []
   },
   "outputs": [
    {
     "name": "stdout",
     "output_type": "stream",
     "text": [
      "[0.699626624584198]\n"
     ]
    }
   ],
   "source": [
    "print(data)"
   ]
  },
  {
   "cell_type": "code",
   "execution_count": 66,
   "id": "93fba8ba-fac7-45e2-9c7b-3e8932e889b5",
   "metadata": {
    "tags": []
   },
   "outputs": [],
   "source": [
    "#Question 10\n",
    "data = query(\n",
    "    {\n",
    "        \"inputs\": {\n",
    "            \"source_sentence\": \"Naruto only used this jutsu one time in normal form (against Kakuzu, and got many side effects, like you said), the other times he was at Sage mode, at this state he didn't damage himself. According to Naruto Wiki: Naruto later improved the Rasenshuriken with Sage Mode. This allows him to throw it at his opponents, and removes the threat of damaging himself with the technique.\",\n",
    "            \"sentences\": [\n",
    "                \"Naruto is able to use Rasenshuriken without any side effects after the battle with Kakuzu because he learned senjutsu and infused the Rasenshuriken with senjutsu chakra. This maintains the shape of the Rasenshuriken after formation, allowing him to use it as a projectile and eliminating the risk of damaging himself.\"]\n",
    "        }\n",
    "    })"
   ]
  },
  {
   "cell_type": "code",
   "execution_count": 68,
   "id": "6c2f8ab8-88e7-49e5-a037-0295de276c82",
   "metadata": {
    "tags": []
   },
   "outputs": [
    {
     "name": "stdout",
     "output_type": "stream",
     "text": [
      "[0.7184171080589294]\n"
     ]
    }
   ],
   "source": [
    "print(data)"
   ]
  },
  {
   "cell_type": "code",
   "execution_count": 70,
   "id": "6915092d-6e0b-4924-b101-1674732e9333",
   "metadata": {
    "tags": []
   },
   "outputs": [],
   "source": [
    "#Question 11\n",
    "data = query(\n",
    "    {\n",
    "        \"inputs\": {\n",
    "            \"source_sentence\": \"The most common one I know of and I think you are talking about is the Body Flicker Technique (also known as Teleportation Jutsu, or Shunshin no Jutsu). The Body Flicker Technique is a high-speed movement technique, allowing a ninja to move short to long distances at an almost untraceable speed.* To an observer, it appears as if the user has teleported. A puff of smoke is occasionally used to disguise the user's movements. It is accomplished by using chakra to temporarily vitalise the body and move at extreme speeds. The amount of chakra required depends on the overall distance and elevation between the user and the intended destination.\",\n",
    "            \"sentences\": [\n",
    "                \"The jutsu is called Body Flicker Technique (瞬身の術, Shunshin no Jutsu). It is a high-speed movement technique used by ninjas to move at extremely high speeds, appearing to disappear and reappear at will. The technique is often used by Anbu members when they are dismissed, as it allows them to quickly leave the area without being noticed. Kakashi, Gai, Genma, Kabuto, and many other ninjas are known to use this technique.\"]\n",
    "        }\n",
    "    })"
   ]
  },
  {
   "cell_type": "code",
   "execution_count": 72,
   "id": "af92d7a7-41bf-49b2-bb0a-6f2a4f77ecaf",
   "metadata": {
    "tags": []
   },
   "outputs": [
    {
     "name": "stdout",
     "output_type": "stream",
     "text": [
      "[0.7501006126403809]\n"
     ]
    }
   ],
   "source": [
    "print(data)"
   ]
  },
  {
   "cell_type": "code",
   "execution_count": 78,
   "id": "ceff6b9c-4d8e-4631-be1a-c41f67deaeeb",
   "metadata": {
    "tags": []
   },
   "outputs": [],
   "source": [
    "#Question 12\n",
    "data = query(\n",
    "    {\n",
    "        \"inputs\": {\n",
    "            \"source_sentence\": \"What everyone was saying was partially correct. The Sharingan is a kekkei-genkai made for the Uchiha Clan. Since Kakashi isn't native to this clan, he's only able to use his Sharingan after once in awhile. As said before, he used it in the beginning of the series and was out for about a week or two from using too much chakra. Consumption of all of your chakra will cause you to die. Now with his Mangekyo Sharingan, he cannot use it much. The example that comes quickly to my head is when Kakashi and Naruto were chasing Deidara during the Gaara Retrieval arc. Kakashi specifically quoted that, We have to end this soon. I can only activate the Mangekyo probably one more time. In the current manga, he can only keep up with using his Mangekyo Sharingan with the help from the Kyuubi's aura/chakra. It consumes way too much chakra for him.\",\n",
    "            \"sentences\": [\n",
    "                \"The document does not provide a clear answer as to why Kakashi does not use his copy ability more often. However, it does mention that Kakashi's use of Kamui, a technique he can use with his Sharingan to teleport himself or others, demands a great deal of chakra and can damage his vision with repeated use. It is possible that Kakashi is cautious about using his Sharingan too much due to these limitations. Additionally, the document mentions that Kakashi has his own personal touches when copying techniques, which may suggest that he prefers to use his own versions of techniques rather than relying solely on copies. However, without further information, it is difficult to say for certain why Kakashi does not use his copy ability more often.\"]\n",
    "        }\n",
    "    })"
   ]
  },
  {
   "cell_type": "code",
   "execution_count": 80,
   "id": "8a918730-24d4-45b7-a57e-4b249fa19e4d",
   "metadata": {
    "tags": []
   },
   "outputs": [
    {
     "name": "stdout",
     "output_type": "stream",
     "text": [
      "[0.5816881060600281]\n"
     ]
    }
   ],
   "source": [
    "print(data)"
   ]
  },
  {
   "cell_type": "code",
   "execution_count": 82,
   "id": "221fc474-1e41-4703-8f33-e02e7d733b48",
   "metadata": {
    "tags": []
   },
   "outputs": [],
   "source": [
    "#Question 13\n",
    "data = query(\n",
    "    {\n",
    "        \"inputs\": {\n",
    "            \"source_sentence\": \"Most of them didn't know. It was a secret to protect Naruto. Just a few people knew it. I found proof on this site: Suddenly orphaned, Naruto was left to grow up knowing nothing of his parents, receiving only his mother's last name because the Third Hokage thought that it was best that nobody knew that he was related to the Fourth Hokage. They found it here: Naruto chapter 440, page 5\",\n",
    "            \"sentences\": [\n",
    "                \"No, the villagers are not aware that Naruto is the son of Minato and Kushina. They only know that he has the Kyuubi sealed inside of him. The only characters that are aware of his parentage are Kakashi and Jiraiya.\"]\n",
    "        }\n",
    "    })"
   ]
  },
  {
   "cell_type": "code",
   "execution_count": 84,
   "id": "d09b6977-bf7b-4fe2-b435-04fe7b0cc56b",
   "metadata": {
    "tags": []
   },
   "outputs": [
    {
     "name": "stdout",
     "output_type": "stream",
     "text": [
      "[0.6078211665153503]\n"
     ]
    }
   ],
   "source": [
    "print(data)"
   ]
  },
  {
   "cell_type": "code",
   "execution_count": 86,
   "id": "382fbc85-2e01-46d9-9e82-1355229760cc",
   "metadata": {
    "tags": []
   },
   "outputs": [],
   "source": [
    "#Question 14\n",
    "data = query(\n",
    "    {\n",
    "        \"inputs\": {\n",
    "            \"source_sentence\": \"No not everyone will become a Jonin. As you may have noticed, some ninja like Naruto don't even become Chuunin. Naruto is a rare example however. In order to become a jonin, a ninja must be extremely skilled. Jōnin are generally able to use at least two types of elemental chakra, some genjutsu, and above average taijutsu skills. They are usually also appointed to A and/or S ranked missions alone while those under the Jonin rank usually go with a team, or not at all.\",\n",
    "            \"sentences\": [\n",
    "                \"Not every ninja who becomes a chunin becomes a jonin if they live long enough. In Naruto, Tsunade promoted Lee and Tenten to chunin, while Neji was promoted to jonin. This suggests that some ninjas remain a chunin forever, while others are promoted to jonin.\"]\n",
    "        }\n",
    "    })"
   ]
  },
  {
   "cell_type": "code",
   "execution_count": 88,
   "id": "a86b197d-b4aa-4bc6-ba88-3108e836b04c",
   "metadata": {
    "tags": []
   },
   "outputs": [
    {
     "name": "stdout",
     "output_type": "stream",
     "text": [
      "[0.8010317087173462]\n"
     ]
    }
   ],
   "source": [
    "print(data)"
   ]
  },
  {
   "cell_type": "code",
   "execution_count": 90,
   "id": "af29579b-8b59-4d6a-a142-500579ae2cd5",
   "metadata": {
    "tags": []
   },
   "outputs": [],
   "source": [
    "#Question 15\n",
    "data = query(\n",
    "    {\n",
    "        \"inputs\": {\n",
    "            \"source_sentence\": \"Yes, a child can inherit both clans' jutsu. This was officially explained by Masashi Kishimoto(the creator of Naruto) The child with an Uchicha and a Hyuga as parents will have both the clans' eyes. While Inojin is not a good example as the techniques of his father Sai were taught to him.The Ninja art techniques are not passed via genetic inheritance. Also, Ino's clan techniques are classified as Hidden techinques which use Yin/Yang release which are also taught/learned not passed via genetics. A good example would be an Uchiha + Hyuga child as answered by Kishimoto himself -\",\n",
    "            \"sentences\": [\n",
    "                \"Yes, it is possible for a child in Naruto to inherit both abilities from their parents' clans. However, it is not explicitly stated in the documents provided whether Ino and Sasuke's child would have both the Sharingan and the Mind Transfer Jutsu. In the Naruto universe, a child can inherit abilities from both parents, but it depends on the specific abilities and how they are passed down. In the case of the Sharingan, it is a dōjutsu that can be transplanted into non-Uchiha, but they are unable to deactivate it and its use has a greater chakra demand for them than for actual Uchiha. The Mind Transfer Jutsu, on the other hand, is a technique specific to the Yamanaka clan. It is not explicitly stated whether it can be inherited or passed down to non-Yamanaka clan members. Therefore, while it is possible for a child in Naruto to inherit both abilities from their parents' clans, it is not explicitly stated whether Ino and Sasuke's child would have both the Sharingan and the Mind Transfer Jutsu.\"]\n",
    "        }\n",
    "    })"
   ]
  },
  {
   "cell_type": "code",
   "execution_count": 92,
   "id": "38ddd0d6-f395-4ee8-8f41-fdae42e5cd1a",
   "metadata": {
    "tags": []
   },
   "outputs": [
    {
     "name": "stdout",
     "output_type": "stream",
     "text": [
      "[0.6871796250343323]\n"
     ]
    }
   ],
   "source": [
    "print(data)"
   ]
  },
  {
   "cell_type": "code",
   "execution_count": 95,
   "id": "b9bea6e4-2f6c-4af2-b665-9d98f1bfd7db",
   "metadata": {
    "tags": []
   },
   "outputs": [],
   "source": [
    "#Antworten von ChatGPT\n",
    "#Question 1\n",
    "data = query(\n",
    "    {\n",
    "        \"inputs\": {\n",
    "            \"source_sentence\": \"Naruto and Hinata - Bolt (Boruto) and Himawari; Sasuke and Sakura - Salad (Sarada); Shikamaru and Temari - Shikadai; Chouji and Karui - Chouchou; Ino and Sai - Inojin; Kurenai and Asuma - Mirai Sarutobi; Kiba is shown with Tamaki, but we don't even know if there's anything going on between them. Rock Lee is shown training with a kid that looks like him, and Tenten is shown right after that, so maybe that's their kid, or maybe some kid who emulated Lee like he had emulated Guy before.\",\n",
    "            \"sentences\": [\n",
    "                \"In the final chapter of Naruto and the Naruto Gaiden series, as well as in the sequel series Boruto: Naruto Next Generations, several major characters from the Naruto series are shown to have married and had children. Here is the complete list of known husband-wife-children sets: 1. Naruto Uzumaki & Hinata HyugaChildren: Boruto Uzumaki (son) Himawari Uzumaki (daughter) Naruto, the Seventh Hokage, marries Hinata Hyuga, and they have two children: Boruto, who is the protagonist of Boruto: Naruto Next Generations, and Himawari. 2. Sasuke Uchiha & Sakura Haruno Child: Sarada Uchiha (daughter) Sasuke and Sakura marry, and they have a daughter named Sarada, who is one of the main characters in Boruto. 3. Shikamaru Nara & Temari (of Sunagakure) Child: Shikadai Nara (son) Shikamaru and Temari get married, and their son, Shikadai, is a prominent figure in Boruto. 4. Sai & Ino Yamanaka Child: Inojin Yamanaka (son) Sai and Ino marry, and their son, Inojin, inherits the abilities of both parents, including the Yamanaka clan’s Mind Transfer jutsu. 5. Choji Akimichi & Karui (of Kumogakure) Child: Chocho Akimichi (daughter) Choji marries Karui from the Hidden Cloud Village, and they have a daughter named Chocho, who plays a key role in Boruto. 6. Kurenai Yuhi & Asuma Sarutobi (Note: This relationship predates the final chapter, but their child appears in the epilogue) Child: Mirai Sarutobi (daughter) Asuma dies during the Naruto Shippuden storyline, but Kurenai raises their daughter, Mirai Sarutobi, who grows up to be a strong ninja. 7. Rock Lee (Unknown Spouse) Child: Metal Lee (son) Rock Lee has a son named Metal Lee, though the identity of Metal's mother is not revealed in either the manga or the anime. 8. Kiba Inuzuka & Tamaki (of the Land of Fire) Children: None known, but they are shown to be a couple. Kiba is seen in a relationship with Tamaki, a girl who lives in a village that sells cats, but they don't have children shown in the series. 9. Gaara (Kazekage of Sunagakure) Child: None, but he adopts a son named Shinki. Gaara does not marry, but he adopts a boy named Shinki, who inherits Gaara’s magnet release ability and wields iron sand. 10. Inoichi Yamanaka & Unnamed Wife Child: Ino Yamanaka (daughter) While not a new marriage post-Naruto, Inoichi’s wife is briefly mentioned. Their daughter, Ino, marries Sai. This list includes all the known marriages and child relationships revealed after the final chapter of Naruto, specifically focusing on the key characters and their families.\"]\n",
    "        }\n",
    "    })"
   ]
  },
  {
   "cell_type": "code",
   "execution_count": 97,
   "id": "fc91652e-fbfc-4b8f-b33d-b04250db6105",
   "metadata": {
    "tags": []
   },
   "outputs": [
    {
     "name": "stdout",
     "output_type": "stream",
     "text": [
      "[0.3342078924179077]\n"
     ]
    }
   ],
   "source": [
    "print(data)"
   ]
  },
  {
   "cell_type": "code",
   "execution_count": 99,
   "id": "19209d86-1b07-43f7-88ab-bb7ebb895b0b",
   "metadata": {
    "tags": []
   },
   "outputs": [],
   "source": [
    "#Question 2\n",
    "data = query(\n",
    "    {\n",
    "        \"inputs\": {\n",
    "            \"source_sentence\": \"According to the Naruto Wiki: Suddenly orphaned, Naruto was left to grow up knowing nothing of his parents, receiving only his mother's last name as Hiruzen believed it was best that nobody knew that he was related to the Fourth Hokage.\",\n",
    "            \"sentences\": [\n",
    "                \"Naruto uses his mother’s family name, Uzumaki, instead of his father’s family name, Namikaze, for a combination of practical and protective reasons. There are logical and canonical reasons for this, and they tie into the broader themes of secrecy and Naruto’s safety. Key Reasons: Protection from Enemies: Minato Namikaze, Naruto’s father, was the Fourth Hokage, a famous and highly respected figure. Had Naruto been given the surname Namikaze, his identity as the son of the Fourth Hokage would have been easily known. This could have made him a target for Minato's enemies, especially after the Nine-Tails attack on Konoha that killed Minato and his wife, Kushina. Since Naruto was the jinchūriki (host) of Kurama, the Nine-Tails, his life was already under threat from those seeking to use the power of the tailed beast. Keeping Naruto’s parentage hidden provided an additional layer of protection, preventing enemies of the Fourth Hokage or those interested in the Nine-Tails from targeting him due to his lineage. The Uzumaki Clan’s Legacy: The Uzumaki clan, while originally from Uzushiogakure (the Village Hidden in Whirlpools), had strong ties to Konoha. Kushina, Naruto’s mother, was a well-known kunoichi from this clan. The Uzumaki clan was known for its longevity, strong life force, and expertise in sealing techniques. The use of the Uzumaki name honored Naruto’s connection to this clan, which also had ties to Konoha’s founding through his maternal side. Moreover, since the Uzumaki clan’s village was destroyed, there were far fewer threats tied to that name compared to the Namikaze name. Konoha’s Secrecy Regarding Naruto’s Parentage: Hiruzen Sarutobi, the Third Hokage, intentionally kept the fact that Naruto was the son of Minato Namikaze a secret. This was done to protect Naruto from those who might seek to exploit or harm him because of his heritage. Very few people in the village knew about Naruto’s true parentage. By giving Naruto his mother’s surname, the Third Hokage ensured that Naruto’s connection to the Fourth Hokage would remain hidden until the right time. Naruto's Mother as the Previous Jinchūriki: Kushina Uzumaki was the previous jinchūriki of the Nine-Tails before Naruto. The Uzumaki name has a connection to jinchūriki status in this case, so it might have been easier to let Naruto carry on that name, maintaining a loose association with his mother without directly tying him to Minato. In-Universe Perspective: Naruto grew up without knowing who his parents were. He wasn’t told about his father’s identity until much later, when he was strong enough to handle the information. The decision to give him his mother’s surname was strategic and reflected Konoha’s need to protect him from external threats during his vulnerable early years. Conclusion: Naruto’s use of the Uzumaki surname was primarily for his protection, as revealing that he was the son of Minato Namikaze would have made him an even bigger target, given his status as the Nine-Tails' jinchūriki. The decision to hide his father’s identity helped shield him from both enemies and the weight of the Fourth Hokage’s legacy while he was still a child.\"]\n",
    "        }\n",
    "    })"
   ]
  },
  {
   "cell_type": "code",
   "execution_count": 101,
   "id": "cabd3381-c0ce-45ba-8c07-d59ea401a5be",
   "metadata": {
    "tags": []
   },
   "outputs": [
    {
     "name": "stdout",
     "output_type": "stream",
     "text": [
      "[0.6289685368537903]\n"
     ]
    }
   ],
   "source": [
    "print(data)"
   ]
  },
  {
   "cell_type": "code",
   "execution_count": 105,
   "id": "b256985f-1e83-44d7-88dc-c0cfa7465441",
   "metadata": {
    "tags": []
   },
   "outputs": [],
   "source": [
    "#Question 3\n",
    "data = query(\n",
    "    {\n",
    "        \"inputs\": {\n",
    "            \"source_sentence\": \"After a period of time the tailed beast will revive, so they will survive the death of the host. However, it is revealed that the tailed beasts can actually survive their jinchūriki's deaths, with the only consequence being that it will take time for them to revive without a host. Source: Narutopedia - in the second paragraph of that section.\",\n",
    "            \"sentences\": [\n",
    "                \"If a jinchūriki is killed, the fate of the tailed beast depends on the circumstances surrounding the death. In the Naruto series, the general rule is that if the jinchūriki dies, the tailed beast will also die, but the beast will eventually reform and revive over time. Let’s break down the situation: General Rule: If the jinchūriki dies: The tailed beast inside them dies as well, but not permanently. Since tailed beasts are made of chakra and are essentially living chakra entities, they cannot be killed permanently by conventional means. Over time, they will reform and revive in the world, though the process is not instantaneous and could take a considerable amount of time (which is never specified exactly). What would have happened if Orochimaru had killed Naruto? In the Search for Tsunade arc, Orochimaru attempts to kill Naruto, who is the jinchūriki of Kurama (the Nine-Tails). If Orochimaru had succeeded in killing Naruto: Kurama (the Nine-Tails) would have died alongside Naruto. However, Kurama would eventually regenerate and reappear somewhere in the world after a period of time, because tailed beasts are made of pure chakra and cannot be destroyed permanently. During the time between Naruto’s death and Kurama’s reformation, the Nine-Tails would not exist in a usable form for anyone (such as someone seeking to capture it or seal it, like Akatsuki). It would be gone temporarily, weakening any plans that relied on its immediate availability. This is why tailed beasts are such valuable assets in the world of Naruto. While they can be temporarily neutralized through the death of their jinchūriki, they will always eventually return to the world, meaning they remain a constant and inevitable force. Exceptions and Special Cases: There are a few scenarios where this general rule can be altered: Releasing the Tailed Beast Before Death: If the jinchūriki manages to release the tailed beast from their body before dying, then the tailed beast would survive without being affected by the jinchūriki’s death. For example, during Naruto’s fight with Obito, Kurama temporarily transfers some of its chakra to Minato and other shinobi to help in the battle. In this case, Kurama wouldn't die if Naruto died, as it was outside Naruto's body at the time. Sacrificing the Jinchūriki: Some individuals, such as Kushina Uzumaki (Naruto’s mother), had the ability to keep the tailed beast contained for a short time after they were mortally wounded. Kushina was able to restrain Kurama after it was extracted from her, buying time for Minato to seal the Nine-Tails into Naruto. Sealing or Capturing the Tailed Beast: If the jinchūriki dies and there is a nearby opportunity to capture the tailed beast or seal it into another vessel (such as the Demonic Statue of the Outer Path or a new jinchūriki), this could prevent the tailed beast from regenerating freely in the world. Tailed Beast Extraction: As seen when the Akatsuki extract tailed beasts from their jinchūriki, this process kills the jinchūriki. The extraction separates the tailed beast’s chakra from the host’s body, resulting in the jinchūriki’s death but leaving the tailed beast alive, which can then be resealed into the Demonic Statue or another host. Conclusion: If Orochimaru had killed Naruto, Kurama (the Nine-Tails) would have died as well but would eventually revive somewhere in the world over time. The tailed beast's revival is inevitable due to its nature as a chakra-based entity, but the timing of its return is unpredictable, leaving a period of time where the Nine-Tails would be absent from the world.\"]\n",
    "        }\n",
    "    })"
   ]
  },
  {
   "cell_type": "code",
   "execution_count": 107,
   "id": "2d13108f-b82f-4fe3-b88d-15a0aeaef159",
   "metadata": {
    "tags": []
   },
   "outputs": [
    {
     "name": "stdout",
     "output_type": "stream",
     "text": [
      "[0.7287462949752808]\n"
     ]
    }
   ],
   "source": [
    "print(data)"
   ]
  },
  {
   "cell_type": "code",
   "execution_count": 109,
   "id": "66f71c20-6ca6-4204-91d9-d3a7607e41a2",
   "metadata": {
    "tags": []
   },
   "outputs": [],
   "source": [
    "#Question 4\n",
    "data = query(\n",
    "    {\n",
    "        \"inputs\": {\n",
    "            \"source_sentence\": \"Kakashi and Obito awoke their Mangekyou at the same time: when Kakashi killed Rin. Obito and Kakashi's Mangekyou awakened. Obito (left) and Kakashi (right) awakening their Mangekyou. From chapter 605, pages 4 and 5. Now, as for why Kakashi never used it before his fight with Deidara, I think there's no definitive answer. However, I can think of two different educated guesses: one is in-universe, while the other is out-of-universe. In-universe explanation: As you said, Kakashi was either unaware of or unable to control his Mangekyou Sharingan. I tend to think the former is the case, since he passed out as soon as he awoke his Mangekyou, and probably had no memory of awakening it (Kakashi's page on Naruto wiki seems to agree with this explanation). If this is the case, after his fight with Itachi he most likely tested to see if he had the Mangekyou, finding out he did, and thus trained in order to perfect its use. Out-of-universe explanation: Kishimoto hadn't thought the whole story through. Since Tobi had not made an appearance in the first Naruto series, Kishi had not yet thought about who he would be. If this is the case, then Kakashi's back story had not yet been planned, as well as Obito's. This would make it plausible that Kakashi was not initially planned to have a Mangekyou, since his is transplanted. After the Kakashi Gaiden, however, the important characters are all introduced, which means he had most likely planned for Obito to be Tobi, and about the link between his and Kakashi's Sharingan.\",\n",
    "            \"sentences\": [\n",
    "                \"Great questions! Let’s break this down by addressing each part in detail. 1. When did Kakashi and Obito awaken their Mangekyou Sharingan? Both Kakashi and Obito awakened their Mangekyou Sharingan at the same time—when Rin Nohara died at Kakashi’s hands in Chapter 604 of the manga. This traumatic event satisfied the requirement for unlocking the Mangekyou Sharingan: experiencing the loss of someone close to you. Since Obito gave his left Sharingan to Kakashi and kept the right one for himself, their eye powers are linked, which is why both of them awakened the Mangekyou Sharingan simultaneously at Rin’s death.Kakashi’s Awakening: When Kakashi unintentionally kills Rin, his intense emotional trauma from the event causes his Sharingan to evolve into the Mangekyou Sharingan. Obito’s Awakening: At the same moment, Obito is watching from a distance and feels the shock and pain of Rin’s death. This trauma awakens his own Mangekyou Sharingan in his right eye. 2. Was Kakashi aware of his Mangekyou Sharingan before facing Itachi?It is implied that Kakashi was unaware of his Mangekyou Sharingan for a long time, even though he had awakened it during Rin's death. Here are some reasons why:Lack of Uchiha Knowledge: Kakashi was not an Uchiha and did not have access to the wealth of knowledge about the Sharingan that the Uchiha clan members were privy to. As a result, Kakashi likely did not fully understand the powers of his eye or how to unlock them. While Kakashi had the Sharingan for years, it wasn’t naturally his, and without proper guidance or training, he wouldn’t have known about the Mangekyou’s specific activation conditions or abilities.No Immediate Proficiency: Even if Kakashi did awaken the Mangekyou Sharingan, it is highly likely that he did not know how to consciously activate or control its abilities for a long time. The first time Kakashi is shown actively using his Mangekyou Sharingan technique, Kamui, is in Naruto: Shippuden, during the Rescue Gaara Arc when he uses it to warp Deidara's arm.3. Why didn’t Kakashi use the Mangekyou Sharingan before Shippuden?Unawareness of its Existence: As mentioned, Kakashi likely didn’t realize he had unlocked the Mangekyou Sharingan after Rin’s death. Without understanding it, he couldn’t use its powers consciously.Training Post-Itachi Fight: After Kakashi’s fight with Itachi Uchiha in Part 1, where he is devastated by Itachi's Tsukuyomi, Kakashi likely realized the limitations of his regular Sharingan and began to research and train with his eye, eventually mastering his Mangekyou Sharingan before the events of Shippuden. This explains why in the Rescue Gaara Arc, Kakashi can now use the Mangekyou Sharingan (Kamui) and is far more proficient in facing Sharingan-based attacks like Itachi’s genjutsu.4. Did Obito awaken his Mangekyou Sharingan at the same time as Kakashi?Yes, Obito’s Mangekyou Sharingan was also awakened at the same moment when Rin died. This is because Kakashi and Obito share the same pair of Sharingan eyes (Kakashi has Obito’s left eye, while Obito retained his right). Due to their spiritual and physical link, both eyes awakened the Mangekyou Sharingan simultaneously as they are part of the same set.Emotional Trauma Trigger: Obito, witnessing Kakashi kill Rin from a distance, was overwhelmed with the same grief and trauma, which is the requirement to activate the Mangekyou Sharingan. As a result, his right eye also evolved into the Mangekyou at that moment, even though Kakashi was far away.5. Shared Powers Between Kakashi and Obito’s Mangekyou SharinganBoth Kakashi and Obito’s Mangekyou Sharingan grant access to the same dimension via Kamui, a space-time ninjutsu, but they use the ability differently:Kakashi’s left eye: Can use Kamui to create a long-range portal that warps objects or targets into the Kamui dimension from a distance. This technique was first seen during the battle against Deidara in Naruto: Shippuden.Obito’s right eye: Allows him to enter the Kamui dimension himself, granting him the ability to make parts of his body intangible and to teleport in and out of the Kamui dimension. This ability makes Obito extremely difficult to hit in battle.Their abilities are linked because both eyes are part of the same pair, and their activation of the Mangekyou Sharingan was synchronized by the same traumatic event—Rin’s death.Summary:Kakashi and Obito awakened their Mangekyou Sharingan simultaneously when Rin died.Kakashi was likely unaware of his Mangekyou Sharingan until after his encounter with Itachi, and it took time for him to train and learn how to use it.Obito also awakened his Mangekyou Sharingan at the same moment because of his emotional trauma at seeing Rin die.The reason Kakashi didn't use his Mangekyou Sharingan in Part 1 of Naruto is because he was either unaware of it or had not yet mastered it, but he developed his skills later by the time Shippuden begins.The shared nature of their abilities due to their linked Sharingan eyes explains why both can use Kamui but in different ways.\"]\n",
    "        }\n",
    "    })"
   ]
  },
  {
   "cell_type": "code",
   "execution_count": 111,
   "id": "17c9c9d7-4ecc-4034-bf95-fb36144aaa10",
   "metadata": {
    "tags": []
   },
   "outputs": [
    {
     "name": "stdout",
     "output_type": "stream",
     "text": [
      "[0.7470735907554626]\n"
     ]
    }
   ],
   "source": [
    "print(data)"
   ]
  },
  {
   "cell_type": "code",
   "execution_count": 113,
   "id": "72087556-d690-418e-b916-838dd8582474",
   "metadata": {
    "tags": []
   },
   "outputs": [],
   "source": [
    "#Question 5\n",
    "data = query(\n",
    "    {\n",
    "        \"inputs\": {\n",
    "            \"source_sentence\": \"After Madara receives his right eye from Zetsu, he stuns all the Tailed Beasts and began the process of sealing them up into the Demonic Statue. Yang Kurama, knowing that he will be pulled out of Naruto for certain, contacted Gaara to have Yin Kurama (within Minato's body) sealed into Naruto. But just as Minato was transferring Yin Kurama into Naruto, Black Zetsu (in Obito's body) interferes. Obito regains control of his body and prevents Zetsu from delivering the left Rinnegan eye and Yin Kurama to Madara. Obito then teleports the gang to Kamui dimension. There, Yin Kurama was successfully transferred into Naruto. After the epic fight with Sasuke, Yang Kurama rejoins Naruto. The Yin and Yang halves merge together and formed the complete state of Kurama.\",\n",
    "            \"sentences\": [\n",
    "                \"The Yin half of Kurama did not die with Minato. After Minato’s death during the Fourth Great Ninja War, the Yin half of Kurama was transferred into Naruto, giving him possession of both the Yin and Yang halves of the Nine-Tails.Here’s a breakdown of the events:1. Kurama’s Yin and Yang Halves:When Minato Namikaze, Naruto’s father, sealed Kurama into Naruto at his birth, he split Kurama’s chakra into two halves:Yin Kurama (the darker, more spiritual side) was sealed inside Minato using the Dead Demon Consuming Seal (Shiki Fujin).Yang Kurama (the physical, more active side) was sealed inside Naruto.For most of Naruto's life, he only had the Yang half of Kurama sealed inside him.2. Minato’s Death and Reanimation:During the Fourth Great Ninja War, Minato was reanimated (brought back to life using Edo Tensei). As part of his reanimation, he retained the Yin half of Kurama, which had been sealed inside him since his death.3. Naruto’s Near-Death and Yin Kurama’s Transfer:In the war, during Naruto’s fight with Madara Uchiha, Naruto had Yang Kurama forcibly extracted from him by Madara. Normally, when a tailed beast is extracted, the jinchūriki dies, and Naruto was on the verge of death.To save him, Minato (still reanimated at this point) transferred Yin Kurama into Naruto to replace the Yang half that had been extracted. This stabilized Naruto and kept him alive.4. After the Fight with Sasuke:At the end of the Fourth Great Ninja War, after the fight with Sasuke, Naruto retained both the Yin and Yang halves of Kurama within him.Yin Kurama (from Minato) and Yang Kurama (later freed from the Gedo Statue) were reunited inside Naruto, giving him the full power of Kurama.Conclusion:The Yin half of Kurama did not die with Minato. Instead, it was sealed inside Minato until he was reanimated during the Fourth Great Ninja War. Afterward, the Yin half was transferred to Naruto.Following the war and Naruto’s fight with Sasuke, Naruto became the jinchūriki of both the Yin and Yang halves of Kurama, meaning he now had the complete power of the Nine-Tails within him.\"]\n",
    "        }\n",
    "    })"
   ]
  },
  {
   "cell_type": "code",
   "execution_count": 115,
   "id": "6ec93ce8-6dab-4227-87ae-9217d45e9e33",
   "metadata": {
    "tags": []
   },
   "outputs": [
    {
     "name": "stdout",
     "output_type": "stream",
     "text": [
      "[0.7214176058769226]\n"
     ]
    }
   ],
   "source": [
    "print(data)"
   ]
  },
  {
   "cell_type": "code",
   "execution_count": 119,
   "id": "3005e661-de34-4299-806b-20c76dafe43c",
   "metadata": {
    "tags": []
   },
   "outputs": [],
   "source": [
    "#Question 6\n",
    "data = query(\n",
    "    {\n",
    "        \"inputs\": {\n",
    "            \"source_sentence\": \"Kakashi became a Genin at the age of 5 and Chunin at 6. Obito became a Genin at the age of 9 and Chunin at the age of 11. It was around the time when Obito became Chunin that Kakashi was promoted to Jonin. Obito then died at the age of 13, which was almost two years after his promotion to Chunin. From this thread on narutoforums (emphasis mine): It is impossible for both Kakashi and Obito to have been 13 during the Kakashi Gaiden, because there is at least a confirmed 4 year age difference between Kakashi and Obito when they were confirmed to both be Genin teammates during the Chuunin Exams. They entered the academy the same time, and they all graduated the academy together as teammates. Kakashi was at least 4 years younger than both of his teammates at all times. There is no possible way that Kakashi was a 13 year old Jonin during the Kakashi Gaiden. At this idea that he was 13 isn't even supported in the databooks, either. It's time we all got our facts straight. If Obito died at 13, then Kakashi was most likely 9 during the Kakashi Gaiden. It is impossible for these two teammates to have ever been the same age. Kakashi was 13 during the Kyuubi attack on Konoha. There is a 4 year difference between the events of the Kakashi Gaiden and the events of the night Naruto was born. Also, from the talk page of Obito Uchiha on Naruto wiki Obito-Kakashi timeline is based on the anime mostly and pre-chapter 599 manga/databook stuff. Kakashi graduated the academy as 5 years old, Rin and Obito as 9. Obito is 3 years 7 months older from Kakashi. They all took the same Chunin Exam, with Kakashi having managed to become a Chunin in it at the age of 6, while Obito age 10 failed. Obito trainer hard, took the next exams and became a Chunin at 11. Obito got crushed by boulders as 13 years old, that means Kakashi was 9-10 at the latest in the Gaiden. Kakashi is now 31 so Obito died as 34. As for the youngest Jonin part, no one really knows how many official Jonin are there. If I remember correctly, Itachi wasn't officially declared as a Jonin. He got into the Anbu after he became a Chunin. So Kakashi might be the youngest Jonin. There is no definitive answer. Edit (courtesy of @Merrice Henderson): There is evidence that Kakashi made Jonin the same year that Obito and Rin made Chunin. This is an exert from Obito's wikia page: Eager for Rin's attention, Obito trained relentlessly, eventually rising to the rank of chūnin himself. His excitement was short-lived as Kakashi soon afterwards became a jōnin, once again earning Rin's praise and Obito's resentment. So, Obito was confirmed 11 when he became Chunin. If we go based on the theory that Kakashi is 4 years younger (which I am more inclined to believe), then he was 7 when he made Jonin. That would effectively make him the youngest Jonin of all time. If Kakashi was the same age as Obito and Rin, there are a few years that need to be accounted for, like: Who was he teamed with after graduation while Obito and Rin were still in the academy? What happened to Kakashi's other teammates, or was he on hiatus for that time?\",\n",
    "            \"sentences\": [\n",
    "                \"Yes, it's true that Kakashi Hatake became a Jounin at a young age, but the exact age varies depending on different sources. According to the most widely accepted information from both the manga and databooks, Kakashi became a Jounin at the age of 12 or 13.Here’s a breakdown of Kakashi's progression through the ranks:Graduated from the Academy at age 5: Kakashi was a prodigy from a young age, graduating from the Ninja Academy at just 5 years old. Became a Chunin at age 6: Kakashi was promoted to Chunin at the very young age of 6, showing his extraordinary talent early on. Became a Jounin around age 12 or 13: Kakashi was promoted to Jounin around the time of the Third Great Ninja War, during which he led a team that included Obito and Rin. This promotion happened shortly before the mission where Obito died and Kakashi received his Sharingan. The exact age of Kakashi’s promotion to Jounin is generally agreed to be 12 or 13, but some sources lean more toward 13.Is Kakashi the Youngest Jounin?Kakashi is indeed one of the youngest Jounin in Konoha’s history, but it's not officially confirmed whether he is the youngest Jounin ever. His rapid rise through the ranks is highly impressive, and he became a Jounin at an age that very few shinobi reach that rank. However, there are mentions of other prodigies, such as Itachi Uchiha, who also achieved high ranks at a young age:Itachi Uchiha became a Chunin at 10 and an ANBU Captain at 13, which is similar in terms of remarkable achievement but without explicit information on whether he officially became a Jounin before or after Kakashi at a younger age.While Kakashi's age of becoming Jounin remains around 12-13, there isn't a definitive statement in the manga or anime that he was the youngest Jounin ever. He is certainly one of the youngest and an exceptional case of early promotion due to his prodigious talent.\"]\n",
    "        }\n",
    "    })"
   ]
  },
  {
   "cell_type": "code",
   "execution_count": 121,
   "id": "5a714178-4873-4e75-9aa4-f67db82e90d8",
   "metadata": {
    "tags": []
   },
   "outputs": [
    {
     "name": "stdout",
     "output_type": "stream",
     "text": [
      "[0.7883269786834717]\n"
     ]
    }
   ],
   "source": [
    "print(data)"
   ]
  },
  {
   "cell_type": "code",
   "execution_count": 127,
   "id": "76997f7a-cedd-4967-a049-960e137ed7c3",
   "metadata": {
    "tags": []
   },
   "outputs": [],
   "source": [
    "#Question 7\n",
    "data = query(\n",
    "    {\n",
    "        \"inputs\": {\n",
    "            \"source_sentence\": \"Both Kakashi and Danzou had physically obtained their Sharingan via transplantation. During the finale of the Fourth Shinobi World War, Madara rips Kakashi's Sharingan and transplants as his left eye (Chapter 674). Naruto, using Hagaromo's power, creates a normal eye for Kakashi (Chapter 675). From Naruto Wikia article on Kakashi Hatake, merged plot summary of Chapter 686, 687 and 688 (emphasis mine): Prepared to give his life to lend what little assistance he can, Kakashi stands in front of Sasuke to take the attack while Obito does the same for Naruto. Although they are unified in their willingness to die, Obito decides it's too soon for Kakashi and uses Kamui on the attack bound for him, leaving Obito unable to save himself. Obito's body dissolves, but his spirit returns shortly afterwards and inhabits Kakashi. Obito feels that Kakashi will become the next Hokage and wishes to reward him: a temporary moment of having two Mangekyō Sharingan. Obito gave Kakashi the privilege of having both Sharingan (Mangekyou) temporarily. This was the doing of the spirit of Obito and not the physical self. Hence the Sharingan Kakashi used was spiritually influenced. Later, when Kaguya is defeated, Obito's spirit leaves Kakashi's side to join the other world. Because of the spirit leaving, the Sharingan also disappears along with it. Had the Sharingan been physically present, it would have stayed, just like Danzou, the Kotoamatsukami crow and pre-war Kakashi.\",\n",
    "            \"sentences\": [\n",
    "                \"Kakashi’s Sharingan faded after Obito’s death because Obito had temporarily given Kakashi both of his Sharingan eyes through spiritual or chakra-based means. This transfer was temporary, and once Obito’s spirit departed the physical world, the Sharingan he had granted Kakashi disappeared as well. The circumstances around Kakashi’s Sharingan and those of Danzo and Itachi are different, leading to different outcomes.Why Kakashi’s Sharingan Faded After Obito’s Death:In Chapter 691 of the manga (and during the final battle against Kaguya), after Obito dies, he uses his remaining chakra and spirit to temporarily lend both of his Mangekyou Sharingan to Kakashi. This allowed Kakashi to wield two Mangekyou Sharingan (despite normally only having one) and utilize abilities like Perfect Susano'o to help in the fight against Kaguya.This was a unique case because the Sharingan was transferred through Obito’s chakra/spirit after his death, rather than through a physical transplant of the eye. Obito’s spirit essentially empowered Kakashi with his ocular abilities to aid in the final battle. Once Obito’s spirit left the world after Kaguya’s defeat, the borrowed Sharingan faded, and Kakashi returned to normal.Difference Between Kakashi's Case and Danzo/Itachi’s Sharingan:In contrast to Kakashi’s temporary Sharingan from Obito, the Sharingan that Danzo stole from Shisui and the one Shisui gave to Itachi were physically transplanted eyes. Here's why these Sharingan remained active:Danzo and Itachi’s Sharingan were physical transplants:Danzo took one of Shisui Uchiha’s eyes and had it surgically implanted into his right eye socket. This was a permanent physical transplant, so the Sharingan functioned as long as Danzo lived and was physically capable of using it.Itachi was directly gifted Shisui's other eye by Shisui himself, and it was physically implanted into one of Itachi’s crows for future use. This Sharingan also retained its abilities because it was transplanted, not just temporarily borrowed through chakra or spirit.Sharingan operates independently of the original owner: When a Sharingan eye is physically transplanted, it can function independently of the original owner’s life force, as long as the host has the chakra necessary to power it. This is why Danzo's Sharingan continued working even after Shisui died.Kakashi’s Sharingan Pre-Obito’s Death:Before the events of the final battle, Kakashi's original Sharingan (the one in his left eye) was a physical transplant from Obito, which is why it functioned for so many years. Even after Obito died (or was presumed dead), Kakashi was able to use his Sharingan because it had been physically implanted and fueled by his own chakra.However, after Madara forcibly removed Kakashi's original Sharingan during the war, he no longer had a Sharingan until Obito's spirit temporarily lent him both of his eyes.Conclusion:Kakashi's Sharingan faded after Obito's death because the eyes were temporarily transferred through spiritual means, not through a permanent physical transplant like Danzo and Itachi's Sharingan. Once Obito’s spirit passed on, the connection that allowed Kakashi to use the Mangekyou Sharingan disappeared, and his Sharingan faded away. In contrast, Danzo and Itachi’s transplanted Sharingan remained functional because they were physically implanted and not dependent on the original owner's life force or spirit.\"]\n",
    "        }\n",
    "    })"
   ]
  },
  {
   "cell_type": "code",
   "execution_count": 129,
   "id": "bfc61ebe-ba89-4ec4-86a4-773904a2fbf3",
   "metadata": {
    "tags": []
   },
   "outputs": [
    {
     "name": "stdout",
     "output_type": "stream",
     "text": [
      "[0.8520556688308716]\n"
     ]
    }
   ],
   "source": [
    "print(data)"
   ]
  },
  {
   "cell_type": "code",
   "execution_count": 133,
   "id": "3e5866fc-b955-4412-8422-ee5f470787b9",
   "metadata": {
    "tags": []
   },
   "outputs": [],
   "source": [
    "#Question 8\n",
    "data = query(\n",
    "    {\n",
    "        \"inputs\": {\n",
    "            \"source_sentence\": \"Well the difference is quite simple. the Inuzuka clan's dogs are simple dogs. They can understand human language very well and are the sidekicks of the Inuzuka. Kiba and Akamaru understand each other by Hand Wave. This is not explained any further as it is prescriptive. Kakashi's dogs on the other hand are Summoned. They are not real dogs but spirits, comparable to Gamabunta, Gamakichi and the other Kuchiose No Jutsu summoned animals.\",\n",
    "            \"sentences\": [\n",
    "                \"The reason Inuzuka clan's dogs, like Akamaru, can't use human language while Kakashi's ninken can, lies in the differences between their respective bonds, training, and possibly the magical nature of the summoning jutsu. Here's a detailed breakdown of the two cases:1. Inuzuka Clan’s Dogs and Communication:The Inuzuka clan's dogs, such as Akamaru, are not ordinary dogs but are still more dog-like in behavior and abilities. They communicate with their human partners, like Kiba, through non-verbal cues, body language, and sounds (like barking or growling).The bond between an Inuzuka clan member and their dog is incredibly strong, allowing them to understand each other perfectly without the need for words. Kiba, for example, has been raised alongside Akamaru since they were both very young, so their connection is based on intense training, shared experiences, and instinctive understanding.Kiba and Akamaru communicate telepathically in a sense, relying on their unique partnership. Kiba has stated many times that he can understand what Akamaru is saying by reading his barks, growls, and actions.The Inuzuka’s fighting style heavily revolves around teamwork with their canine companions, and this mutual understanding is a product of extensive training and their clan’s unique ninjutsu, rather than verbal communication.2. Kakashi's Ninken and Human Language:Kakashi's ninken (ninja dogs), in contrast, are summoned creatures, brought forth through a summoning contract rather than being raised and trained from birth like the Inuzuka dogs. The ninken are more mystical in nature and appear to have higher intelligence.These dogs are capable of human speech, possibly due to the special properties of the Summoning Jutsu or their role as summoned beings. The ninken have been seen speaking normally to Kakashi and others, exhibiting a level of cognitive ability that allows them to understand and articulate complex ideas.It's worth noting that summoned animals in the world of Naruto often have the ability to speak, as seen with other summons like Pakkun (Kakashi's ninken), Gamabunta (the toad summon of Naruto and Jiraiya), and Manda (Orochimaru's snake summon). These creatures are tied to the summoner through a contract and possess unique abilities, including speech.3. Why Can’t Inuzuka’s Dogs Speak?Akamaru and other Inuzuka dogs are not summoned beings but are real, highly trained animals. While they are stronger and smarter than regular dogs due to their bond with the Inuzuka, they remain non-verbal animals in the traditional sense.Their communication with their owners, like Kiba, is more instinctual and empathetic rather than verbal. The Inuzuka clan's connection with their dogs is a core part of their fighting style, emphasizing trust and cooperation without the need for spoken language.4. Kiba and Akamaru’s Understanding:The deep understanding between Kiba and Akamaru is developed through years of training, familiarity, and teamwork. They are able to communicate effectively in battle and in everyday situations through:Barks, growls, and other sounds: Kiba can interpret the meaning behind Akamaru’s sounds because they’ve spent so much time together.Body language and intuition: Kiba can often understand Akamaru's thoughts based on his actions and expressions.Clan techniques: The Inuzuka clan’s jutsu, such as Four Legs Technique (Shikyaku no Jutsu) and Fang Over Fang (Gatsuuga), allows Kiba and Akamaru to fight in perfect unison. This is an example of their deep, non-verbal communication working in battle.Conclusion:The Inuzuka clan’s dogs can’t use human language like Kakashi’s ninken because they are regular dogs trained to communicate through non-verbal means, while Kakashi's ninken are mystical summons, which often have enhanced intelligence and speech abilities. Kiba and Akamaru understand each other due to their deep bond, years of training, and instinctive connection, even though they don’t speak the same language.\"]\n",
    "        }\n",
    "    })"
   ]
  },
  {
   "cell_type": "code",
   "execution_count": 135,
   "id": "bde82762-03ee-4fc7-8676-3e48513421ad",
   "metadata": {
    "tags": []
   },
   "outputs": [
    {
     "name": "stdout",
     "output_type": "stream",
     "text": [
      "[0.8283418416976929]\n"
     ]
    }
   ],
   "source": [
    "print(data)"
   ]
  },
  {
   "cell_type": "code",
   "execution_count": 142,
   "id": "79544f4e-2282-4b09-bb7a-c69f2693b701",
   "metadata": {
    "tags": []
   },
   "outputs": [],
   "source": [
    "#Question 9\n",
    "data = query(\n",
    "    {\n",
    "        \"inputs\": {\n",
    "            \"source_sentence\": \"Ebisu explains (in Chapter 90) that to perform a ninjutsu or genjutsu, a shinobi needs to go through 2 steps. 1. Build up the necessary amount of chakra for that jutsu. 2. Control the chakra for that jutsu using various hand seals. Haku's ability to do hand seals with one hand shows his exceptional skill in the chakra control (at step 2). There are other ways in which a shinobi's prowess with hand seals has been demonstrated. Senju Tobirama could use the Water Dragon Bullet Technique with just one hand seal, while it normally requires 44. Uchiha Sasuke has been able to use Chidori without any hand seals, and Fire Techniques with just one hand seal. (He needed more seals for both the jutsu when he started.) The other shinobi shown to be capable of one-handed seals is Guren from the Three Tails filler arc. (Source: Narutopedia)\",\n",
    "            \"sentences\": [\n",
    "                \"Haku's ability to perform hand seals with just one hand is indeed a unique and rare skill, and it's something that surprised even an experienced shinobi like Kakashi. This ability is never explicitly explained in-depth within the manga or anime, but there are some reasons and context for how Haku could do this:1. Natural Talent and Exceptional Skill:Haku was a prodigy with exceptional talent, particularly in ninjutsu. His ability to manipulate his Ice Release (Hyoton), a Kekkei Genkai (Bloodline Limit), was incredibly advanced for someone his age. It’s implied that he had an unusually high level of chakra control, which allowed him to perform complex techniques with a level of precision beyond most shinobi. This natural gift likely extended to his hand seal technique.2. One-Handed Seals as a Rare Technique:While hand seals typically require two hands, performing them with just one hand is an extremely rare and difficult skill. There are no formal explanations or techniques associated with it in the standard teachings of ninjutsu, but it’s not entirely unheard of in the series:Kakashi's surprise when seeing Haku perform one-handed seals indicates how unusual and advanced the technique is.In the broader world of Naruto, the ability to perform one-handed seals suggests that the shinobi has mastered exceptional chakra control and can form and manipulate chakra without needing both hands.3. Kekkei Genkai and Chakra Control:Haku’s Ice Release (Hyoton) is a combination of Water Release and Wind Release, and his control over this nature transformation was exceptional. His Kekkei Genkai might have provided him with additional chakra control that allowed him to bypass the need for both hands to perform seals. Essentially, Haku’s unique bloodline and mastery over his elemental nature may have made it possible to streamline the process of forming jutsu, needing fewer physical hand signs than other ninjas would.4. Why It’s Rare:Performing one-handed seals is seen very rarely because:It requires immense skill and chakra control.Most shinobi rely on using two hands to balance and mold chakra properly. Using just one hand makes it exponentially harder to achieve the same level of precision needed for jutsu.5. Other Instances in the Series:Although Haku is one of the few characters shown to perform one-handed seals, there are a few other instances of shinobi achieving similar feats:Minato Namikaze, the Fourth Hokage, is also shown to perform one-handed seals during his fight with Obito during the Nine-Tails attack on Konoha.In Boruto, some shinobi like Kawaki and others can also perform techniques without conventional hand seals, but this is attributed to their unique abilities rather than standard ninjutsu training.Conclusion:Haku’s ability to perform hand seals with one hand is a testament to his exceptional talent and chakra control, likely enhanced by his Kekkei Genkai (Ice Release). While it’s never fully explained how he developed this skill, it’s clearly something rare and advanced, which is why Kakashi was surprised. It isn’t commonly seen in the series because of the difficulty and expertise required to perform jutsu this way.\"]\n",
    "        }\n",
    "    })"
   ]
  },
  {
   "cell_type": "code",
   "execution_count": 144,
   "id": "a032d00d-282f-4075-87a3-641ab41f98da",
   "metadata": {
    "tags": []
   },
   "outputs": [
    {
     "name": "stdout",
     "output_type": "stream",
     "text": [
      "[0.7657454609870911]\n"
     ]
    }
   ],
   "source": [
    "print(data)"
   ]
  },
  {
   "cell_type": "code",
   "execution_count": 146,
   "id": "e8a354a9-41ca-437e-bc0d-50c981b877a6",
   "metadata": {
    "tags": []
   },
   "outputs": [],
   "source": [
    "#Question 10\n",
    "data = query(\n",
    "    {\n",
    "        \"inputs\": {\n",
    "            \"source_sentence\": \"Naruto only used this jutsu one time in normal form (against Kakuzu, and got many side effects, like you said), the other times he was at Sage mode, at this state he didn't damage himself. According to Naruto Wiki: Naruto later improved the Rasenshuriken with Sage Mode. This allows him to throw it at his opponents, and removes the threat of damaging himself with the technique.\",\n",
    "            \"sentences\": [\n",
    "                \"Naruto was originally advised against using the Rasenshuriken after his first successful attempt against Kakuzu because the technique inflicted severe damage not only on his opponent but also on Naruto himself. The Rasenshuriken creates a dense, rotating chakra structure that cuts at a microscopic level, and during that fight, Naruto had to throw himself into close range to deliver the attack. This resulted in significant damage to his own arm, including cellular damage to his chakra system, which prompted Tsunade to warn him about the dangers of using it again. Why Naruto Can Safely Use Rasenshuriken Later:Wind Release: Rasenshuriken Becomes a Ranged Attack: The major turning point in Naruto's use of the Rasenshuriken comes after he learns Sage Mode. In Sage Mode, Naruto achieves enhanced control over his chakra and nature energy. Most importantly, this allows him to throw the Rasenshuriken as a long-range projectile rather than needing to strike the opponent directly with it.When used at a distance, Naruto is no longer subjected to the harmful feedback effects of the attack. This is the key improvement that makes Rasenshuriken much safer for him to use. The destructive energy of the technique still devastates the enemy, but Naruto himself remains unharmed because he doesn’t need to make contact with the Rasenshuriken.Sage Mode and Chakra Control: With Sage Mode, Naruto gains significantly better chakra control and physical enhancements, including increased strength, speed, and sensory perception. This improved control allows him to manage the Rasenshuriken’s massive chakra output more effectively, preventing it from harming him as it did before.Six Paths Power: Later in the series, after receiving the Six Paths Sage Mode from Hagoromo Otsutsuki, Naruto’s chakra control and power grow exponentially. This further boosts his ability to use advanced techniques like Rasenshuriken without the risk of damaging himself. With this power, Naruto is not only able to use the Rasenshuriken in more complex ways (such as creating multiple versions or infusing it with other nature transformations like Lava Release and Magnet Release), but he can do so with no side effects.Summary:Naruto was initially advised against using Rasenshuriken because the technique harmed him as much as it did his opponent. However, after learning Sage Mode, he gained the ability to throw the Rasenshuriken as a ranged attack, avoiding self-damage. His chakra control and overall power also improved over time, especially with the acquisition of Six Paths Sage Mode, allowing him to use the Rasenshuriken safely and more effectively.\"]\n",
    "        }\n",
    "    })"
   ]
  },
  {
   "cell_type": "code",
   "execution_count": 148,
   "id": "bef1a053-b5a5-4bbf-8b52-9ffdc8ea32cb",
   "metadata": {
    "tags": []
   },
   "outputs": [
    {
     "name": "stdout",
     "output_type": "stream",
     "text": [
      "[0.716434895992279]\n"
     ]
    }
   ],
   "source": [
    "print(data)"
   ]
  },
  {
   "cell_type": "code",
   "execution_count": 158,
   "id": "35b12c30-3992-4528-900e-e98c26bdce09",
   "metadata": {
    "tags": []
   },
   "outputs": [],
   "source": [
    "#Question 11\n",
    "data = query(\n",
    "    {\n",
    "        \"inputs\": {\n",
    "            \"source_sentence\": \"The most common one I know of and I think you are talking about is the Body Flicker Technique (also known as Teleportation Jutsu, or Shunshin no Jutsu). The Body Flicker Technique is a high-speed movement technique, allowing a ninja to move short to long distances at an almost untraceable speed.* To an observer, it appears as if the user has teleported. A puff of smoke is occasionally used to disguise the user's movements. It is accomplished by using chakra to temporarily vitalise the body and move at extreme speeds. The amount of chakra required depends on the overall distance and elevation between the user and the intended destination.\",\n",
    "            \"sentences\": [\n",
    "                \"The technique that allows ninjas to appear and disappear instantly in Naruto is called the Body Flicker Technique (瞬身の術, Shunshin no Jutsu). This jutsu is used by many shinobi, including characters like Kakashi, Gai, Genma, Kabuto, and various ANBU members. It allows them to move at extremely high speeds, giving the appearance that they are teleporting or disappearing and reappearing instantly.How the Body Flicker Technique Works:Mechanism: The Shunshin no Jutsu involves the user moving at such rapid speed that it appears as if they vanish from one location and reappear at another almost instantaneously. However, they are not actually teleporting; it’s just an exceptionally fast movement.Chakra Enhancement: To achieve such speed, the user channels chakra into their body, particularly their legs, to boost their speed for short bursts.Visual Effects: Often, the user leaves behind a visual effect like leaves, sand, mist, or smoke, depending on their village or personal style, to further obscure the movement and enhance the illusion of disappearing. For example, in Konoha, the Body Flicker is sometimes accompanied by a swirl of leaves.Examples of Users:Kakashi Hatake: Kakashi frequently uses this technique to appear and disappear quickly, often seen during his entrances and exits, particularly when he appears late or is summoned.Gai and Genma: Both have been seen using it for rapid movement, especially in combat or when needing to quickly relocate.ANBU: Members of the ANBU (Konoha’s special forces) frequently use this technique when being dismissed or when they need to enter or exit a scene covertly and quickly.Kabuto Yakushi: Kabuto, as Orochimaru’s right hand, uses the Body Flicker to move around stealthily and avoid detection.Itachi Uchiha: Itachi uses a more advanced form of the Body Flicker, making it almost seem like he's truly teleporting due to his superior speed and chakra control.Conclusion:The Body Flicker Technique (Shunshin no Jutsu) is a common yet versatile jutsu that many shinobi use to travel short distances at high speeds, giving the illusion of instantaneous movement. It's frequently seen when shinobi need to quickly appear or disappear, particularly during missions or covert operations.\"]\n",
    "        }\n",
    "    })"
   ]
  },
  {
   "cell_type": "code",
   "execution_count": 160,
   "id": "dbd04c04-8d1f-4976-8e06-5bd1170ef097",
   "metadata": {
    "tags": []
   },
   "outputs": [
    {
     "name": "stdout",
     "output_type": "stream",
     "text": [
      "[0.751483678817749]\n"
     ]
    }
   ],
   "source": [
    "print(data)"
   ]
  },
  {
   "cell_type": "code",
   "execution_count": 162,
   "id": "54bcb964-90e3-4bc4-a2e0-bfe272d1c99b",
   "metadata": {
    "tags": []
   },
   "outputs": [],
   "source": [
    "#Question 12\n",
    "data = query(\n",
    "    {\n",
    "        \"inputs\": {\n",
    "            \"source_sentence\": \"What everyone was saying was partially correct. The Sharingan is a kekkei-genkai made for the Uchiha Clan. Since Kakashi isn't native to this clan, he's only able to use his Sharingan after once in awhile. As said before, he used it in the beginning of the series and was out for about a week or two from using too much chakra. Consumption of all of your chakra will cause you to die. Now with his Mangekyo Sharingan, he cannot use it much. The example that comes quickly to my head is when Kakashi and Naruto were chasing Deidara during the Gaara Retrieval arc. Kakashi specifically quoted that, We have to end this soon. I can only activate the Mangekyo probably one more time. In the current manga, he can only keep up with using his Mangekyo Sharingan with the help from the Kyuubi's aura/chakra. It consumes way too much chakra for him.\",\n",
    "            \"sentences\": [\n",
    "                \"Kakashi is indeed known as the Copy Ninja because of his Sharingan ability to copy other ninjas' jutsu, but as the series progresses, it becomes less prominent as a feature of his combat style. There are several reasons why Kakashi doesn’t use his copying ability as frequently, especially in later parts of the series.1. Combat Evolution and Strategy:Kakashi’s own arsenal of jutsu becomes more developed and refined over time. As he grows stronger and gains experience, he no longer needs to rely on copying jutsu as often. Kakashi already has a large number of techniques that he has copied over the years, and he’s able to use them whenever necessary.Original techniques like Chidori/Raikiri: Kakashi created his own powerful techniques, like the Chidori (and later the perfected Raikiri), which are highly effective in combat. He often relies on these original techniques instead of copying others’ jutsu.By the time we see him in combat throughout the series, he has already mastered many techniques that cover a variety of combat scenarios. He no longer needs to depend on copying in every fight because he has his own powerful techniques that are perfectly suited to different situations.2. High Chakra Consumption of the Sharingan:Sharingan drains a lot of chakra, especially for Kakashi, who is not an Uchiha and does not have the same natural compatibility with the Sharingan as Uchiha clan members do. Every time Kakashi uses the Sharingan, it puts a strain on his body and depletes his chakra reserves.Copying techniques on the spot during battle requires him to use the Sharingan constantly, which would further accelerate the chakra drain. Kakashi, being a cautious and strategic ninja, often avoids prolonged use of the Sharingan to conserve energy for critical moments, especially in longer battles.3. Fighting Stronger and Unique Opponents:As the series progresses, Kakashi often faces extremely powerful enemies who either have unique abilities that can't easily be copied or who require a more nuanced approach in battle.Bloodline limits (Kekkei Genkai) or special techniques tied to unique chakra natures, like Gaara's sand, Naruto’s Rasengan, or Haku’s Ice Release, can’t be copied. Many of the strongest opponents Kakashi faces have jutsu that are either inherently non-copyable or so advanced that copying them wouldn’t be as effective in real-time.For example, techniques like Sage Mode, Mangekyō Sharingan, or techniques involving unique chakra signatures can't be replicated simply by observing them with the Sharingan.4. Shinobi Growth Beyond Copying:As Kakashi grows as a character and a leader, his focus shifts toward using his experience, tactics, and intelligence rather than purely relying on the copying ability of his Sharingan. By the time of Naruto: Shippuden, Kakashi is a well-rounded shinobi who can use strategy, teamwork, and his wide knowledge of ninjutsu to handle various situations, making him less reliant on copying others.As the leader of Team 7 and later in his role as a mentor, Kakashi becomes more focused on teaching and leading by example, rather than relying on the ability that initially made him famous. His character evolves to embody wisdom and strategic thinking, and he prioritizes these over copying techniques.5. Story Focus Shift:The focus of the series shifts away from Kakashi’s “Copy Ninja” title as the story moves forward. The narrative centers more around Naruto, Sasuke, and other major events, leaving less time to showcase Kakashi’s copying ability. While his copying ability is still a significant part of his identity, it is not as central to the plot as it was when he was first introduced.6. Adaptation to Combat Situations:In many of his fights, Kakashi needs to react quickly and decisively. Copying techniques in the heat of battle requires observing the enemy's jutsu, understanding its mechanics, and then utilizing it effectively — all while under pressure. Since Kakashi already has a wide array of jutsu in his repertoire, it’s often faster and more practical for him to rely on those rather than attempting to copy a new technique mid-battle.Conclusion:Kakashi doesn’t use his copy ability as often later in the series because:He has evolved into a well-rounded and strategic shinobi with his own techniques.Using the Sharingan, especially for copying, is chakra-intensive, and he needs to conserve his energy for more important aspects of battle.Many of the opponents he faces have unique abilities or Kekkei Genkai that can’t be copied.As he grows, Kakashi’s reliance on the copy ability diminishes as he focuses on using his experience, leadership, and vast ninjutsu knowledge. The shift in combat style shows how he matures beyond being defined solely by his Sharingan's copying ability.\"]\n",
    "        }\n",
    "    })"
   ]
  },
  {
   "cell_type": "code",
   "execution_count": 164,
   "id": "da98e7c6-11c5-43bc-a64b-de7e96ef786a",
   "metadata": {
    "tags": []
   },
   "outputs": [
    {
     "name": "stdout",
     "output_type": "stream",
     "text": [
      "[0.47979801893234253]\n"
     ]
    }
   ],
   "source": [
    "print(data)"
   ]
  },
  {
   "cell_type": "code",
   "execution_count": 166,
   "id": "7201ef37-2c5a-45a3-b15f-2aa956ec1d49",
   "metadata": {
    "tags": []
   },
   "outputs": [],
   "source": [
    "#Question 13\n",
    "data = query(\n",
    "    {\n",
    "        \"inputs\": {\n",
    "            \"source_sentence\": \"Most of them didn't know. It was a secret to protect Naruto. Just a few people knew it. I found proof on this site: Suddenly orphaned, Naruto was left to grow up knowing nothing of his parents, receiving only his mother's last name because the Third Hokage thought that it was best that nobody knew that he was related to the Fourth Hokage. They found it here: Naruto chapter 440, page 5\",\n",
    "            \"sentences\": [\n",
    "                \"For much of Naruto’s early life, the fact that he is the son of Minato Namikaze (the Fourth Hokage) and Kushina Uzumaki is kept secret from most people in the village. The reasons for this secrecy are complex and have to do with protecting Naruto as well as maintaining stability in the village.Why Was Naruto's Parentage Kept Secret?Protection from Enemies:Minato had many enemies as a result of his time as a shinobi and the Fourth Hokage. If it had been widely known that Naruto was his son, it could have made Naruto a target for those who wanted to hurt Minato’s legacy or take revenge.Additionally, Naruto had the Nine-Tails (Kurama) sealed inside him, which already made him a target for groups like the Akatsuki. Knowing he was also the son of such a powerful figure could have put him in even greater danger.Village Stability and Resentment:After the Nine-Tails attack on Konoha, many villagers resented the Jinchuriki who had the beast sealed inside them. While Minato had sealed Kurama in Naruto to protect the village, people might have been even more resentful if they knew that their beloved Hokage’s own son carried the Nine-Tails.The Third Hokage, Hiruzen Sarutobi, likely felt that revealing Naruto’s heritage could lead to complex political issues or affect Naruto’s ability to live a normal life in the village.Who Knew About Naruto's Parents?Hiruzen Sarutobi:The Third Hokage knew about Naruto’s parentage, as he was deeply involved in the events surrounding the Nine-Tails attack and Minato’s sacrifice. However, he chose to keep this information secret, even from Naruto, to protect him.Jiraiya:Jiraiya, being Minato’s mentor, was aware of Naruto’s parentage from the beginning. He played a role in watching over Naruto from a distance, especially once Naruto became a genin and started training with him.Kakashi Hatake:Kakashi, who was a former student of Minato and closely connected to him, also knew about Naruto’s parentage. However, he kept this knowledge to himself, likely out of respect for the secrecy surrounding Naruto’s upbringing.Tsunade:As a former Hokage and being very close to Jiraiya, Tsunade likely became aware of Naruto’s parentage once she returned to the village, though she doesn’t reveal this to him either until later.ANBU and High-Ranking Officials:Some members of the ANBU Black Ops and other high-ranking shinobi (such as Danzo) might have been aware of Naruto’s parentage. However, they would have had reasons to keep it confidential, both out of respect for the Third Hokage’s wishes and for security reasons.Villagers and General Population:For the general population of Konoha, including Naruto’s peers and most shinobi, the knowledge of his parentage is not common. The villagers only knew that Naruto was the Jinchuriki of the Nine-Tails, but they were unaware that he was the son of the Fourth Hokage. The fact that he was an orphan likely led many people to not question his lineage in depth.Naruto Himself:Naruto doesn’t know about his own parentage until much later in the series. He only learns that Minato is his father during the Pain Arc, when Minato’s chakra appears to save Naruto from giving in to the Nine-Tails’ control. This revelation is a huge emotional moment for Naruto, as he had grown up without any knowledge of his parents.When Does Naruto's Parentage Become Public Knowledge?After Naruto’s heroic actions in the Fourth Great Ninja War and his role in saving the village, it becomes more widely known that he is the son of Minato Namikaze, the Fourth Hokage. By the time Naruto becomes Hokage himself, his heritage is no longer a secret, and people recognize his connection to Minato with pride.Conclusion:Initially, Naruto’s parentage is kept secret from almost everyone in the village, including Naruto himself, for his protection and to prevent complications arising from his status as a Jinchuriki. Only a few select individuals, such as Hiruzen, Jiraiya, Kakashi, and Tsunade, know the truth. Over time, this knowledge becomes more widely acknowledged, particularly after Naruto’s pivotal role in the Fourth Great Ninja War.\"]\n",
    "        }\n",
    "    })"
   ]
  },
  {
   "cell_type": "code",
   "execution_count": 168,
   "id": "cdcbef15-9921-426a-b656-a3215878cac4",
   "metadata": {
    "tags": []
   },
   "outputs": [
    {
     "name": "stdout",
     "output_type": "stream",
     "text": [
      "[0.5865273475646973]\n"
     ]
    }
   ],
   "source": [
    "print(data)"
   ]
  },
  {
   "cell_type": "code",
   "execution_count": 170,
   "id": "95172c1c-c929-458b-a679-0d67d88ec66b",
   "metadata": {
    "tags": []
   },
   "outputs": [],
   "source": [
    "#Question 14\n",
    "data = query(\n",
    "    {\n",
    "        \"inputs\": {\n",
    "            \"source_sentence\": \"No not everyone will become a Jonin. As you may have noticed, some ninja like Naruto don't even become Chuunin. Naruto is a rare example however. In order to become a jonin, a ninja must be extremely skilled. Jōnin are generally able to use at least two types of elemental chakra, some genjutsu, and above average taijutsu skills. They are usually also appointed to A and/or S ranked missions alone while those under the Jonin rank usually go with a team, or not at all.\",\n",
    "            \"sentences\": [\n",
    "                \"Not every ninja in the Naruto world necessarily becomes a Jōnin, even if they live long enough. The rank of Jōnin is a highly prestigious and difficult rank to attain, and only a select few ninjas achieve it. Many ninjas remain Chūnin for the entirety of their careers due to various factors.Here’s why not every ninja becomes a Jōnin:1. Skill and Specialization:Jōnin are considered the elite among shinobi, known for their exceptional skill, intelligence, leadership, and ability to complete high-level missions (A-rank and S-rank). Not every ninja is able to achieve this level of mastery, and some may not possess the specialized skills required to lead teams or take on the most dangerous missions.Many Chūnin are skilled in specific areas (like reconnaissance, support, or medical ninjutsu) but may lack the all-around combat prowess or leadership qualities required of a Jōnin.2. Leadership and Responsibility:Becoming a Jōnin requires not only being proficient in combat but also having the capability to lead teams and make strategic decisions under pressure. Some ninjas may not have the temperament or desire for leadership roles, preferring to specialize in their areas of expertise without moving up in rank.Jōnin often lead Genin teams or are entrusted with critical missions that require them to think strategically and manage multiple ninjas. Not all ninjas are suited for these responsibilities.3. Assessment and Promotion Process:Unlike the Chūnin Exams, where promotion can be achieved through competitive testing and performance, promotion to Jōnin is generally based on experience, contributions to the village, and the recommendation of higher-ups like the Hokage or village elders.The promotion process is selective, and not all Chūnin are chosen for Jōnin training or advancement. A ninja has to consistently prove their skills over time and show that they can handle high-stakes situations.Some ninjas may never be considered for Jōnin promotion, even after years of service, because the bar is set much higher.4. Personal Preference:Some Chūnin choose to stay at their current level and specialize in specific areas. For example, a ninja might focus on becoming an expert medic-nin or take on roles in intelligence gathering or teaching, rather than striving for the combat-oriented responsibilities of a Jōnin.For some, the duties and risks associated with being a Jōnin (like leading dangerous missions or training younger ninjas) might not appeal to them, so they remain in their current role by choice.5. Longevity and Experience:While longevity does provide more opportunities for advancement, not all Chūnin reach the level of experience or skill required to become a Jōnin. Some may serve the village for years as a Chūnin, contributing in other ways, such as performing C-rank and B-rank missions or taking on administrative or support roles within the village.Examples of Ninjas Who Remain Chūnin:Iruka Umino: A prominent example of a ninja who remains a Chūnin for the entirety of the series is Iruka, who is a skilled teacher at the Academy. Despite being a Chūnin, he plays a vital role in shaping the next generation of shinobi. His strengths lie in education and mentoring rather than combat or leadership on high-level missions.Shikamaru Nara: Although Shikamaru does become a Jōnin later in the series, he initially avoids promotion, not because of a lack of ability but because he lacked motivation. This highlights how personal circumstances can delay or prevent a Chūnin from becoming a Jōnin.Conclusion:Not every ninja automatically becomes a Jōnin if they live long enough. Becoming a Jōnin requires a combination of skill, leadership, experience, and sometimes personal desire to take on the responsibilities of the rank. Many ninjas remain Chūnin throughout their careers, either because they don’t meet the high requirements for Jōnin promotion, prefer to focus on specialized roles, or are simply not chosen for advancement.\"]\n",
    "        }\n",
    "    })"
   ]
  },
  {
   "cell_type": "code",
   "execution_count": 172,
   "id": "b4064cf4-c6cd-440b-8796-b181727353b5",
   "metadata": {
    "tags": []
   },
   "outputs": [
    {
     "name": "stdout",
     "output_type": "stream",
     "text": [
      "[0.8642625212669373]\n"
     ]
    }
   ],
   "source": [
    "print(data)"
   ]
  },
  {
   "cell_type": "code",
   "execution_count": 174,
   "id": "8a1cbd41-96e1-454b-be59-00138dbc8d26",
   "metadata": {
    "tags": []
   },
   "outputs": [],
   "source": [
    "#Question 15\n",
    "data = query(\n",
    "    {\n",
    "        \"inputs\": {\n",
    "            \"source_sentence\": \"Yes, a child can inherit both clans' jutsu. This was officially explained by Masashi Kishimoto(the creator of Naruto) The child with an Uchicha and a Hyuga as parents will have both the clans' eyes. While Inojin is not a good example as the techniques of his father Sai were taught to him.The Ninja art techniques are not passed via genetic inheritance. Also, Ino's clan techniques are classified as Hidden techinques which use Yin/Yang release which are also taught/learned not passed via genetics. A good example would be an Uchiha + Hyuga child as answered by Kishimoto himself -\",\n",
    "            \"sentences\": [\n",
    "                \"In the Naruto world, it is theoretically possible for a child to inherit abilities from both parents' clans, but this depends on the nature of the jutsu or abilities in question. Let's break this down using the example you provided (Ino and Sasuke's hypothetical child) and similar cases from the series:1. Kekkei Genkai (Inherited Bloodline Abilities):Kekkei Genkai (like the Uchiha’s Sharingan) are passed down genetically and are tied to a specific bloodline. This means that a child born into an Uchiha family, like Sasuke's hypothetical child, has a chance of inheriting the Sharingan.In the series, we have examples of characters like Boruto and Sarada Uchiha, who have inherited Kekkei Genkai from their Uchiha parent (in Sarada's case, the Sharingan from Sasuke). However, not all Uchiha descendants automatically awaken the Sharingan; it's a latent ability that can be triggered by intense emotional experiences.2. Clan-Specific Jutsu (Not Kekkei Genkai):Clan-specific jutsu (like the Yamanaka clan’s mind-transfer technique) are not Kekkei Genkai but are instead techniques passed down through training within the clan. These techniques can typically be learned by anyone with proper training and chakra control, though they are usually kept within the clan. The Yamanaka jutsu is an example of a secret technique that is taught and passed down through training within the family.In theory, if the child of Ino (Yamanaka) and Sasuke (Uchiha) were to receive training from both clans, they could learn both the Uchiha’s techniques (assuming they awaken the Sharingan) and the Yamanaka’s jutsu (mind-transfer).3. Combination of Abilities:In cases where both parents possess strong, inherited abilities, it’s possible that a child could inherit and combine both. However, how effectively they can use both abilities would depend on factors like chakra capacity, natural talent, and training.A notable example of this concept is Kakashi Hatake. Although he’s not related to an Uchiha, he uses the Sharingan (given to him by Obito) while also using his own clan’s signature techniques, such as the Chidori. Kakashi proves that combining clan techniques and Sharingan is possible with training, even if he doesn’t naturally possess a Kekkei Genkai.Known Examples of Mixed Heritage in Naruto:Himawari Uzumaki and Boruto Uzumaki:Both are children of Naruto (of the Uzumaki clan) and Hinata Hyūga. They inherit Hyūga's Byakugan and also have Uzumaki’s strong life force and chakra reserves. Boruto doesn't awaken the Byakugan (though he later gets the Jōgan), but Himawari shows clear signs of Byakugan inheritance, illustrating that children can inherit a Kekkei Genkai from one parent while maintaining other traits from the other.Sarada Uchiha:As the daughter of Sasuke Uchiha and Sakura Haruno, Sarada inherits the Sharingan from her father’s Uchiha lineage. Though she doesn't appear to have inherited a Kekkei Genkai from her mother, she does inherit Sakura's immense physical strength and chakra control, showing a blend of her parents' abilities.Conclusion:Yes, a child in Naruto can theoretically inherit abilities from both parents' clans. In the case of Sasuke and Ino, the child could potentially inherit the Sharingan from Sasuke's Uchiha bloodline and learn the Yamanaka clan's mind-transfer jutsu through training.However, it's not guaranteed that every child will perfectly inherit or awaken both sets of abilities, as Kekkei Genkai (like the Sharingan) may not always activate, and clan techniques (like the Yamanaka’s) require specific training. The child's proficiency with both abilities would depend on their natural talent, chakra reserves, and willingness to train in both styles.\"]\n",
    "        }\n",
    "    })"
   ]
  },
  {
   "cell_type": "code",
   "execution_count": 176,
   "id": "3910b80b-417a-46e2-9c1e-7ae3382ba452",
   "metadata": {
    "tags": []
   },
   "outputs": [
    {
     "name": "stdout",
     "output_type": "stream",
     "text": [
      "[0.7917760014533997]\n"
     ]
    }
   ],
   "source": [
    "print(data)"
   ]
  },
  {
   "cell_type": "code",
   "execution_count": 11,
   "id": "10157fe7-6420-4220-b471-f3fa43d14ed3",
   "metadata": {},
   "outputs": [],
   "source": [
    "#Antworten mit Chat-Modell und Naruto, One Piece und Detective Conan-Daten\n",
    "#Question 1\n",
    "data = query(\n",
    "    {\n",
    "        \"inputs\": {\n",
    "            \"source_sentence\": \"Naruto and Hinata - Bolt (Boruto) and Himawari; Sasuke and Sakura - Salad (Sarada); Shikamaru and Temari - Shikadai; Chouji and Karui - Chouchou; Ino and Sai - Inojin; Kurenai and Asuma - Mirai Sarutobi; Kiba is shown with Tamaki, but we don't even know if there's anything going on between them. Rock Lee is shown training with a kid that looks like him, and Tenten is shown right after that, so maybe that's their kid, or maybe some kid who emulated Lee like he had emulated Guy before.\",\n",
    "            \"sentences\": [\n",
    "                \"The last chapter of Naruto, chapter 700, shows that Naruto and Hinata got married and had two children, Boruto and Himawari. Sasuke and Sakura also got married and had a daughter, Sarada. Shikamaru and Temari got married and had a daughter, Shikadai. Kiba and Tamaki got married and had a son, Akamaru. Rock Lee and Tenten did not get married, but they are shown to be close friends. Choji and Karui got married and had a daughter, Chocho. Neji and Tenten did not get married, as Neji died in the war. Shino and Ino did not get married, as Shino was shown to be single. Kankuro and Temari did not get married, as Temari married Shikamaru. Gaara did not get married, as he was shown to be single. Hinata's sister, Hanabi, did not get married, as she was shown to be single. Sai and Ino did not get married, as Sai was shown to be single. Sasuke's brother, Itachi, did not get married, as he died before the series ended. Kakashi did not get married, as he was shown to be single. Guy did not get married, as he was shown to be single. Tsunade did not get married, as she was shown to be single. Jiraiya did not get married, as he died before the series ended. Orochimaru did not get married, as he was shown to be single. Kabuto did not get married, as he was shown to be single.\"]\n",
    "        }\n",
    "    })"
   ]
  },
  {
   "cell_type": "code",
   "execution_count": 13,
   "id": "d55e5440-ff6b-47ce-ba60-79e9f4cdf5f8",
   "metadata": {
    "tags": []
   },
   "outputs": [
    {
     "name": "stdout",
     "output_type": "stream",
     "text": [
      "[0.4039965867996216]\n"
     ]
    }
   ],
   "source": [
    "print(data)"
   ]
  },
  {
   "cell_type": "code",
   "execution_count": 15,
   "id": "1672c70b-2d78-4ff7-a3da-2c3e83dd8343",
   "metadata": {
    "tags": []
   },
   "outputs": [],
   "source": [
    "#Question 2\n",
    "data = query(\n",
    "    {\n",
    "        \"inputs\": {\n",
    "            \"source_sentence\": \"According to the Naruto Wiki: Suddenly orphaned, Naruto was left to grow up knowing nothing of his parents, receiving only his mother's last name as Hiruzen believed it was best that nobody knew that he was related to the Fourth Hokage.\",\n",
    "            \"sentences\": [\n",
    "                \"Yes, there is a canonical reason to why Naruto used his mother's family name, Uzumaki, instead of his father's family name. Naruto's father, Minato Namikaze, was the Fourth Hokage of Konohagakure, and Naruto inherited his father's blond hair and blue eyes. However, Naruto's mother, Kushina Uzumaki, was a relative to the Uzumaki clan from Uzushiogakure in the Land of Whirlpools, who used the spiral pattern as both their clan and village symbol. Naruto's full name is also a reference to the Naruto whirlpools (鳴門の渦潮, Naruto no uzushio), named after the city in the Tokushima Prefecture in Japan. Naruto's mother, Kushina Uzumaki, is a relative to the Uzumaki clan from Uzushiogakure in the Land of Whirlpools, who used the spiral pattern as both their clan and village symbol. According to the databook(s), Naruto's family name is Uzumaki, not Namikaze. Therefore, Naruto uses his mother's family name, Uzumaki, instead of his father's family name.\"]\n",
    "        }\n",
    "    })"
   ]
  },
  {
   "cell_type": "code",
   "execution_count": 17,
   "id": "b65283de-c920-4acf-866b-89499815fa31",
   "metadata": {
    "tags": []
   },
   "outputs": [
    {
     "name": "stdout",
     "output_type": "stream",
     "text": [
      "[0.5748989582061768]\n"
     ]
    }
   ],
   "source": [
    "print(data)"
   ]
  },
  {
   "cell_type": "code",
   "execution_count": 33,
   "id": "9aa7ae35-acb3-4f7f-af91-7ccbdd5667ae",
   "metadata": {
    "tags": []
   },
   "outputs": [],
   "source": [
    "#Question 3\n",
    "data = query(\n",
    "    {\n",
    "        \"inputs\": {\n",
    "            \"source_sentence\": \"After a period of time the tailed beast will revive, so they will survive the death of the host. However, it is revealed that the tailed beasts can actually survive their jinchūriki's deaths, with the only consequence being that it will take time for them to revive without a host. Source: Narutopedia - in the second paragraph of that section.\",\n",
    "            \"sentences\": [\n",
    "                \"If the jinchuruki is killed, the tailed beast will not be extracted and sealed into the Demonic statue by the Akatsuki. Instead, the tailed beast will roam freely. In the scenario you mentioned, if Orochimaru had killed Naruto, the Nine-Tails would have been released and would have wreaked havoc. However, in the actual story, Tsunade sacrificed herself to protect Naruto from Orochimaru's attack.\"]\n",
    "        }\n",
    "    })"
   ]
  },
  {
   "cell_type": "code",
   "execution_count": 35,
   "id": "737b4cad-4cc5-43d2-82af-f6785f3709cc",
   "metadata": {
    "tags": []
   },
   "outputs": [
    {
     "name": "stdout",
     "output_type": "stream",
     "text": [
      "[0.6833505630493164]\n"
     ]
    }
   ],
   "source": [
    "print(data)"
   ]
  },
  {
   "cell_type": "code",
   "execution_count": 37,
   "id": "8ce43a82-c8cf-45e8-a177-1d5e95d2e57a",
   "metadata": {
    "tags": []
   },
   "outputs": [],
   "source": [
    "#Question 4\n",
    "data = query(\n",
    "    {\n",
    "        \"inputs\": {\n",
    "            \"source_sentence\": \"Kakashi and Obito awoke their Mangekyou at the same time: when Kakashi killed Rin. Obito and Kakashi's Mangekyou awakened. Obito (left) and Kakashi (right) awakening their Mangekyou. From chapter 605, pages 4 and 5. Now, as for why Kakashi never used it before his fight with Deidara, I think there's no definitive answer. However, I can think of two different educated guesses: one is in-universe, while the other is out-of-universe. In-universe explanation: As you said, Kakashi was either unaware of or unable to control his Mangekyou Sharingan. I tend to think the former is the case, since he passed out as soon as he awoke his Mangekyou, and probably had no memory of awakening it (Kakashi's page on Naruto wiki seems to agree with this explanation). If this is the case, after his fight with Itachi he most likely tested to see if he had the Mangekyou, finding out he did, and thus trained in order to perfect its use. Out-of-universe explanation: Kishimoto hadn't thought the whole story through. Since Tobi had not made an appearance in the first Naruto series, Kishi had not yet thought about who he would be. If this is the case, then Kakashi's back story had not yet been planned, as well as Obito's. This would make it plausible that Kakashi was not initially planned to have a Mangekyou, since his is transplanted. After the Kakashi Gaiden, however, the important characters are all introduced, which means he had most likely planned for Obito to be Tobi, and about the link between his and Kakashi's Sharingan.\",\n",
    "            \"sentences\": [\n",
    "                \"Kakashi and Obito both awakened their Mangekyō Sharingan after the loss of a loved one. For Kakashi, this was when he was forced to kill his teammate Rin Nohara in Chapter 604 of the manga. For Obito, this was when he witnessed the death of Rin Nohara during the Third Shinobi World War. However, the exact moment when Obito's Mangekyō Sharingan activated is not explicitly shown in the given document. It is mentioned that Obito's vision started to fade as he sensed Rin dying, but this does not necessarily mean that his Mangekyō Sharingan activated at that moment. It is possible that it activated later, after Obito had fully processed Rin's death. As for Kakashi, it is mentioned that he was unaware of his Mangekyō Sharingan until he faced Itachi and was devastated by the Tsukuyomi. This suggests that he did not know how to use it proficiently at first, and may not have even been aware of its existence. The reason why Kakashi did not use his Mangekyō Sharingan in the Naruto series before the start of Shippuden is not explicitly stated in the given document. It is possible that he was not yet proficient in using it, or that he chose not to use it for strategic reasons. As for the shared other dimension between Kakashi and Obito, this is due to the fact that they both possess the same Sharingan, not because their Mangekyō Sharingan activated at the same time. The shared other dimension is a unique ability of the Sharingan, and is not directly related to the Mangekyō Sharingan.\"]\n",
    "        }\n",
    "    })"
   ]
  },
  {
   "cell_type": "code",
   "execution_count": 39,
   "id": "6acd3883-b8e9-4d16-92c5-ee16f663691f",
   "metadata": {
    "tags": []
   },
   "outputs": [
    {
     "name": "stdout",
     "output_type": "stream",
     "text": [
      "[0.7515305280685425]\n"
     ]
    }
   ],
   "source": [
    "print(data)"
   ]
  },
  {
   "cell_type": "code",
   "execution_count": 41,
   "id": "887d6b65-1519-4570-ba24-38ac9a9ed559",
   "metadata": {
    "tags": []
   },
   "outputs": [],
   "source": [
    "#Question 5\n",
    "data = query(\n",
    "    {\n",
    "        \"inputs\": {\n",
    "            \"source_sentence\": \"After Madara receives his right eye from Zetsu, he stuns all the Tailed Beasts and began the process of sealing them up into the Demonic Statue. Yang Kurama, knowing that he will be pulled out of Naruto for certain, contacted Gaara to have Yin Kurama (within Minato's body) sealed into Naruto. But just as Minato was transferring Yin Kurama into Naruto, Black Zetsu (in Obito's body) interferes. Obito regains control of his body and prevents Zetsu from delivering the left Rinnegan eye and Yin Kurama to Madara. Obito then teleports the gang to Kamui dimension. There, Yin Kurama was successfully transferred into Naruto. After the epic fight with Sasuke, Yang Kurama rejoins Naruto. The Yin and Yang halves merge together and formed the complete state of Kurama.\",\n",
    "            \"sentences\": [\n",
    "                \"The Yin half of Kurama was absorbed by Black Zetsu, becoming its jinchūriki. It did not die when Minato was killed, but it was later transferred into Naruto by Obito.\"]\n",
    "        }\n",
    "    })"
   ]
  },
  {
   "cell_type": "code",
   "execution_count": 43,
   "id": "6e4e5140-33ae-424e-9e26-ac0fade57a29",
   "metadata": {
    "tags": []
   },
   "outputs": [
    {
     "name": "stdout",
     "output_type": "stream",
     "text": [
      "[0.7332846522331238]\n"
     ]
    }
   ],
   "source": [
    "print(data)"
   ]
  },
  {
   "cell_type": "code",
   "execution_count": 45,
   "id": "e6912292-94aa-4a66-8cfd-524565bffa07",
   "metadata": {
    "tags": []
   },
   "outputs": [],
   "source": [
    "#Question 6\n",
    "data = query(\n",
    "    {\n",
    "        \"inputs\": {\n",
    "            \"source_sentence\": \"Kakashi became a Genin at the age of 5 and Chunin at 6. Obito became a Genin at the age of 9 and Chunin at the age of 11. It was around the time when Obito became Chunin that Kakashi was promoted to Jonin. Obito then died at the age of 13, which was almost two years after his promotion to Chunin. From this thread on narutoforums (emphasis mine): It is impossible for both Kakashi and Obito to have been 13 during the Kakashi Gaiden, because there is at least a confirmed 4 year age difference between Kakashi and Obito when they were confirmed to both be Genin teammates during the Chuunin Exams. They entered the academy the same time, and they all graduated the academy together as teammates. Kakashi was at least 4 years younger than both of his teammates at all times. There is no possible way that Kakashi was a 13 year old Jonin during the Kakashi Gaiden. At this idea that he was 13 isn't even supported in the databooks, either. It's time we all got our facts straight. If Obito died at 13, then Kakashi was most likely 9 during the Kakashi Gaiden. It is impossible for these two teammates to have ever been the same age. Kakashi was 13 during the Kyuubi attack on Konoha. There is a 4 year difference between the events of the Kakashi Gaiden and the events of the night Naruto was born. Also, from the talk page of Obito Uchiha on Naruto wiki Obito-Kakashi timeline is based on the anime mostly and pre-chapter 599 manga/databook stuff. Kakashi graduated the academy as 5 years old, Rin and Obito as 9. Obito is 3 years 7 months older from Kakashi. They all took the same Chunin Exam, with Kakashi having managed to become a Chunin in it at the age of 6, while Obito age 10 failed. Obito trainer hard, took the next exams and became a Chunin at 11. Obito got crushed by boulders as 13 years old, that means Kakashi was 9-10 at the latest in the Gaiden. Kakashi is now 31 so Obito died as 34. As for the youngest Jonin part, no one really knows how many official Jonin are there. If I remember correctly, Itachi wasn't officially declared as a Jonin. He got into the Anbu after he became a Chunin. So Kakashi might be the youngest Jonin. There is no definitive answer. Edit (courtesy of @Merrice Henderson): There is evidence that Kakashi made Jonin the same year that Obito and Rin made Chunin. This is an exert from Obito's wikia page: Eager for Rin's attention, Obito trained relentlessly, eventually rising to the rank of chūnin himself. His excitement was short-lived as Kakashi soon afterwards became a jōnin, once again earning Rin's praise and Obito's resentment. So, Obito was confirmed 11 when he became Chunin. If we go based on the theory that Kakashi is 4 years younger (which I am more inclined to believe), then he was 7 when he made Jonin. That would effectively make him the youngest Jonin of all time. If Kakashi was the same age as Obito and Rin, there are a few years that need to be accounted for, like: Who was he teamed with after graduation while Obito and Rin were still in the academy? What happened to Kakashi's other teammates, or was he on hiatus for that time?\",\n",
    "            \"sentences\": [\n",
    "                \"According to the documents provided, Kakashi Hatake became a Jounin at the age of 13. This is consistent with the information that he was a chunin at 6, a jonin at 10, and joined ANBU Black Ops at 13. Itachi Uchiha, on the other hand, became a chunin at 10 and became a Captain of ANBU Black Ops at 13. Therefore, Kakashi is indeed the youngest Jounin.\"]\n",
    "        }\n",
    "    })"
   ]
  },
  {
   "cell_type": "code",
   "execution_count": 47,
   "id": "fbd3f621-cf5e-4ace-82d4-e2192a36bd2d",
   "metadata": {
    "tags": []
   },
   "outputs": [
    {
     "name": "stdout",
     "output_type": "stream",
     "text": [
      "[0.7034055590629578]\n"
     ]
    }
   ],
   "source": [
    "print(data)"
   ]
  },
  {
   "cell_type": "code",
   "execution_count": 50,
   "id": "0287dfa0-e4eb-47bb-a6cd-99ba6d4de684",
   "metadata": {
    "tags": []
   },
   "outputs": [],
   "source": [
    "#Question 7\n",
    "data = query(\n",
    "    {\n",
    "        \"inputs\": {\n",
    "            \"source_sentence\": \"Both Kakashi and Danzou had physically obtained their Sharingan via transplantation. During the finale of the Fourth Shinobi World War, Madara rips Kakashi's Sharingan and transplants as his left eye (Chapter 674). Naruto, using Hagaromo's power, creates a normal eye for Kakashi (Chapter 675). From Naruto Wikia article on Kakashi Hatake, merged plot summary of Chapter 686, 687 and 688 (emphasis mine): Prepared to give his life to lend what little assistance he can, Kakashi stands in front of Sasuke to take the attack while Obito does the same for Naruto. Although they are unified in their willingness to die, Obito decides it's too soon for Kakashi and uses Kamui on the attack bound for him, leaving Obito unable to save himself. Obito's body dissolves, but his spirit returns shortly afterwards and inhabits Kakashi. Obito feels that Kakashi will become the next Hokage and wishes to reward him: a temporary moment of having two Mangekyō Sharingan. Obito gave Kakashi the privilege of having both Sharingan (Mangekyou) temporarily. This was the doing of the spirit of Obito and not the physical self. Hence the Sharingan Kakashi used was spiritually influenced. Later, when Kaguya is defeated, Obito's spirit leaves Kakashi's side to join the other world. Because of the spirit leaving, the Sharingan also disappears along with it. Had the Sharingan been physically present, it would have stayed, just like Danzou, the Kotoamatsukami crow and pre-war Kakashi.\",\n",
    "            \"sentences\": [\n",
    "                \"The Sharingan that Kakashi had was given to him by Obito, and it was Obito's Sharingan that faded after he died. The Sharingan that Danzo had stolen from Shisui and the one Shisui had given Itachi were not Obito's Sharingan, so they were not affected by his death. Additionally, the Sharingan that Itachi had was his own, and it did not fade after Obito's death. The Sharingan that Kakashi had was not his own, and it was not the same as the Sharingan that Danzo had stolen from Shisui or the one Shisui had given Itachi, so it faded after Obito's death.\"]\n",
    "        }\n",
    "    })"
   ]
  },
  {
   "cell_type": "code",
   "execution_count": 52,
   "id": "47712fa0-bf85-4362-89e7-bd9cd989e7f9",
   "metadata": {
    "tags": []
   },
   "outputs": [
    {
     "name": "stdout",
     "output_type": "stream",
     "text": [
      "[0.6573503613471985]\n"
     ]
    }
   ],
   "source": [
    "print(data)"
   ]
  },
  {
   "cell_type": "code",
   "execution_count": 54,
   "id": "5f2b1678-179d-4429-aa70-106ef746f205",
   "metadata": {
    "tags": []
   },
   "outputs": [],
   "source": [
    "#Question 8\n",
    "data = query(\n",
    "    {\n",
    "        \"inputs\": {\n",
    "            \"source_sentence\": \"Well the difference is quite simple. the Inuzuka clan's dogs are simple dogs. They can understand human language very well and are the sidekicks of the Inuzuka. Kiba and Akamaru understand each other by Hand Wave. This is not explained any further as it is prescriptive. Kakashi's dogs on the other hand are Summoned. They are not real dogs but spirits, comparable to Gamabunta, Gamakichi and the other Kuchiose No Jutsu summoned animals.\",\n",
    "            \"sentences\": [\n",
    "                \"The Inuzuka clan's dogs cannot use human language, while Kakashi's dogs can. This is because Kakashi's dogs are ninken, which are essentially dogs that have heightened senses and abilities, and as such, are able to work and be summoned alongside shinobi. They have shown the ability to use human language, walk on water, develop combat strategies, and track down targets through their enhanced smell. On the other hand, the Inuzuka clan's dogs are not ninken, but rather regular dogs that have been trained to work alongside shinobi. They do not have the ability to use human language. Kiba and Akamaru understand each other through their heightened senses and abilities, as well as their close bond as partners and best friends. Akamaru can also transform into an identical clone of Kiba, allowing them to communicate and coordinate their attacks more effectively.\"]\n",
    "        }\n",
    "    })"
   ]
  },
  {
   "cell_type": "code",
   "execution_count": 56,
   "id": "3a4e4f8a-0665-4164-8dfa-185cc53ff86d",
   "metadata": {
    "tags": []
   },
   "outputs": [
    {
     "name": "stdout",
     "output_type": "stream",
     "text": [
      "[0.8346139788627625]\n"
     ]
    }
   ],
   "source": [
    "print(data)"
   ]
  },
  {
   "cell_type": "code",
   "execution_count": 58,
   "id": "aa8d867d-7105-41d6-b785-c762d2f92a37",
   "metadata": {
    "tags": []
   },
   "outputs": [],
   "source": [
    "#Question 9\n",
    "data = query(\n",
    "    {\n",
    "        \"inputs\": {\n",
    "            \"source_sentence\": \"Ebisu explains (in Chapter 90) that to perform a ninjutsu or genjutsu, a shinobi needs to go through 2 steps. 1. Build up the necessary amount of chakra for that jutsu. 2. Control the chakra for that jutsu using various hand seals. Haku's ability to do hand seals with one hand shows his exceptional skill in the chakra control (at step 2). There are other ways in which a shinobi's prowess with hand seals has been demonstrated. Senju Tobirama could use the Water Dragon Bullet Technique with just one hand seal, while it normally requires 44. Uchiha Sasuke has been able to use Chidori without any hand seals, and Fire Techniques with just one hand seal. (He needed more seals for both the jutsu when he started.) The other shinobi shown to be capable of one-handed seals is Guren from the Three Tails filler arc. (Source: Narutopedia)\",\n",
    "            \"sentences\": [\n",
    "                \"Haku's ability to perform hand seals with only one hand is not explicitly explained in the manga or anime. It is possible that this is a unique skill that Haku possesses, but it is not mentioned as a specific technique or kekkei genkai. Kakashi's surprise at seeing Haku perform hand seals with one hand suggests that it is a rare and impressive ability, but it is not further explored or explained in the series.\"]\n",
    "        }\n",
    "    })"
   ]
  },
  {
   "cell_type": "code",
   "execution_count": 60,
   "id": "851009f3-3392-4a92-b65c-66332956bb4f",
   "metadata": {
    "tags": []
   },
   "outputs": [
    {
     "name": "stdout",
     "output_type": "stream",
     "text": [
      "[0.6962180733680725]\n"
     ]
    }
   ],
   "source": [
    "print(data)"
   ]
  },
  {
   "cell_type": "code",
   "execution_count": 62,
   "id": "bce61e50-37d2-45f5-ac80-4f226de7dc6a",
   "metadata": {
    "tags": []
   },
   "outputs": [],
   "source": [
    "#Question 10\n",
    "data = query(\n",
    "    {\n",
    "        \"inputs\": {\n",
    "            \"source_sentence\": \"Naruto only used this jutsu one time in normal form (against Kakuzu, and got many side effects, like you said), the other times he was at Sage mode, at this state he didn't damage himself. According to Naruto Wiki: Naruto later improved the Rasenshuriken with Sage Mode. This allows him to throw it at his opponents, and removes the threat of damaging himself with the technique.\",\n",
    "            \"sentences\": [\n",
    "                \"Naruto is able to use Rasenshuriken without any side effects after the battle with Kakuzu because he learned senjutsu, which allowed him to infuse the Rasenshuriken with senjutsu chakra. This maintained the shape of the Rasenshuriken after formation, meaning that he could use it as a projectile and, as a result, that he no longer needed to worry about damaging himself. When thrown, the Rasenshuriken travels very quickly, enough to cross the crater of Chibaku Tensei in under a second.\"]\n",
    "        }\n",
    "    })"
   ]
  },
  {
   "cell_type": "code",
   "execution_count": 64,
   "id": "2ea26c23-de60-4d41-b699-0c39cce20bc4",
   "metadata": {
    "tags": []
   },
   "outputs": [
    {
     "name": "stdout",
     "output_type": "stream",
     "text": [
      "[0.7208750247955322]\n"
     ]
    }
   ],
   "source": [
    "print(data)"
   ]
  },
  {
   "cell_type": "code",
   "execution_count": 66,
   "id": "fe26c26d-18c3-47da-b570-0f3e6993a27d",
   "metadata": {
    "tags": []
   },
   "outputs": [],
   "source": [
    "#Question 11\n",
    "data = query(\n",
    "    {\n",
    "        \"inputs\": {\n",
    "            \"source_sentence\": \"The most common one I know of and I think you are talking about is the Body Flicker Technique (also known as Teleportation Jutsu, or Shunshin no Jutsu). The Body Flicker Technique is a high-speed movement technique, allowing a ninja to move short to long distances at an almost untraceable speed.* To an observer, it appears as if the user has teleported. A puff of smoke is occasionally used to disguise the user's movements. It is accomplished by using chakra to temporarily vitalise the body and move at extreme speeds. The amount of chakra required depends on the overall distance and elevation between the user and the intended destination.\",\n",
    "            \"sentences\": [\n",
    "                \"The jutsu is called the Body Flicker Technique (瞬身の術, Shunshin no Jutsu). It is a high-speed movement technique used by ninjas to move at extremely high speeds, appearing and disappearing in an instant. It is often used by Anbu members when they are dismissed.\"]\n",
    "        }\n",
    "    })"
   ]
  },
  {
   "cell_type": "code",
   "execution_count": 68,
   "id": "9ca65a20-a60d-456f-a823-dbb275809927",
   "metadata": {
    "tags": []
   },
   "outputs": [
    {
     "name": "stdout",
     "output_type": "stream",
     "text": [
      "[0.7249147891998291]\n"
     ]
    }
   ],
   "source": [
    "print(data)"
   ]
  },
  {
   "cell_type": "code",
   "execution_count": 70,
   "id": "c8a89564-e412-49cc-9d29-8b8d9f46367b",
   "metadata": {
    "tags": []
   },
   "outputs": [],
   "source": [
    "#Question 12\n",
    "data = query(\n",
    "    {\n",
    "        \"inputs\": {\n",
    "            \"source_sentence\": \"What everyone was saying was partially correct. The Sharingan is a kekkei-genkai made for the Uchiha Clan. Since Kakashi isn't native to this clan, he's only able to use his Sharingan after once in awhile. As said before, he used it in the beginning of the series and was out for about a week or two from using too much chakra. Consumption of all of your chakra will cause you to die. Now with his Mangekyo Sharingan, he cannot use it much. The example that comes quickly to my head is when Kakashi and Naruto were chasing Deidara during the Gaara Retrieval arc. Kakashi specifically quoted that, We have to end this soon. I can only activate the Mangekyo probably one more time. In the current manga, he can only keep up with using his Mangekyo Sharingan with the help from the Kyuubi's aura/chakra. It consumes way too much chakra for him.\",\n",
    "            \"sentences\": [\n",
    "                \"The document does not provide a clear answer as to why Kakashi does not use his copy ability more often. However, it does mention that Kakashi's use of Kamui, a technique he acquired by copying Obito's Sharingan, requires a great deal of chakra and can damage his vision with repeated use. It is possible that Kakashi refrains from using his copy ability excessively due to these limitations. Additionally, the document states that Kakashi has his own personal touches when copying techniques, which may also influence his decision to use certain techniques over others. Ultimately, the reason for Kakashi's limited use of his copy ability is not explicitly stated in the document.\"]\n",
    "        }\n",
    "    })"
   ]
  },
  {
   "cell_type": "code",
   "execution_count": 73,
   "id": "5e239121-77ce-4743-8a65-96dc8f96e464",
   "metadata": {
    "tags": []
   },
   "outputs": [
    {
     "name": "stdout",
     "output_type": "stream",
     "text": [
      "[0.5278620719909668]\n"
     ]
    }
   ],
   "source": [
    "print(data)"
   ]
  },
  {
   "cell_type": "code",
   "execution_count": 77,
   "id": "7bd4fe20-a682-449e-8793-4188c5be0129",
   "metadata": {
    "tags": []
   },
   "outputs": [],
   "source": [
    "#Question 13\n",
    "data = query(\n",
    "    {\n",
    "        \"inputs\": {\n",
    "            \"source_sentence\": \"Most of them didn't know. It was a secret to protect Naruto. Just a few people knew it. I found proof on this site: Suddenly orphaned, Naruto was left to grow up knowing nothing of his parents, receiving only his mother's last name because the Third Hokage thought that it was best that nobody knew that he was related to the Fourth Hokage. They found it here: Naruto chapter 440, page 5\",\n",
    "            \"sentences\": [\n",
    "                \"No, most people in Konoha are not aware that Naruto is the son of Minato and Kushina. The Third Hokage concealed Naruto\\'s relation to Minato in order to keep him safe from his father\\'s enemies and did his best to give Naruto a comfortable life. For years, Naruto did not know his parents\\' identities, and neither did most of Konoha. Even when he was not aware of his relation to Minato, Naruto still greatly admired the Fourth Hokage, considering him a hero who gave his life for the village and becoming overjoyed whenever their similarities were remarked upon. However, in the alternate timeline of the movie Road to Ninja: Naruto the Movie, Minato and Kushina are alive and have a son named Menma, who is the parallel version of Naruto. In this timeline, Kushina is alive alongside Minato, continuing to serve Konohagakure alongside her husband as ninja while also able to enjoy being parents, raising their son in a loving and stable lifestyle. Unbeknownst to the couple, Menma later disappears, replaced by Naruto and the Sakura of the normal timeline who arrived in this world.\"]\n",
    "        }\n",
    "    })"
   ]
  },
  {
   "cell_type": "code",
   "execution_count": 79,
   "id": "2089cb8e-72cd-4416-b52e-1799a28c3e42",
   "metadata": {
    "tags": []
   },
   "outputs": [
    {
     "name": "stdout",
     "output_type": "stream",
     "text": [
      "[0.622613251209259]\n"
     ]
    }
   ],
   "source": [
    "print(data)"
   ]
  },
  {
   "cell_type": "code",
   "execution_count": 81,
   "id": "66c0486e-0601-4800-8283-81962001c298",
   "metadata": {
    "tags": []
   },
   "outputs": [],
   "source": [
    "#Question 14\n",
    "data = query(\n",
    "    {\n",
    "        \"inputs\": {\n",
    "            \"source_sentence\": \"No not everyone will become a Jonin. As you may have noticed, some ninja like Naruto don't even become Chuunin. Naruto is a rare example however. In order to become a jonin, a ninja must be extremely skilled. Jōnin are generally able to use at least two types of elemental chakra, some genjutsu, and above average taijutsu skills. They are usually also appointed to A and/or S ranked missions alone while those under the Jonin rank usually go with a team, or not at all.\",\n",
    "            \"sentences\": [\n",
    "                \"Not every ninja who becomes a chunin becomes a jonin. Naruto, for example, remains a chunin for a long time.\"]\n",
    "        }\n",
    "    })"
   ]
  },
  {
   "cell_type": "code",
   "execution_count": 83,
   "id": "2bc47127-ed7c-4fbf-9ab6-49c93617e8b7",
   "metadata": {
    "tags": []
   },
   "outputs": [
    {
     "name": "stdout",
     "output_type": "stream",
     "text": [
      "[0.7803099155426025]\n"
     ]
    }
   ],
   "source": [
    "print(data)"
   ]
  },
  {
   "cell_type": "code",
   "execution_count": 85,
   "id": "70a791a5-4e71-4990-9c63-961dfd57bb06",
   "metadata": {
    "tags": []
   },
   "outputs": [],
   "source": [
    "#Question 15\n",
    "data = query(\n",
    "    {\n",
    "        \"inputs\": {\n",
    "            \"source_sentence\": \"Yes, a child can inherit both clans' jutsu. This was officially explained by Masashi Kishimoto(the creator of Naruto) The child with an Uchicha and a Hyuga as parents will have both the clans' eyes. While Inojin is not a good example as the techniques of his father Sai were taught to him.The Ninja art techniques are not passed via genetic inheritance. Also, Ino's clan techniques are classified as Hidden techinques which use Yin/Yang release which are also taught/learned not passed via genetics. A good example would be an Uchiha + Hyuga child as answered by Kishimoto himself -\",\n",
    "            \"sentences\": [\n",
    "                \"In the Naruto universe, it is possible for a child to inherit abilities from both of their parents' clans. However, it is not guaranteed and depends on various factors such as genetics and the specific abilities in question. In the example you provided, if Ino (from the Yamanaka clan) and Sasuke (from the Uchiha clan) had a child, it is possible for that child to inherit both the Sharingan ability from the Uchiha clan and the mind transfer jutsu from the Yamanaka clan. However, this is not a certainty and would depend on the specific circumstances and genetics of the child. It is also worth noting that some abilities, such as kekkei genkai, may be more difficult or impossible for a child to inherit if they do not have the necessary prerequisites or if the abilities are incompatible.\"]\n",
    "        }\n",
    "    })"
   ]
  },
  {
   "cell_type": "code",
   "execution_count": 87,
   "id": "c9b4eb26-f699-40bc-8318-6dc26912d4f8",
   "metadata": {
    "tags": []
   },
   "outputs": [
    {
     "name": "stdout",
     "output_type": "stream",
     "text": [
      "[0.8370236754417419]\n"
     ]
    }
   ],
   "source": [
    "print(data)"
   ]
  },
  {
   "cell_type": "code",
   "execution_count": null,
   "id": "89f3f2b9-e444-487c-8155-b31a255e5077",
   "metadata": {},
   "outputs": [],
   "source": []
  }
 ],
 "metadata": {
  "kernelspec": {
   "display_name": "Python 3 (ipykernel)",
   "language": "python",
   "name": "python3"
  },
  "language_info": {
   "codemirror_mode": {
    "name": "ipython",
    "version": 3
   },
   "file_extension": ".py",
   "mimetype": "text/x-python",
   "name": "python",
   "nbconvert_exporter": "python",
   "pygments_lexer": "ipython3",
   "version": "3.11.5"
  }
 },
 "nbformat": 4,
 "nbformat_minor": 5
}
