{
 "cells": [
  {
   "cell_type": "code",
   "execution_count": 1,
   "id": "00411dc6-b792-42e7-a770-3e8399571716",
   "metadata": {
    "tags": []
   },
   "outputs": [],
   "source": [
    "import json\n",
    "import requests"
   ]
  },
  {
   "cell_type": "code",
   "execution_count": 3,
   "id": "73043443-156a-4944-926e-04255b317f82",
   "metadata": {
    "tags": []
   },
   "outputs": [],
   "source": [
    "API_URL = \"https://api-inference.huggingface.co/models/sentence-transformers/all-MiniLM-L6-v2\"\n",
    "headers = {\"Authorization\": f\"Bearer <add_your_api_token_here>\"}"
   ]
  },
  {
   "cell_type": "code",
   "execution_count": 5,
   "id": "fed620cc-a890-416b-86c8-11e7a03ebf01",
   "metadata": {
    "tags": []
   },
   "outputs": [],
   "source": [
    "def query(payload):\n",
    "    response = requests.post(API_URL, headers=headers, json=payload)\n",
    "    return response.json()"
   ]
  },
  {
   "cell_type": "code",
   "execution_count": 45,
   "id": "f9f6d8a2-5c70-44b3-8eb3-2637f0fb17f3",
   "metadata": {
    "tags": []
   },
   "outputs": [],
   "source": [
    "#Antworten mit Chatmodell und Detective Conan-Daten\n",
    "#Question 1\n",
    "data = query(\n",
    "    {\n",
    "        \"inputs\": {\n",
    "            \"source_sentence\": \"It is because a wounded person is harder to carry even as a hostage. Conan shot Ran in the leg or knee so that she wouldn't be able to walk if Sawaki forces her to. Which leaves her with a bruise, and spares her from being a hostage with a death threat. It is because a wounded person is harder to carry even as a hostage. Conan shot Ran in the leg or knee so that she wouldn't be able to walk if Sawaki forces her to. Which leaves her with a bruise, and spares her from being a hostage with a death threat. There's also a similar flashback of Kogoro shooting Eri at the beginning of the movie, noting that Kogoro is one of the finest and most precise shooters in the story who graduated with unprecedented marks in the Police Academy. Conan also explains that scene here, that wounded hostages are harder to carry, so they're abandoned by the criminal in most cases.D:F\",\n",
    "            \"sentences\": [\n",
    "                \"In the provided document, it is not explicitly stated why Kohei Sawaki was forced to leave Ran when Conan shot her in the second movie. However, it can be inferred that Sawaki was forced to stop holding Ran hostage because Conan's shot made her useless as a hostage to him. Sawaki's plan was to use Ran as a hostage to escape, but after being shot, Ran became a liability rather than an asset. Therefore, Sawaki had no reason to continue holding her hostage and was forced to leave her behind. The same scenario happened when Jo Murakami held Eri Kisaki hostage and Mouri shot her. Murakami was forced to leave Eri because she was no longer useful as a hostage after being shot.\"]\n",
    "        }\n",
    "    })"
   ]
  },
  {
   "cell_type": "code",
   "execution_count": 47,
   "id": "475cab35-56c1-4cde-86ff-38d85f23129d",
   "metadata": {
    "tags": []
   },
   "outputs": [
    {
     "name": "stdout",
     "output_type": "stream",
     "text": [
      "[0.672664225101471]\n"
     ]
    }
   ],
   "source": [
    "print(data)"
   ]
  },
  {
   "cell_type": "code",
   "execution_count": 57,
   "id": "a630b544-9177-4279-becf-961b0c52703f",
   "metadata": {
    "tags": []
   },
   "outputs": [],
   "source": [
    "#Question 2\n",
    "data = query(\n",
    "    {\n",
    "        \"inputs\": {\n",
    "            \"source_sentence\": \"He doesn't blow his cover, but regular characters pay attention to him down the line. This includes police inspectors. Though, you have to watch a couple of hundred episodes more. Around ep900 this becomes more prominent, but he's still formally just a kid and these kind of moments are more comic relief than anything else. Of course, he exposes his identity to more and more characters, too, and those take him seriously. Yes, Conan is paid attention to by multiple characters. The following characters take Conan very seriously… 1. Detective Boys: Ai Haibara, Sherry/Shiho Miyano, Ayumi Yoshida, Mitsuhiko Tsuburaya, Genta Kojima 2. Hiroshi Agasa 3. Heiji Hattori 4. Kaitou Kid / Kaito Kuroba 5. FBI: James Black, Jodie Starling\",\n",
    "            \"sentences\": [\n",
    "                \"Detective Conan does get taken seriously as an actual detective in the episode The Identity of the Murderer! (Episode 211). In this episode, Conan reveals the identity of the murderer by disguising himself as Sonoko with his voice changer and speaking into his voice-changer bowtie. He explains that he figured out the identity of the killer who attempted to kill Ran in the forest, then again earlier in the bedroom, the one who carried away Chikako right in front of their faces and chopped her up in the forest. Conan then explains that the killer wasn\\'t really hiding in the forest, as he proved as the killer that attacked Ran in her bedroom did not use any stealth techniques. This is the first time in the series where Conan is taken seriously as an actual detective by the main characters, as they listen to his explanation and are able to understand the reasoning behind his deductions.\"]\n",
    "        }\n",
    "    })"
   ]
  },
  {
   "cell_type": "code",
   "execution_count": 59,
   "id": "a347ce72-8e3f-45b3-b868-968fbaf7b7c7",
   "metadata": {
    "tags": []
   },
   "outputs": [
    {
     "name": "stdout",
     "output_type": "stream",
     "text": [
      "[0.6634921431541443]\n"
     ]
    }
   ],
   "source": [
    "print(data)"
   ]
  },
  {
   "cell_type": "code",
   "execution_count": 61,
   "id": "47b7b439-32e3-478a-8ccf-9be4829d0d43",
   "metadata": {
    "tags": []
   },
   "outputs": [],
   "source": [
    "#Question 3\n",
    "data = query(\n",
    "    {\n",
    "        \"inputs\": {\n",
    "            \"source_sentence\": \"There's no contradiction between the two episodes: in episode 219, Shinichi never saw Kaito Kid (even during the duel with the guns, Kid was hidden behind the sheet) and he didn't even hear the name Kid: he did ask Megure what's the thief's name at the end, but Megure was so focused on the code that Shinichi gave up asking, while still thinking but then, one day..., foreshadowing that the two may meet again in the future. Episode 76 is adapted from manga chapters 156-159, while the Clocktower Heist segment of episode 219 is adapted from the Magic Kaito manga chapters 23-24 (beware a faulty fan translation of the these two chapters in which Shinichi calls the thief Kid all the time, which doesn't happen in the original as I said above). The Shinichi vs Kid showdown was an afterthought, as in it wasn't planned when the first Conan vs Kid case was written (Aoyama said so in his comment for the book Detective Conan vs Kaitou Kid Perfect Edition) and yet when he decided to write a prequel Aoyama was clever enough to find a way around this, by preventing Shinichi from seeing Kid and learning his name. A similar trick was used by Aoyama for the prequel encounter between Shinichi and Heiji three years before the current timeline: neither of them manged to get a clear look at the rival detective or to learn each other's names; that prequel also had the trick of Shinichi and Heiji both solving the case while thinking it was solved by the other detective, thus avoiding a contadiction with a previous story that showed Shinichi solving his first case one year before the current timeline. Another thing is that Shinichi briefly interacted with Heiji's mother in the 3-year old flashback even though he doesn't know her when she first appears in the series: this can be easily explained by the fact that she did nothing to stand out and had her face partially obscured by a cap and ski glasses, plus their interaction was very brief. Gosho Aoyama likes his work to be coherent.\",\n",
    "            \"sentences\": [\n",
    "                \"Kaito Kid first met Shinichi in the Detective Conan series, not Conan. This is because the episode where Kaito Kid first appeared (episode 76) takes place before Shinichi became Conan. In this episode, Shinichi is still his normal self and has not transformed into Conan yet. Therefore, Kaito Kid met Shinichi first, not Conan. The reason why Conan acted like he's never met Kaito Kid in this episode is because he has lost his memories as Shinichi and does not remember meeting Kaito Kid before.\"]\n",
    "        }\n",
    "    })"
   ]
  },
  {
   "cell_type": "code",
   "execution_count": 63,
   "id": "b34e6ca6-20f7-45a3-bc29-607732471861",
   "metadata": {
    "tags": []
   },
   "outputs": [
    {
     "name": "stdout",
     "output_type": "stream",
     "text": [
      "[0.5567483305931091]\n"
     ]
    }
   ],
   "source": [
    "print(data)"
   ]
  },
  {
   "cell_type": "code",
   "execution_count": 65,
   "id": "3d92b6b1-cc0d-4f83-b05f-597aa963effc",
   "metadata": {
    "tags": []
   },
   "outputs": [],
   "source": [
    "#Question 4\n",
    "data = query(\n",
    "    {\n",
    "        \"inputs\": {\n",
    "            \"source_sentence\": \"Haibara is still in the form of a child and is not hidden from society, so people know who she is. If she doesn't go to school, people will question what is going on, and she can probably keep better tabs on Conan and make sure he doesn't accidentally reveal his identity. According to Detective Conan World Wiki, Because she occasionally works overnight on the antidote for the APTX 4869, she tends to be tired quite frequently, causing Conan to call her an evil-eyed yawny girl on one occasion. So, it is likely that school can also function as a sort of break for her. Also, it's not like she isn't working on it a lot. The files on the drug were all deleted so it is difficult for her to create a permanent antidote and as such, makes progress slow on it.\",\n",
    "            \"sentences\": [\n",
    "                \"Haibara attends school as part of her alias Ai Haibara to prevent the Black Organization from knowing that she had shrunk into a child. She and Professor Hiroshi Agasa created her alias and enrolled her in Teitan Elementary School to keep her identity hidden. While she may have knowledge and skills that could be used to redevelop the APTX drug and find an antibody to it, her primary focus is on maintaining her cover and avoiding detection by the Black Organization.\"]\n",
    "        }\n",
    "    })"
   ]
  },
  {
   "cell_type": "code",
   "execution_count": 67,
   "id": "7980b180-f86d-4826-ac2f-30602a73acb4",
   "metadata": {
    "tags": []
   },
   "outputs": [
    {
     "name": "stdout",
     "output_type": "stream",
     "text": [
      "[0.6844580769538879]\n"
     ]
    }
   ],
   "source": [
    "print(data)"
   ]
  },
  {
   "cell_type": "code",
   "execution_count": 69,
   "id": "7c57a4c3-ac6a-4e6c-b170-9200118b794d",
   "metadata": {
    "tags": []
   },
   "outputs": [],
   "source": [
    "#Question 5 \n",
    "data = query(\n",
    "    {\n",
    "        \"inputs\": {\n",
    "            \"source_sentence\": \"Akemi Miyano actually was in a previous case, in episode 13, The Strange Person Hunt Murder Case. The problem is that the anime didn't do that episode according to the manga, so they had to change some things later to make the show follow the correct storyline. Here's a summary from Detective Conan World Wiki: In the manga version of the story Gin and Vodka are the masterminds of the case (rather than Okita), and they end up killing Masami Hirota/Akemi Miyano who informs Conan of the organization's existence and that they dress in black. Her death is the motive of Shiho Miyano's defection which leads to Ai Haibara's appearance later in the series. Furthermore, Shiho makes a silhouetted appearance when Akemi is demanding for herself and her sister to be free of the organization, which is also omitted. To repair the storyline, Episode 128 The Black Organization: One Billion Yen Robbery Case was written with a similar ending to the manga version.\",\n",
    "            \"sentences\": [\n",
    "                \"Conan and Haibara\\'s sister, Masami, met each other during the events of episode 127, The Missing Cabin at the Belltree Express. This is when Haibara, who was still known as Ai Haibara at the time, was introduced to the Detective Boys and revealed her past as a former member of the Black Organization with the codename Sherry. Conan, who mistrusted Haibara due to her former affiliation with the Black Organization, protested to Professor Agasa about her presence. However, Agasa explained that once Haibara was caught by the Black Organization, it would only be a matter of time before he was captured too. Since then, Conan had started to place his trust in Haibara and accepted her as his friend. It is likely that Masami, who is Haibara\\'s older sister and was also a member of the Black Organization, met Conan during this time and had the opportunity to get to know him well enough to suspect that he is actually Shinichi Kudo.\"]\n",
    "        }\n",
    "    })"
   ]
  },
  {
   "cell_type": "code",
   "execution_count": 71,
   "id": "d04c9d64-19d0-4f12-93df-e819ef21f253",
   "metadata": {
    "tags": []
   },
   "outputs": [
    {
     "name": "stdout",
     "output_type": "stream",
     "text": [
      "[0.6293274164199829]\n"
     ]
    }
   ],
   "source": [
    "print(data)"
   ]
  },
  {
   "cell_type": "code",
   "execution_count": 73,
   "id": "a402cba7-9fad-4d09-9d90-38ec0ad2f4f3",
   "metadata": {
    "tags": []
   },
   "outputs": [],
   "source": [
    "#Question 6\n",
    "data = query(\n",
    "    {\n",
    "        \"inputs\": {\n",
    "            \"source_sentence\": \"Conan never learned about their codenames in the anime due to the plot modification, which makes a big plothole.Detective Conan World's Wiki stated: The first season of Detective Conan rarely featured the Black Organization because the anime writers wanted to downplay their presence. Two of the episodes at least, were altered heavily in light of this: Episode 5, The Shinkansen's Bomb Case: The episode replaces the two men who shrunk Conan with lookalikes unrelated to the Black Organization. In the manga version of this case, Conan runs into the real pair and learns their code names (Gin/Vodka in the Japanese Version, Melkior and Kaspar in the English Version). Their replacement creates a continuity error in Episode 54, Game Company Murder Case. Conan recognizes their code names when Tequila speaks to them, yet Conan never learned their code names in the anime version of events.[...]As already mentioned, in the manga version, Conan first learned about their codenames in The Shinkansen's Bomb Case (vol 4, files 4-6) where he ran into them inside the train. There, using the microphone bug gadget by Professor Agasa, he eavesdropped on their conversation and learned about Gin and Vodka, their codenames.\",\n",
    "            \"sentences\": [\n",
    "                \"Conan learns the codenames of Vodka and Gin in the anime episode 'The Shinkansen Bomb Case' (episode 10). In this episode, Conan bugs their seats as soon as they leave to go to make a transaction, and overhears Gin explain to Vodka the details of the bombing plan. Gin and Vodka disembark at Nagoya to avoid being caught in the explosion, and Conan decides to follow them. However, he is stopped by Ran Mouri from chasing them. Conan then turns his attention to finding the bomb and successfully ejects the black case from the train before it explodes.\"]\n",
    "        }\n",
    "    })"
   ]
  },
  {
   "cell_type": "code",
   "execution_count": 75,
   "id": "a2d12843-dedc-4e5c-b198-fce66104c22f",
   "metadata": {
    "tags": []
   },
   "outputs": [
    {
     "name": "stdout",
     "output_type": "stream",
     "text": [
      "[0.7360451221466064]\n"
     ]
    }
   ],
   "source": [
    "print(data)"
   ]
  },
  {
   "cell_type": "code",
   "execution_count": 81,
   "id": "90c227c1-4be9-4ede-825e-d5c1b5d9f460",
   "metadata": {
    "tags": []
   },
   "outputs": [],
   "source": [
    "#Question 7\n",
    "data = query(\n",
    "    {\n",
    "        \"inputs\": {\n",
    "            \"source_sentence\": \"according to the detective conan wiki:4 Agasa updated the glasses so they can zoom in on a distant target and enhance visibility, even in the dark. As of the anime episode The Unsmashable Snowman and Volume 54, Conan's glasses can only have some form of magnifying lens. This lens is on the right, according to the manga, while the Criminal Tracking Glasses feature is on the left lens. Movie 8 and Movie 11 are the only appearances that uses the left lens for the telescopic feature. Because movies are non-canon, it is unknown whether Conan's glasses have this modification on both lenses in conjunction with the criminal tracking feature, or if one modification would instead interfere with the other.  it was never stated when Agasa updated the lenses, and there is only a few appearances. Hope this helps\",\n",
    "            \"sentences\": [\n",
    "                \"The zoom functionality was added to Conan\\'s glasses in episode 466, The Mysterious Lake Disappearance Case. This is the first time it is mentioned or used in the series.\"]\n",
    "        }\n",
    "    })"
   ]
  },
  {
   "cell_type": "code",
   "execution_count": 83,
   "id": "024a0853-fff4-4df4-903b-a787d0af9bbc",
   "metadata": {
    "tags": []
   },
   "outputs": [
    {
     "name": "stdout",
     "output_type": "stream",
     "text": [
      "[0.6239426732063293]\n"
     ]
    }
   ],
   "source": [
    "print(data)"
   ]
  },
  {
   "cell_type": "code",
   "execution_count": 85,
   "id": "5898f941-c21f-4ef8-9bb1-ee7b5fa2d19e",
   "metadata": {
    "tags": []
   },
   "outputs": [],
   "source": [
    "#Question 8\n",
    "data = query(\n",
    "    {\n",
    "        \"inputs\": {\n",
    "            \"source_sentence\": \"You are talking about episode 771 of the anime (chapter 892 in the manga) The woman was Elena Miyano, the mother of Shiho Miyano (Ai Haibara) who created the first prototipes of the APTX-4869 for the BO. Acording to DC world wiki: While the true relationship between them has not been revealed yet, We know that they knew each other when Rei was younger. Rei got into many fights and it seems that Elena would bandage him up after the fights. However, one day, Elena had to move and could no longer bandage Amuro's real name is Rei Furuya and Rei (零) means zero and that is possibly the reason why he is called zero.\",\n",
    "            \"sentences\": [\n",
    "                \"The woman who speaks to young Tooru Amuro/Rei Furuya is his mother. She calls him Zero because it is his codename in the Public Security Bureau, where he works as an undercover agent. The fact that he responds to this codename suggests that he had a close relationship with his mother and that she was aware of his work as an agent. However, the specifics of their relationship and why she calls him Zero are not explicitly stated in the given document.\"]\n",
    "        }\n",
    "    })"
   ]
  },
  {
   "cell_type": "code",
   "execution_count": 87,
   "id": "714f2c84-cffc-4d10-b560-de3b8895e012",
   "metadata": {
    "tags": []
   },
   "outputs": [
    {
     "name": "stdout",
     "output_type": "stream",
     "text": [
      "[0.5763964056968689]\n"
     ]
    }
   ],
   "source": [
    "print(data)"
   ]
  },
  {
   "cell_type": "code",
   "execution_count": 89,
   "id": "2fd3be56-1711-41e2-a3db-e4e00ddde206",
   "metadata": {
    "tags": []
   },
   "outputs": [],
   "source": [
    "#Question 9\n",
    "data = query(\n",
    "    {\n",
    "        \"inputs\": {\n",
    "            \"source_sentence\": \"Of course, Conan's real age is the same as his age before he shrank. He was 16 at the time he shrank. Conan does mention his age in the first volume of the manga in File 2, when he almost accidentally tells Ran that he is 16, instead of 6.  Later in the series, Conan's age is 7, as he has experienced a birthday. Conan is also around the same size as other kids that age, which is probably why he was put in class 1-B when he started going to grade school. In Japan, first-year grade school students are between the ages of 6 and 7.\",\n",
    "            \"sentences\": [\n",
    "                \"Conan is supposed to be acting as a 6-7 year old. Before he shrank, he was a 17 year old high school student.\"]\n",
    "        }\n",
    "    })"
   ]
  },
  {
   "cell_type": "code",
   "execution_count": 91,
   "id": "0f28e078-6f43-4e50-a0f7-7cb57b723fa5",
   "metadata": {
    "tags": []
   },
   "outputs": [
    {
     "name": "stdout",
     "output_type": "stream",
     "text": [
      "[0.79802405834198]\n"
     ]
    }
   ],
   "source": [
    "print(data)"
   ]
  },
  {
   "cell_type": "code",
   "execution_count": 93,
   "id": "9afd5b10-048e-454c-9818-316b07a45592",
   "metadata": {
    "tags": []
   },
   "outputs": [],
   "source": [
    "#Question 10\n",
    "data = query(\n",
    "    {\n",
    "        \"inputs\": {\n",
    "            \"source_sentence\": \"Her first three lie about her cooking skill, allergies, and the fact that she is married was intended from her to test Mouri whether he noticed it or not, not to hide her real identity as Heiji's mother. But her third lie came unintentionally from her when she was about to say cold coffee. Maybe she did it accidentally and has to cover it with saying Reiko. So she lied to test Mouri, not to hide her real identity. Another possibility is maybe she didn't know whether Heiji told his friend about her hobby and others or not, and she did that because she didn't want to know that she is Heiji's mother and make all her lies vain.\",\n",
    "            \"sentences\": [\n",
    "                \"It is not explicitly stated in the given document why Heiji's mom had to lie about her cooking skills and allergy to dust. However, it is possible that she did so as part of a test for Mouri and Conan to figure out her true identity, as the document suggests. It is also possible that she wanted to gauge their observational and deductive abilities, or to see how they would react to her lies. Additionally, it is worth noting that Heiji's mom may have had her own reasons for lying, which are not mentioned in the document. Ultimately, the reason for her lies remains speculative and open to interpretation.\"]\n",
    "        }\n",
    "    })"
   ]
  },
  {
   "cell_type": "code",
   "execution_count": 95,
   "id": "e7424e01-ad52-438a-9bdc-8c84d47dba3b",
   "metadata": {
    "tags": []
   },
   "outputs": [
    {
     "name": "stdout",
     "output_type": "stream",
     "text": [
      "[0.793854832649231]\n"
     ]
    }
   ],
   "source": [
    "print(data)"
   ]
  },
  {
   "cell_type": "code",
   "execution_count": 97,
   "id": "34700d2c-e9ab-4379-b7be-711e98b57d1b",
   "metadata": {
    "tags": []
   },
   "outputs": [],
   "source": [
    "#Question 11\n",
    "data = query(\n",
    "    {\n",
    "        \"inputs\": {\n",
    "            \"source_sentence\": \"Mouri was left on a gas station. At the beginning of this arc, Mouri, Ran, and Conan went to a gas station and asked for the direction. That's when Kid replaced Mouri Last page of chapter 302. Ran: Hey, I still have one question. Where is the real dad~? Mouri: A~~choo! (sneeze) Mouri: Fwa.. (wake up from sleep)\",\n",
    "            \"sentences\": [\n",
    "                \"The real Mouri was not present in the helicopter. The Mouri in the helicopter was actually Kaito Kid in disguise. The real Mouri was likely on the ground, watching the events unfold.\"]\n",
    "        }\n",
    "    })"
   ]
  },
  {
   "cell_type": "code",
   "execution_count": 99,
   "id": "360729e8-90bd-46d2-978c-1da8ad4661b0",
   "metadata": {
    "tags": []
   },
   "outputs": [
    {
     "name": "stdout",
     "output_type": "stream",
     "text": [
      "[0.5232133269309998]\n"
     ]
    }
   ],
   "source": [
    "print(data)"
   ]
  },
  {
   "cell_type": "code",
   "execution_count": 101,
   "id": "346de706-e7f6-4582-ba17-e1b042a66cf2",
   "metadata": {
    "tags": []
   },
   "outputs": [],
   "source": [
    "#Question 12\n",
    "data = query(\n",
    "    {\n",
    "        \"inputs\": {\n",
    "            \"source_sentence\": \"A nice question. I have to get around a few topics to find a logic answer. Let's start with the explanation of the Liar statement against Toru Amuro. The life Amuro is living and showing to all people around him is just a lie / fake. He claims to be a detective like Kogoro in the first episode he appears. And after the case is solved, he wants to be his apprentice to stay close to him, for learning from the Great Kogoro. But after we know he is Bourbon, the whole perspective changed. What does he want? Why is he with the main characters? What exactly is his plan? Soon it is revealed: he wants to prove that Shuichi Akai is alive and he and Kir faked his death. This makes him a fearful enemy: he is close to the main characters, he has the possibility to find out the truth, yet, Toru Amuro is not who we think he is - he's a pretty good liar. Akai explains it in the current chapter: Toru Amuro is actually Rei Furuya, an undercover cop! He is also infiltrating the Organization, like Akai used to / like Kir is at the moment. The theory that Bourbon is our enemy is complete nonsense - he is on our side, even though he hates Akai for some reasons. He even lies to Vermouth at the end: he claims that he was wrong; that Akai is in fact dead and Kir is loyal to the Organization. This lie shows us the real side of Amuro - he's a friend. For me, the situation you are confused by is a simple message to each other: Conan knows about the real Amuro, the real person behind his role. But Amuro in return has his own reasons to question Conan. The Sleeping Kogoro is one point Amuro questions and believes Conan to be behind it -> there is this one scene where he phones with Vermouth and says that he wants to stay with Kogoro because he wants to solve the mystery behind the Sleeping Kogoro. My conclusion: Conan and Amuro know the lies of each other. And with that scene (Liar - You're one to talk...) they admit that they know each others secret. My fingers hurt. I hope this answers your question (a bit).\",\n",
    "            \"sentences\": [\n",
    "                \"In chapter 897 of the Detective Conan manga, Conan calls Bourbon a liar because Bourbon had previously claimed that he had never met Shuichi Akai, but it is revealed that Bourbon and Akai had actually met before. This revelation leads Conan to call Bourbon a liar for denying their previous encounter.\"]\n",
    "        }\n",
    "    })"
   ]
  },
  {
   "cell_type": "code",
   "execution_count": 103,
   "id": "a1cbbf4f-1627-405e-9dbb-b744d0002706",
   "metadata": {
    "tags": []
   },
   "outputs": [
    {
     "name": "stdout",
     "output_type": "stream",
     "text": [
      "[0.4092159569263458]\n"
     ]
    }
   ],
   "source": [
    "print(data)"
   ]
  },
  {
   "cell_type": "code",
   "execution_count": 105,
   "id": "19c5976a-c48c-496a-988c-fb1ba5922a1c",
   "metadata": {
    "tags": []
   },
   "outputs": [],
   "source": [
    "#Question 13\n",
    "data = query(\n",
    "    {\n",
    "        \"inputs\": {\n",
    "            \"source_sentence\": \"Saying Conan doesn't reveal his identity is wrong, there are 10 people who know about Conan true identity, and Conan told 2 of them. (Link contain spoiler) Conan never told Ran because it's dangerous for her to know the truth. Professor Agasa warn him about it at the first time he know about Conan, Second Chapter - The Shrunken Detective. Knowing her personality, Ran will risk her life to save others and most likely too help Conan to fight the Black Organization. This chapter (chapter 434 Rotten Apple) is when Ran tried to save Ai from Vermouth, she risk her own life to save her. On several occasion, Shinichi wants to tell Ran the truth about his identity but chooses her safety above their happiness. Beside, different from the others who know Conan's secret, Ran might unintentionally tell anyone about it. Closest possible, she will tell her best friend, Sonoko. For example, when Ran accidentally tell Sonoko about Oogami. (He's a wrestler who cover his real identity by wearing a mask - Chapter 389 The Man Who Can Never Be a Wolf)  At one point Ran knew that Conan is Shinichi and actually waiting for him to tell her by himself, but as always Conan was able to trick her again.\",\n",
    "            \"sentences\": [\n",
    "                \"Conan doesn't reveal his identity to Ran in Detective Conan (Case Closed) because he wants to protect her from the danger of the Black Organization. Shinichi Kudo doesn't tell about his problem to Ran because he doesn't want to burden her with his troubles and also because he wants to protect her from the danger of the Black Organization. Ran has suspected that Conan is Shinichi multiple times, but Conan continues to hide his identity from her to keep her safe. The series has many episodes, but the main plot revolves around Conan's mission to uncover the truth about the Black Organization and bring them to justice, while also protecting those he cares about. Revealing his identity to Ran would compromise her safety and potentially put her in danger, which is why Conan continues to keep his identity a secret.\"]\n",
    "        }\n",
    "    })"
   ]
  },
  {
   "cell_type": "code",
   "execution_count": 107,
   "id": "a5c94e23-9a87-498f-836e-4096f146f9f6",
   "metadata": {
    "tags": []
   },
   "outputs": [
    {
     "name": "stdout",
     "output_type": "stream",
     "text": [
      "[0.8479334115982056]\n"
     ]
    }
   ],
   "source": [
    "print(data)"
   ]
  },
  {
   "cell_type": "code",
   "execution_count": 11,
   "id": "f8a2d555-0dd3-4749-92ab-51204178cc4d",
   "metadata": {
    "tags": []
   },
   "outputs": [],
   "source": [
    "#Question 14\n",
    "data = query(\n",
    "    {\n",
    "        \"inputs\": {\n",
    "            \"source_sentence\": \"because even when her appearance is a little kid, unlike Conan who sometimes act like a kid, she acts like an adult, thus everyone call her Haibara-san. I remember one chapter tells Ayumi wants to call her Ai once but afraid to do so, at the end, she calls her Ai, but when the others also want to call her Ai, she refuses To expand my comment, it's because she's a transfer student and always act mature Case Closed Chapter 398 Page 3 Ayumi tried to call her Ai-cahn several times but too afraid to do soCase Closed Chapter 398 Page 4 But in the end, she was able to call he Ai-chan, but when the other called her that, she refusedCase Closed Chapter 398 Page 18Pictures taken from Case Closed Chapter 398 and 400\",\n",
    "            \"sentences\": [\n",
    "                \"Conan and the Detective Boys call Ai Haibara-san because she is older than them and they respect her. Additionally, Ai only allows Ayumi to call her Ai-chan.\"]\n",
    "        }\n",
    "    })"
   ]
  },
  {
   "cell_type": "code",
   "execution_count": 13,
   "id": "14b3e8d7-3e58-48a6-a994-e5c7e2475fd4",
   "metadata": {
    "tags": []
   },
   "outputs": [
    {
     "name": "stdout",
     "output_type": "stream",
     "text": [
      "[0.7824751138687134]\n"
     ]
    }
   ],
   "source": [
    "print(data)"
   ]
  },
  {
   "cell_type": "code",
   "execution_count": 113,
   "id": "b1e12692-61b5-4580-bf39-4c5297c59d80",
   "metadata": {
    "tags": []
   },
   "outputs": [],
   "source": [
    "#Question 15\n",
    "data = query(\n",
    "    {\n",
    "        \"inputs\": {\n",
    "            \"source_sentence\": \"Remember that once your body develops an immunity against baiju thus you can't grow twice. Conan was probably thinking that it might be useful in the fell clutch of circumstance. Plot-wise, if Haibara already drank baiju and so, if Haibara wasn't in adult form, Conan and Haibara will be unprotected and might die. Since they have this plot immunity, then that won't happen. I'm not sure why he kept it from Haibara, but at that point, it's very likely that he still didn't trust her. Haibara first appearance in manga is in chapter 176 and he told her about the wine in chapter 241. That's only 65 chapters apart, and in those 65 chapters there are only 5 cases of which that include Haibara. From Conan point of view, it was probably not enough time to trust her.\",\n",
    "            \"sentences\": [\n",
    "                \"The document does not provide enough information to answer this question. It is not specified when or how Conan found out about the liquor that makes him restore to his original size, or why he did not tell Haibara about it sooner. It is also not specified whether Haibara knew about this liquor before Conan asked her to drink it in episode 177. Without this information, it is not possible to determine why Conan did not tell Haibara about the liquor sooner.\"]\n",
    "        }\n",
    "    })"
   ]
  },
  {
   "cell_type": "code",
   "execution_count": 115,
   "id": "5a26a7aa-69cd-49e7-8811-c44504197330",
   "metadata": {
    "tags": []
   },
   "outputs": [
    {
     "name": "stdout",
     "output_type": "stream",
     "text": [
      "[0.750466525554657]\n"
     ]
    }
   ],
   "source": [
    "print(data)"
   ]
  },
  {
   "cell_type": "code",
   "execution_count": 117,
   "id": "0b07f711-3e2e-487a-980f-da88998aa126",
   "metadata": {
    "tags": []
   },
   "outputs": [],
   "source": [
    "#Antworten von ChatGPT\n",
    "#Question 1\n",
    "data = query(\n",
    "    {\n",
    "        \"inputs\": {\n",
    "            \"source_sentence\": \"It is because a wounded person is harder to carry even as a hostage. Conan shot Ran in the leg or knee so that she wouldn't be able to walk if Sawaki forces her to. Which leaves her with a bruise, and spares her from being a hostage with a death threat. It is because a wounded person is harder to carry even as a hostage. Conan shot Ran in the leg or knee so that she wouldn't be able to walk if Sawaki forces her to. Which leaves her with a bruise, and spares her from being a hostage with a death threat. There's also a similar flashback of Kogoro shooting Eri at the beginning of the movie, noting that Kogoro is one of the finest and most precise shooters in the story who graduated with unprecedented marks in the Police Academy. Conan also explains that scene here, that wounded hostages are harder to carry, so they're abandoned by the criminal in most cases.D:F\",\n",
    "            \"sentences\": [\n",
    "                \"In Detective Conan: The Fourteenth Target, Kohei Sawaki is holding Ran hostage, and Conan takes a risky but calculated shot at Ran to disarm Sawaki. The reason Sawaki is forced to release Ran after Conan shoots her is due to the specific technique Conan used and the psychological impact on the situation.Here’s a breakdown of what happened: Conan’s Aim: Conan aimed for a non-lethal spot, specifically Ran's shoulder, ensuring that she would not be seriously harmed but that the impact would force Kohei Sawaki to let go of her. This shot was carefully calculated, similar to what Kogoro Mouri did in the earlier scene when Jo Murakami was holding Eri Kisaki hostage. Incapacitating the Hostage: By shooting Ran, Conan made it impossible for Sawaki to continue using her as a shield. The sudden pain and impact would have caused Ran to slump or become difficult to control, effectively ruining Sawaki's advantage in using her as a human shield. Psychological Impact: Sawaki likely did not expect Conan to take such a bold action. The shock of Conan shooting his own friend destabilized Sawaki both mentally and physically, forcing him to react instinctively by releasing Ran. Conan's act showed a high level of decisiveness, which threw Sawaki off balance. Tactical Advantage: By shooting the hostage, Conan neutralized Sawaki's ability to use Ran as leverage. The key idea here is that a hostage taker relies on the victim being unharmed to maintain control over the situation. The second the hostage is injured (but not fatally), the captor loses their bargaining chip, which forces them to let go of the hostage. In essence, Conan took a page from Kogoro Mouri’s playbook—by shooting the hostage in a controlled manner, he rendered the captor powerless.\"]\n",
    "        }\n",
    "    })"
   ]
  },
  {
   "cell_type": "code",
   "execution_count": 119,
   "id": "7d48449c-ca88-4c7c-be39-c1bf42c726ab",
   "metadata": {
    "tags": []
   },
   "outputs": [
    {
     "name": "stdout",
     "output_type": "stream",
     "text": [
      "[0.6968076825141907]\n"
     ]
    }
   ],
   "source": [
    "print(data)"
   ]
  },
  {
   "cell_type": "code",
   "execution_count": 121,
   "id": "0b719aac-5a7d-4aac-9e0c-2c8abc5531e3",
   "metadata": {
    "tags": []
   },
   "outputs": [],
   "source": [
    "#Question 2\n",
    "data = query(\n",
    "    {\n",
    "        \"inputs\": {\n",
    "            \"source_sentence\": \"He doesn't blow his cover, but regular characters pay attention to him down the line. This includes police inspectors. Though, you have to watch a couple of hundred episodes more. Around ep900 this becomes more prominent, but he's still formally just a kid and these kind of moments are more comic relief than anything else. Of course, he exposes his identity to more and more characters, too, and those take him seriously. Yes, Conan is paid attention to by multiple characters. The following characters take Conan very seriously… 1. Detective Boys: Ai Haibara, Sherry/Shiho Miyano, Ayumi Yoshida, Mitsuhiko Tsuburaya, Genta Kojima 2. Hiroshi Agasa 3. Heiji Hattori 4. Kaitou Kid / Kaito Kuroba 5. FBI: James Black, Jodie Starling\",\n",
    "            \"sentences\": [\n",
    "                \"In Detective Conan, Conan Edogawa (the de-aged Shinichi Kudo) is rarely taken seriously as a detective by the adults around him, primarily because he is in the body of a young child. Most of the time, he has to solve cases indirectly by using subtle hints or his voice-changing bowtie to impersonate someone else, usually Kogoro Mouri, to announce the solution. However, there are a few notable moments where Conan is recognized for his intelligence and abilities, even though he's still seen as a child. Here are a few instances where he is taken more seriously: Episode 96 - The Cornered Famous Detective! Two Big Murder Cases (Part 2): In this two-part special, Heiji Hattori figures out that Conan is Shinichi after noticing his clever deductions and behavior. From this point onward, Heiji treats Conan as an equal, fully aware that he's the real detective behind the scenes. This marks one of the few relationships where Conan is acknowledged as a capable detective. Episode 10 - The Pro Soccer Player’s Secret: Conan directly gives a deduction in front of Kogoro Mouri, and for once, Kogoro acknowledges Conan's sharp thinking. While it's a brief moment, Mouri is genuinely impressed by Conan's analysis. However, Mouri quickly goes back to dismissing Conan’s intelligence as kid's luck. Movie 6: The Phantom of Baker Street: In this non-canon movie, Conan’s intellect shines, and the adults who are present, including a major scientist, gradually start to recognize his capabilities as he solves a complicated case in a virtual reality setting. While the recognition is limited to the context of the movie, it shows Conan being taken more seriously in an extraordinary situation. Episode 928 - The Scarlet School Trip (Part 1 & 2): In this episode, Conan temporarily reverts to his original form, Shinichi Kudo. As Shinichi, he is directly involved in solving the case, and naturally, the people around him respect and acknowledge his abilities. It's one of the rare moments where he doesn't need to hide behind his identity as Conan. Episode 219 - The Gathering of the Detectives! Shinichi Kudo vs. Kaitou Kid: This is another instance where Conan, as Shinichi, is respected as a detective by other characters, including his rival Kaitou Kid. Conan outwits Kid, and the detective gathering takes him seriously. While Conan is rarely fully acknowledged as a detective in his child form, these episodes and movies offer glimpses where he is taken seriously by others, either as Shinichi or due to extraordinary circumstances where his intellect is undeniable. The overall dynamic of Conan being underestimated due to his appearance as a child remains a key part of the series’ storytelling and humor.\"]\n",
    "        }\n",
    "    })"
   ]
  },
  {
   "cell_type": "code",
   "execution_count": 123,
   "id": "af1bbb81-0289-4f77-814e-10e3d61f532a",
   "metadata": {
    "tags": []
   },
   "outputs": [
    {
     "name": "stdout",
     "output_type": "stream",
     "text": [
      "[0.7408980131149292]\n"
     ]
    }
   ],
   "source": [
    "print(data)"
   ]
  },
  {
   "cell_type": "code",
   "execution_count": 125,
   "id": "d562cd31-d3a8-4a12-9964-003bd34bab41",
   "metadata": {
    "tags": []
   },
   "outputs": [],
   "source": [
    "#Question 3\n",
    "data = query(\n",
    "    {\n",
    "        \"inputs\": {\n",
    "            \"source_sentence\": \"There's no contradiction between the two episodes: in episode 219, Shinichi never saw Kaito Kid (even during the duel with the guns, Kid was hidden behind the sheet) and he didn't even hear the name Kid: he did ask Megure what's the thief's name at the end, but Megure was so focused on the code that Shinichi gave up asking, while still thinking but then, one day..., foreshadowing that the two may meet again in the future. Episode 76 is adapted from manga chapters 156-159, while the Clocktower Heist segment of episode 219 is adapted from the Magic Kaito manga chapters 23-24 (beware a faulty fan translation of the these two chapters in which Shinichi calls the thief Kid all the time, which doesn't happen in the original as I said above). The Shinichi vs Kid showdown was an afterthought, as in it wasn't planned when the first Conan vs Kid case was written (Aoyama said so in his comment for the book Detective Conan vs Kaitou Kid Perfect Edition) and yet when he decided to write a prequel Aoyama was clever enough to find a way around this, by preventing Shinichi from seeing Kid and learning his name. A similar trick was used by Aoyama for the prequel encounter between Shinichi and Heiji three years before the current timeline: neither of them manged to get a clear look at the rival detective or to learn each other's names; that prequel also had the trick of Shinichi and Heiji both solving the case while thinking it was solved by the other detective, thus avoiding a contadiction with a previous story that showed Shinichi solving his first case one year before the current timeline. Another thing is that Shinichi briefly interacted with Heiji's mother in the 3-year old flashback even though he doesn't know her when she first appears in the series: this can be easily explained by the fact that she did nothing to stand out and had her face partially obscured by a cap and ski glasses, plus their interaction was very brief. Gosho Aoyama likes his work to be coherent.\",\n",
    "            \"sentences\": [\n",
    "                \"In the Detective Conan series, Kaito Kid meets Conan first, not Shinichi Kudo. Here’s the breakdown of how that works and why Conan acts as though he's never met Kid before in Episode 76. Kaito Kid's First Appearance in Detective Conan: Kaito Kid’s first appearance in the Detective Conan anime is in Episode 76, titled “The Phantom Thief Kid’s Miracle Midair Walk.” In this episode, Conan encounters Kaito Kid for the first time and expresses a desire to catch him, as he has heard about Kid’s reputation as a master thief. In this meeting, Conan (who is actually Shinichi in child form) does not know Kaito Kid personally but knows him by reputation. Why Does Conan Act Like He Hasn't Met Kid Before? Conan acts like he's never met Kaito Kid before because Shinichi Kudo and Kaito Kid have never met in person prior to Episode 76. The confusion may arise from the fact that Magic Kaito, the series where Kaito Kid is the protagonist, exists in the same universe. However, the Magic Kaito series and its storyline are largely independent of Detective Conan. In the Detective Conan timeline, Kaito Kid’s debut is in Episode 76, and Shinichi has no prior interaction with him before this, which is why Conan is excited to finally face him in this episode. Kaito Kid's First Encounter with Shinichi: Technically, Kaito Kid doesn’t meet Shinichi Kudo in person until much later. Shinichi's real form reappears only in special circumstances (due to temporary antidotes or flashbacks). The interactions between Shinichi (as Conan) and Kaito Kid mostly occur with Kid either unaware of Conan's true identity or Kid recognizing Conan as a worthy opponent in his child form. In later episodes and movies, Kid comes to realize that Conan is no ordinary child and might even suspect he’s connected to Shinichi, but there is never a direct interaction between Kaito Kid and the original Shinichi Kudo before Episode 76. Conclusion: To clarify: Kaito Kid meets Conan first, in Episode 76, and Conan (Shinichi) doesn't know Kid personally before this encounter. That’s why Conan is eager to meet him and bring him to justice. Kaito Kid does not meet Shinichi Kudo in his true form before this episode, and any interactions with Shinichi in later episodes occur either through Conan or special circumstances.\"]\n",
    "        }\n",
    "    })"
   ]
  },
  {
   "cell_type": "code",
   "execution_count": 127,
   "id": "b912a5e1-9ada-464a-87ab-0a684b244fe0",
   "metadata": {
    "tags": []
   },
   "outputs": [
    {
     "name": "stdout",
     "output_type": "stream",
     "text": [
      "[0.6314379572868347]\n"
     ]
    }
   ],
   "source": [
    "print(data)"
   ]
  },
  {
   "cell_type": "code",
   "execution_count": 131,
   "id": "301d4ac7-f531-43c0-90eb-ffdbdef5e70d",
   "metadata": {
    "tags": []
   },
   "outputs": [],
   "source": [
    "#Question 4\n",
    "data = query(\n",
    "    {\n",
    "        \"inputs\": {\n",
    "            \"source_sentence\": \"Haibara is still in the form of a child and is not hidden from society, so people know who she is. If she doesn't go to school, people will question what is going on, and she can probably keep better tabs on Conan and make sure he doesn't accidentally reveal his identity. According to Detective Conan World Wiki, Because she occasionally works overnight on the antidote for the APTX 4869, she tends to be tired quite frequently, causing Conan to call her an evil-eyed yawny girl on one occasion. So, it is likely that school can also function as a sort of break for her. Also, it's not like she isn't working on it a lot. The files on the drug were all deleted so it is difficult for her to create a permanent antidote and as such, makes progress slow on it.\",\n",
    "            \"sentences\": [\n",
    "                \"Haibara (Ai, formerly known as Shiho Miyano) attends school for a few reasons, both practical and emotional, though her situation differs from Conan's. 1. Maintaining a Cover Identity Like Conan, Haibara is being pursued by the Black Organization, the criminal group she used to work for. To protect herself and avoid suspicion, she adopts the identity of Ai Haibara and pretends to be a normal child. Attending school is part of her cover. If she didn't attend school, it might raise questions and attract unwanted attention, which could eventually lead the Black Organization to her.Blending in: By attending school, she maintains the illusion of being a regular elementary school student, which helps her stay under the radar of the Black Organization and avoid suspicion. 2. Emotional Reasons & Social Bonds Haibara, after shrinking due to the APTX-4869 drug she developed, experiences a drastic change in her life. Having lost everything—the safety of her adult identity, her family (her sister Akemi was killed), and her ties to the Organization—she's left alone in a very vulnerable position. School gives her a chance to build relationships, particularly with Conan and the Detective Boys (Ayumi, Genta, and Mitsuhiko), who provide her with emotional support. Support from Friends: Despite her stoic and mature personality, Haibara develops close bonds with Conan and the other kids, which helps her cope with the emotional trauma she has experienced. Over time, this social connection becomes important to her well-being. 3. Psychological Relief from Trauma Haibara has undergone significant trauma from her time in the Black Organization, where she was surrounded by danger and constantly on edge. Being at school provides her with some semblance of normalcy and a safe environment, which is in stark contrast to her previous life. This setting allows her to temporarily distance herself from the constant threat of the Organization and from the intense pressure of finding a cure. Balancing Life: Haibara knows she can't just isolate herself and work 24/7 on redeveloping the antidote without breaking down psychologically. Going to school helps her balance her life, giving her a break from the harsh realities of her situation. 4. Limited Resources for Research While Haibara does work on trying to redevelop the antidote for APTX-4869, she doesn’t have access to the same sophisticated resources she had when she was with the Black Organization. The time she spends at school doesn't necessarily hinder her research because she can only do so much with the limited materials available to her. She continues her work in the background but also needs to function within her new child identity. Conan's Influence: Conan has also told her several times that there’s no need to rush developing the antidote because solving the mystery of the Black Organization is the priority. This means that Haibara’s research into the antidote isn’t always her sole focus; they must also gather information about the Organization itself. Conclusion Haibara attends school to maintain her cover identity, establish emotional connections, and manage the psychological impact of her situation. Although she does want to find an antidote for the APTX-4869, attending school doesn’t interfere with her efforts to do so, and it provides her with a much-needed balance in her life.\"]\n",
    "        }\n",
    "    })"
   ]
  },
  {
   "cell_type": "code",
   "execution_count": 133,
   "id": "3591618a-8d33-49fa-9a85-335f501931cf",
   "metadata": {
    "tags": []
   },
   "outputs": [
    {
     "name": "stdout",
     "output_type": "stream",
     "text": [
      "[0.7772679328918457]\n"
     ]
    }
   ],
   "source": [
    "print(data)"
   ]
  },
  {
   "cell_type": "code",
   "execution_count": 139,
   "id": "be1771b3-2cad-4f33-8ef5-72eed21ab8a1",
   "metadata": {
    "tags": []
   },
   "outputs": [],
   "source": [
    "#Question 5 \n",
    "data = query(\n",
    "    {\n",
    "        \"inputs\": {\n",
    "            \"source_sentence\": \"Akemi Miyano actually was in a previous case, in episode 13, The Strange Person Hunt Murder Case. The problem is that the anime didn't do that episode according to the manga, so they had to change some things later to make the show follow the correct storyline. Here's a summary from Detective Conan World Wiki: In the manga version of the story Gin and Vodka are the masterminds of the case (rather than Okita), and they end up killing Masami Hirota/Akemi Miyano who informs Conan of the organization's existence and that they dress in black. Her death is the motive of Shiho Miyano's defection which leads to Ai Haibara's appearance later in the series. Furthermore, Shiho makes a silhouetted appearance when Akemi is demanding for herself and her sister to be free of the organization, which is also omitted. To repair the storyline, Episode 128 The Black Organization: One Billion Yen Robbery Case was written with a similar ending to the manga version.\",\n",
    "            \"sentences\": [\n",
    "                \"The confusion regarding Conan and Haibara's sister, Akemi Miyano (also known as Masami Hirota), stems from a gap in the anime's depiction of their interactions and how some details are revealed retroactively in the series. When Did Conan First Meet Akemi? While the series never explicitly shows Conan and Akemi (Masami) meeting before Episode 128, they did indeed encounter each other in Episode 13 (The Strange Person Hunting Murder Case), although Akemi's true identity and her connection to the Black Organization were not revealed at the time. In Episode 13, Akemi used the alias Masami Hirota and was involved in a bank robbery scheme orchestrated by the Black Organization. Conan becomes involved in the investigation after the case turns into a murder. Akemi (Masami) appears in this episode as a suspect but ultimately sacrifices herself in an effort to save her younger sister, Shiho (Haibara), from the Organization. However, her true connection to the Black Organization and Shiho is not revealed until later. Why Did Conan Say He Knew Akemi in Episode 128? At the beginning of Episode 128 (The Black Organization: One Billion Yen Robbery Case), Conan says he knew Akemi, referring to their previous encounter in Episode 13. Even though their meeting wasn't shown in depth, Conan recognizes Akemi as the woman involved in the robbery and murder case he solved previously. This explains why Conan says he knows her in Episode 128, as they had interacted before, even if the full scope of Akemi's background wasn't revealed to him at that time. Why Did Akemi Suspect Conan Was Shinichi? In Episode 129, Akemi tells Haibara (Shiho) that she suspects Conan to be Shinichi Kudo. Akemi’s suspicion likely comes from her brief interactions with Conan during Episode 13, where she observed his deduction skills and sharp intelligence, which would be unusual for a normal child. Since Akemi had been part of the Black Organization, and her sister, Shiho, was the creator of the APTX-4869 drug that shrunk Shinichi, Akemi might have already been aware of the potential effects of the drug, which gave her a reason to suspect that Conan was not an ordinary child. Conclusion Conan first met Akemi (Masami) in Episode 13, where she was involved in a case related to a bank robbery. Conan saying he knew Akemi in Episode 128 is a reference to their meeting in Episode 13, even though her true identity and connection to the Black Organization were not revealed at that time. Akemi's suspicion that Conan is Shinichi comes from her observation of his intelligence during their first meeting, combined with her knowledge of the Black Organization’s activities and her understanding of the APTX-4869 drug. Though the anime doesn’t explicitly show Conan and Akemi's earlier meetings in much detail, the series retroactively reveals her significance, and the narrative hints that she was already aware of Conan's potential connection to Shinichi.\"]\n",
    "        }\n",
    "    })"
   ]
  },
  {
   "cell_type": "code",
   "execution_count": 141,
   "id": "3d4a0466-57e7-4adb-b70b-4a468a20c32c",
   "metadata": {
    "tags": []
   },
   "outputs": [
    {
     "name": "stdout",
     "output_type": "stream",
     "text": [
      "[0.7056471705436707]\n"
     ]
    }
   ],
   "source": [
    "print(data)"
   ]
  },
  {
   "cell_type": "code",
   "execution_count": 147,
   "id": "9e8d3814-c734-4fca-bc79-a4d0d9f7d893",
   "metadata": {
    "tags": []
   },
   "outputs": [],
   "source": [
    "#Question 6\n",
    "data = query(\n",
    "    {\n",
    "        \"inputs\": {\n",
    "            \"source_sentence\": \"Conan never learned about their codenames in the anime due to the plot modification, which makes a big plothole.Detective Conan World's Wiki stated: The first season of Detective Conan rarely featured the Black Organization because the anime writers wanted to downplay their presence. Two of the episodes at least, were altered heavily in light of this: Episode 5, The Shinkansen's Bomb Case: The episode replaces the two men who shrunk Conan with lookalikes unrelated to the Black Organization. In the manga version of this case, Conan runs into the real pair and learns their code names (Gin/Vodka in the Japanese Version, Melkior and Kaspar in the English Version). Their replacement creates a continuity error in Episode 54, Game Company Murder Case. Conan recognizes their code names when Tequila speaks to them, yet Conan never learned their code names in the anime version of events.[...]As already mentioned, in the manga version, Conan first learned about their codenames in The Shinkansen's Bomb Case (vol 4, files 4-6) where he ran into them inside the train. There, using the microphone bug gadget by Professor Agasa, he eavesdropped on their conversation and learned about Gin and Vodka, their codenames.\",\n",
    "            \"sentences\": [\n",
    "                \"You're absolutely right that in the first episode of Detective Conan, Gin and Vodka never explicitly mention their names in Conan's presence. So, the question of how Conan knows their names before Haibara appears might seem confusing. How Conan Learns Gin and Vodka’s Names in the Anime: Although their names aren’t revealed to Conan during their initial encounter in Episode 1, Conan does eventually learn their names through subsequent investigations and encounters with the Black Organization. Here’s a breakdown of how it happens: Episode 5: The Shinkansen Bomb Case In this episode, Conan overhears Gin and Vodka's conversation on the bullet train while he's investigating a bomb threat. Although they don't interact directly, this encounter gives Conan more information about the Black Organization and hints about their operations. However, their names are still not explicitly mentioned here. Episode 54: The Game Company Murder Case This is the first time Conan directly hears Vodka’s name. In this episode, Conan taps into a conversation Vodka is having over the phone while investigating a case involving a video game company linked to the Black Organization. Vodka refers to himself by name during the call, which is how Conan learns Vodka's alias. Episode 128-129: The Black Organization: One Billion Yen Robbery Case In this two-part episode, Conan gets more involved with the Black Organization. During his investigation, Conan starts piecing together more information about them, and this includes learning about Gin and Vodka's names through his research and their operations. Why It Seems Conan Already Knows Their Names: Even though Gin and Vodka don't explicitly introduce themselves in Episode 1, the anime doesn't directly show the moments where Conan learns Gin's name early on. However, as Conan continues to investigate cases involving the Black Organization, he picks up their codenames through surveillance, eavesdropping, and research. The series sometimes doesn’t show the exact moment of revelation, but it becomes clear later on that Conan has gathered enough intel to know who they are. By the time Conan meets Haibara, he is already familiar with the codenames Gin and Vodka, even though Haibara helps fill in more details about the Black Organization. Conclusion: Conan learns Vodka’s name in Episode 54, and by Episode 128, he has already pieced together enough information to know both Gin and Vodka through various encounters and investigations, even though their names aren’t mentioned in Episode 1. The anime doesn't always explicitly show when Conan learns every detail, but through his continuous investigations of the Black Organization, Conan gathers their aliases early on.\"]\n",
    "        }\n",
    "    })"
   ]
  },
  {
   "cell_type": "code",
   "execution_count": 149,
   "id": "5096fdb8-10c7-420e-aa8c-535ced0876c1",
   "metadata": {
    "tags": []
   },
   "outputs": [
    {
     "name": "stdout",
     "output_type": "stream",
     "text": [
      "[0.7848486304283142]\n"
     ]
    }
   ],
   "source": [
    "print(data)"
   ]
  },
  {
   "cell_type": "code",
   "execution_count": 153,
   "id": "d3d7715f-afdb-4b55-a2a4-6197929c2f22",
   "metadata": {
    "tags": []
   },
   "outputs": [],
   "source": [
    "#Question 7\n",
    "data = query(\n",
    "    {\n",
    "        \"inputs\": {\n",
    "            \"source_sentence\": \"according to the detective conan wiki:4 Agasa updated the glasses so they can zoom in on a distant target and enhance visibility, even in the dark. As of the anime episode The Unsmashable Snowman and Volume 54, Conan's glasses can only have some form of magnifying lens. This lens is on the right, according to the manga, while the Criminal Tracking Glasses feature is on the left lens. Movie 8 and Movie 11 are the only appearances that uses the left lens for the telescopic feature. Because movies are non-canon, it is unknown whether Conan's glasses have this modification on both lenses in conjunction with the criminal tracking feature, or if one modification would instead interfere with the other.  it was never stated when Agasa updated the lenses, and there is only a few appearances. Hope this helps\",\n",
    "            \"sentences\": [\n",
    "                \"Conan's glasses with the zoom functionality were first introduced in Episode 426 (which corresponds to Manga Chapter 553), during the Black Impact! The Moment the Black Organization Reaches Out special. This is the first time the zoom feature is explicitly mentioned and used. Breakdown of Events: Episode 426 (Black Impact! The Moment the Black Organization Reaches Out): In this special episode, Professor Agasa upgrades Conan's glasses by adding a magnifying/zoom feature. Conan uses this new feature to zoom in and observe details from a distance during his investigation. The glasses had previously been primarily used for tracking, but this episode introduces the additional zoom functionality for the first time. Episode 466 (The Mansion of Death and the Red Wall): By the time of Episode 466, when Conan uses the zoom function to look into the lake, it’s already established that the glasses have the zoom capability, which is why Professor Agasa and Conan treat it as a familiar feature. The way they speak about it suggests they’ve used it before, and Conan is already accustomed to this upgrade. Conclusion: The zoom functionality was first added to Conan's glasses in Episode 426, and from that point onward, it became a standard feature that Conan used in his investigations. By Episode 466, the zoom feature had already been used a few times, so both Conan and Professor Agasa were familiar with it.\"]\n",
    "        }\n",
    "    })"
   ]
  },
  {
   "cell_type": "code",
   "execution_count": 155,
   "id": "65700914-07dd-4333-97fa-406d7611ea79",
   "metadata": {
    "tags": []
   },
   "outputs": [
    {
     "name": "stdout",
     "output_type": "stream",
     "text": [
      "[0.7217287421226501]\n"
     ]
    }
   ],
   "source": [
    "print(data)"
   ]
  },
  {
   "cell_type": "code",
   "execution_count": 161,
   "id": "32970ff7-fd32-4c7b-a520-f2ee5598ad26",
   "metadata": {
    "tags": []
   },
   "outputs": [],
   "source": [
    "#Question 8\n",
    "data = query(\n",
    "    {\n",
    "        \"inputs\": {\n",
    "            \"source_sentence\": \"You are talking about episode 771 of the anime (chapter 892 in the manga) The woman was Elena Miyano, the mother of Shiho Miyano (Ai Haibara) who created the first prototipes of the APTX-4869 for the BO. Acording to DC world wiki: While the true relationship between them has not been revealed yet, We know that they knew each other when Rei was younger. Rei got into many fights and it seems that Elena would bandage him up after the fights. However, one day, Elena had to move and could no longer bandage Amuro's real name is Rei Furuya and Rei (零) means zero and that is possibly the reason why he is called zero.\",\n",
    "            \"sentences\": [\n",
    "                \"The woman who speaks to a young Tooru Amuro (Rei Furuya) in the flashback is Elena Miyano, who is the mother of Shiho Miyano (Ai Haibara) and Akemi Miyano. Elena was a scientist in the Black Organization and was married to Atsushi Miyano, another prominent scientist in the Organization. Why Is Amuro Called Zero? Amuro is called Zero by Elena Miyano because of his real first name, Rei, which means zero in Japanese. The nickname Zero is a direct reference to his real name. Elena, as a kind and caring figure, might have used Zero as an affectionate nickname for him when he was a child. This interaction suggests a deeper relationship between them from when Rei was younger, possibly indicating that Elena had some role in his life or that Rei admired her. Their Relationship: The exact details of the relationship between young Rei Furuya and Elena Miyano are not fully explored in the anime, but it’s implied that Rei (Amuro) had some connection to the Miyano family, possibly through his childhood and upbringing. Elena's involvement in the Black Organization and her work as a scientist may have led to interactions with Rei in his youth. It’s suggested that Rei looked up to Elena as a maternal figure, and her calling him Zero could have had a significant emotional impact on him, which is why he remembers it vividly. The Flashback in the Hospital Case: In the scene you're referring to, which happens in Episode 866-867 (The Mysterious Boy), Amuro overhears a child in the hospital counting down the elevator floors. When the child says zero, it triggers a flashback to his childhood, when Elena called him Zero. The flashback is significant because it shows that the memory of Elena, as well as the nickname Zero, is emotionally charged for Amuro. Amuro's Background and the Nickname Zero: Amuro’s codename in the Black Organization, Bourbon, contrasts with his real identity as an undercover agent for the National Police Agency Security Bureau (PSB), Zero Division. The use of Zero also ties into his role in the PSB, symbolizing his identity as a law enforcer and his core belief in justice, even while undercover in the Organization. Conclusion: The woman who calls young Amuro Zero is Elena Miyano, Shiho and Akemi’s mother. She had a personal connection with Rei Furuya in his youth and affectionately called him Zero based on the meaning of his first name, Rei. The emotional resonance of this nickname ties into both his childhood memories and his current identity as a secret agent in the Zero Division.\"]\n",
    "        }\n",
    "    })"
   ]
  },
  {
   "cell_type": "code",
   "execution_count": 163,
   "id": "3ddea52b-8e52-4e17-8ac8-c18d2547ad2b",
   "metadata": {
    "tags": []
   },
   "outputs": [
    {
     "name": "stdout",
     "output_type": "stream",
     "text": [
      "[0.7905910611152649]\n"
     ]
    }
   ],
   "source": [
    "print(data)"
   ]
  },
  {
   "cell_type": "code",
   "execution_count": 165,
   "id": "0da7bfde-522e-4ed0-8a7d-f9407b29823a",
   "metadata": {
    "tags": []
   },
   "outputs": [],
   "source": [
    "#Question 9\n",
    "data = query(\n",
    "    {\n",
    "        \"inputs\": {\n",
    "            \"source_sentence\": \"Of course, Conan's real age is the same as his age before he shrank. He was 16 at the time he shrank. Conan does mention his age in the first volume of the manga in File 2, when he almost accidentally tells Ran that he is 16, instead of 6.  Later in the series, Conan's age is 7, as he has experienced a birthday. Conan is also around the same size as other kids that age, which is probably why he was put in class 1-B when he started going to grade school. In Japan, first-year grade school students are between the ages of 6 and 7.\",\n",
    "            \"sentences\": [\n",
    "                \"Conan Edogawa, after shrinking due to the APTX-4869 drug, is meant to be 7 years old, which is the typical age for a first-grader in Japan. He enrolls at Teitan Elementary School to maintain the cover of being a normal child. Before he shrank: As Shinichi Kudo, Conan was 17 years old, and a high school second-year student (equivalent to a junior in the U.S. education system). Shinichi was already well-known for his detective skills and had even worked alongside the police to solve cases. Key Ages: Shinichi Kudo (before shrinking): 17 years old. Conan Edogawa (after shrinking): 7 years old. Throughout the series, Conan maintains the appearance and behavior of a 7-year-old to avoid suspicion, but his mature speech and deductive reasoning skills often stand out, especially to those around him like Ran, Kogoro, and his friends. This discrepancy is part of the humor and intrigue in the show, as Conan tries to balance his adult intellect with the limitations of a child's body.\"]\n",
    "        }\n",
    "    })"
   ]
  },
  {
   "cell_type": "code",
   "execution_count": 167,
   "id": "2cbda590-92ed-4257-89a3-b3d44d2764a1",
   "metadata": {
    "tags": []
   },
   "outputs": [
    {
     "name": "stdout",
     "output_type": "stream",
     "text": [
      "[0.7697051167488098]\n"
     ]
    }
   ],
   "source": [
    "print(data)"
   ]
  },
  {
   "cell_type": "code",
   "execution_count": 174,
   "id": "116c11e1-bdcf-41c4-9119-85cecbd25fce",
   "metadata": {
    "tags": []
   },
   "outputs": [],
   "source": [
    "#Question 10\n",
    "data = query(\n",
    "    {\n",
    "        \"inputs\": {\n",
    "            \"source_sentence\": \"Her first three lie about her cooking skill, allergies, and the fact that she is married was intended from her to test Mouri whether he noticed it or not, not to hide her real identity as Heiji's mother. But her third lie came unintentionally from her when she was about to say cold coffee. Maybe she did it accidentally and has to cover it with saying Reiko. So she lied to test Mouri, not to hide her real identity. Another possibility is maybe she didn't know whether Heiji told his friend about her hobby and others or not, and she did that because she didn't want to know that she is Heiji's mother and make all her lies vain.\",\n",
    "            \"sentences\": [\n",
    "                \"In Episode 220 (The Client Full of Lies), the behavior of Heiji’s mother, Shizuka Hattori, can be explained by a combination of her personality, her background, and the specific circumstances of the case. There are a few key reasons why she goes as far as lying about trivial details like cooking and her dust allergy. 1. Testing Kogoro and Conan/Shinichi's Deductive Skills Shizuka Hattori is known for being highly intelligent and perceptive, much like her son Heiji. The lies she tells about her cooking skills and dust allergies seem to be part of a broader test. She was testing Kogoro Mouri’s (and potentially Conan’s/Shinichi’s) ability to see through deception, just as Heiji frequently challenges Shinichi. Her intention was likely to evaluate how sharp their deduction skills were, and she was particularly interested in seeing how Mouri handled the case. Since Shizuka knows of Conan’s reputation as Shinichi (via Heiji), she might have been curious about his deductive powers as well. The lies were not necessarily meant to conceal her identity completely but to create a puzzle that a skilled detective would be able to piece together. 2. Creating a Plausible Disguise Shizuka's use of a fake name, Reiko, and the other lies (about her cooking skills and allergies) helped make her disguise more convincing. If she had only lied about being from Osaka, it might have been too easy for Kogoro or Conan to suspect something. By weaving an entire persona that was full of believable but inconsistent details, she made her disguise more complex and harder to unravel. Additionally, lying about mundane things like cooking skills and allergies added depth to her disguise, making it less likely for someone to associate her with Heiji. If she kept everything else true except her origin, it could still have left clues that Conan or Mouri could pick up on. Her approach was to create a completely fictitious character. 3. Entertainment and Challenge Heiji’s mother likely did this partially for her own amusement. The Hattori family seems to enjoy challenges and puzzles, as seen with both Heiji and his father. Shizuka likely enjoyed the opportunity to engage in a bit of deception and see if Mouri could solve the mystery. Even though Kogoro wasn’t up to the challenge, it was likely meant as a playful test of skill, especially considering how much her son values solving mysteries. 4. Cultural and Familial Pride Shizuka is proud of her Osaka background, and this pride is a central aspect of both her and Heiji's character. She may have wanted to test the abilities of Tokyo’s Sleeping Kogoro while at the same time concealing her identity to keep a sense of mystery alive. There might also be a cultural dynamic at play, where Osaka residents, known for being witty and sharp, sometimes have a playful rivalry with those from Tokyo. This would explain why she felt the need to deceive someone from Tokyo (Kogoro) to see how he would measure up. 5. Concealing Her Identity to Avoid Bias By hiding her identity as Heiji’s mother, Shizuka also ensured that Kogoro and Conan wouldn’t treat her differently. Had they known who she really was, they might have approached the case with bias or made assumptions based on her relationship with Heiji. Keeping her identity hidden allowed her to observe how they would handle the case without any preconceived notions or favoritism. Conclusion: Shizuka Hattori went as far as lying about trivial details like her cooking and dust allergies because she was setting up a playful test for Kogoro (and indirectly Conan). Her intention wasn’t just to hide her identity but to create a challenge and see how well the detectives could navigate through her lies. It was part of her enjoyment of testing their deductive reasoning and likely stemmed from her family's tradition of valuing intelligence and puzzles.\"]\n",
    "        }\n",
    "    })"
   ]
  },
  {
   "cell_type": "code",
   "execution_count": 176,
   "id": "078bb926-24a0-4363-a35e-57dcd184e540",
   "metadata": {
    "tags": []
   },
   "outputs": [
    {
     "name": "stdout",
     "output_type": "stream",
     "text": [
      "[0.7071937918663025]\n"
     ]
    }
   ],
   "source": [
    "print(data)"
   ]
  },
  {
   "cell_type": "code",
   "execution_count": 8,
   "id": "043cdcc1-2d09-41ea-8bdf-f560ff50ba34",
   "metadata": {},
   "outputs": [],
   "source": [
    "#Question 11\n",
    "data = query(\n",
    "    {\n",
    "        \"inputs\": {\n",
    "            \"source_sentence\": \"Mouri was left on a gas station. At the beginning of this arc, Mouri, Ran, and Conan went to a gas station and asked for the direction. That's when Kid replaced Mouri Last page of chapter 302. Ran: Hey, I still have one question. Where is the real dad~? Mouri: A~~choo! (sneeze) Mouri: Fwa.. (wake up from sleep)\",\n",
    "            \"sentences\": [\n",
    "                \"In episode 219 of Detective Conan, titled The Gathering of the Detectives! Shinichi Kudo vs. Kaitou Kid, it's revealed that the Mouri Kogoro present in the helicopter was actually Kaitou Kid in disguise. However, the episode does not explicitly show what happened to the real Mouri Kogoro during this sequence. Based on the typical tricks that Kaitou Kid uses in his appearances, it's implied that Kid likely incapacitated Mouri and kept him hidden somewhere safe while he impersonated him during the events of the episode. In various other encounters between Kaitou Kid and Conan, Kid has been known to use tranquilizers or other means to briefly subdue or hide people when he needs to assume their identities for his heists or plans. In this case, it's likely that Mouri Kogoro was knocked out off-screen or left in a secure location while Kid executed his plan to prevent anyone from recognizing his disguise. After the events with the helicopter and Senma, Mouri Kogoro probably reappeared unharmed but unaware of what had transpired, a situation that's not unusual when Kaitou Kid is involved.\"]\n",
    "        }\n",
    "    })"
   ]
  },
  {
   "cell_type": "code",
   "execution_count": 10,
   "id": "c9b95af0-3f63-4195-ac4d-d92cdb775492",
   "metadata": {
    "tags": []
   },
   "outputs": [
    {
     "name": "stdout",
     "output_type": "stream",
     "text": [
      "[0.616360068321228]\n"
     ]
    }
   ],
   "source": [
    "print(data)"
   ]
  },
  {
   "cell_type": "code",
   "execution_count": 16,
   "id": "f8c76530-8b49-4084-95fb-16debe6dd01b",
   "metadata": {
    "tags": []
   },
   "outputs": [],
   "source": [
    "#Question 12\n",
    "data = query(\n",
    "    {\n",
    "        \"inputs\": {\n",
    "            \"source_sentence\": \"A nice question. I have to get around a few topics to find a logic answer. Let's start with the explanation of the Liar statement against Toru Amuro. The life Amuro is living and showing to all people around him is just a lie / fake. He claims to be a detective like Kogoro in the first episode he appears. And after the case is solved, he wants to be his apprentice to stay close to him, for learning from the Great Kogoro. But after we know he is Bourbon, the whole perspective changed. What does he want? Why is he with the main characters? What exactly is his plan? Soon it is revealed: he wants to prove that Shuichi Akai is alive and he and Kir faked his death. This makes him a fearful enemy: he is close to the main characters, he has the possibility to find out the truth, yet, Toru Amuro is not who we think he is - he's a pretty good liar. Akai explains it in the current chapter: Toru Amuro is actually Rei Furuya, an undercover cop! He is also infiltrating the Organization, like Akai used to / like Kir is at the moment. The theory that Bourbon is our enemy is complete nonsense - he is on our side, even though he hates Akai for some reasons. He even lies to Vermouth at the end: he claims that he was wrong; that Akai is in fact dead and Kir is loyal to the Organization. This lie shows us the real side of Amuro - he's a friend. For me, the situation you are confused by is a simple message to each other: Conan knows about the real Amuro, the real person behind his role. But Amuro in return has his own reasons to question Conan. The Sleeping Kogoro is one point Amuro questions and believes Conan to be behind it -> there is this one scene where he phones with Vermouth and says that he wants to stay with Kogoro because he wants to solve the mystery behind the Sleeping Kogoro. My conclusion: Conan and Amuro know the lies of each other. And with that scene (Liar - You're one to talk...) they admit that they know each others secret. My fingers hurt. I hope this answers your question (a bit).\",\n",
    "            \"sentences\": [\n",
    "                \"In Detective Conan Chapter 897, Conan calls Bourbon (Amuro Tooru) a liar as part of a crucial moment in their ongoing game of deception and intrigue. To understand this context fully, we need to look at the events leading up to this scene. Context Leading to the Accusation Bourbon, whose real identity is Rei Furuya (an undercover Public Security Bureau officer), has been playing multiple roles throughout the series, pretending to be a detective and working as a private investigator while secretly infiltrating the Black Organization. His relationship with Conan (who he suspects is Shinichi Kudo) is full of tension, as both are aware that the other is hiding something. In the chapters around 897, Bourbon helps Conan and the others solve a case, and they have a brief conversation at the end of the chapter. At this point, Bourbon is still working under the guise of being an ally or just another detective, but Conan is well aware that there's much more to Bourbon's story. While Bourbon pretends to be friendly and cooperative, Conan senses that Bourbon has his own hidden agenda. Why Conan Calls Bourbon a Liar At the end of Chapter 897, Conan calls Bourbon a liar because he recognizes that Bourbon is hiding his true intentions. Bourbon pretends to be an ordinary private detective, but Conan is well aware of his connections to both the police (as Rei Furuya) and the Black Organization (as Bourbon). By calling him a liar, Conan is subtly letting Bourbon know that he's not fooled by his act. This confrontation is a way for Conan to signal that he doesn't fully trust Bourbon and knows he's not being truthful about his real goals. The moment is part of the larger cat-and-mouse dynamic between Conan and Bourbon, where both characters are constantly assessing each other's true intentions without directly confronting each other. So, when Conan calls Bourbon a liar, it’s a recognition of the multiple layers of deception Bourbon is using, and Conan is reminding Bourbon that he’s aware of the lies, even if he doesn't have all the details yet.\"]\n",
    "        }\n",
    "    })"
   ]
  },
  {
   "cell_type": "code",
   "execution_count": 18,
   "id": "e439581c-4220-45ee-ad2f-d9f51309dee6",
   "metadata": {
    "tags": []
   },
   "outputs": [
    {
     "name": "stdout",
     "output_type": "stream",
     "text": [
      "[0.4951857626438141]\n"
     ]
    }
   ],
   "source": [
    "print(data)"
   ]
  },
  {
   "cell_type": "code",
   "execution_count": 20,
   "id": "3810bfcb-52fc-49d2-a42a-19ef1f98b0dd",
   "metadata": {
    "tags": []
   },
   "outputs": [],
   "source": [
    "#Question 13\n",
    "data = query(\n",
    "    {\n",
    "        \"inputs\": {\n",
    "            \"source_sentence\": \"Saying Conan doesn't reveal his identity is wrong, there are 10 people who know about Conan true identity, and Conan told 2 of them. (Link contain spoiler) Conan never told Ran because it's dangerous for her to know the truth. Professor Agasa warn him about it at the first time he know about Conan, Second Chapter - The Shrunken Detective. Knowing her personality, Ran will risk her life to save others and most likely too help Conan to fight the Black Organization. This chapter (chapter 434 Rotten Apple) is when Ran tried to save Ai from Vermouth, she risk her own life to save her. On several occasion, Shinichi wants to tell Ran the truth about his identity but chooses her safety above their happiness. Beside, different from the others who know Conan's secret, Ran might unintentionally tell anyone about it. Closest possible, she will tell her best friend, Sonoko. For example, when Ran accidentally tell Sonoko about Oogami. (He's a wrestler who cover his real identity by wearing a mask - Chapter 389 The Man Who Can Never Be a Wolf)  At one point Ran knew that Conan is Shinichi and actually waiting for him to tell her by himself, but as always Conan was able to trick her again.\",\n",
    "            \"sentences\": [\n",
    "                \"Shinichi Kudo (Conan) does not reveal his identity to Ran in Detective Conan for several key reasons, despite the deep emotional bond and mutual feelings between them. Here's a breakdown of the main reasons for his secrecy: 1. Protecting Ran from Danger One of the most significant reasons Shinichi keeps his identity secret is to protect Ran from the Black Organization, the criminal group responsible for shrinking him into a child's body. Shinichi knows that the Black Organization is extremely dangerous, and if they ever find out that he's still alive (now as Conan), anyone close to him, especially Ran, would become a target. By keeping his true identity hidden, he believes he's shielding her from potential harm. The Black Organization is ruthless, and any slip-up regarding Shinichi's identity could lead to severe consequences for both him and his loved ones. Since Ran is such an important person in his life, the risk is even higher. This is a recurring theme throughout the series, and Shinichi always prioritizes Ran’s safety above his own happiness. 2. Incomplete Cure and Ongoing Mission Shinichi's transformation into Conan was due to the experimental poison APTX 4869. Although there are temporary cures that occasionally allow him to return to his original form, they are unreliable and limited in duration. His main goal is to find a permanent cure, and until he does, he sees no point in telling Ran. He doesn't want to give her hope or burden her with his ongoing predicament until he finds a definitive solution. Additionally, Shinichi/Conan is deeply involved in investigating the Black Organization. He feels a responsibility to see this mission through to the end, as revealing himself too early could compromise his efforts to bring the organization down. Until the mission is complete and the Black Organization is dismantled, Shinichi feels it's too dangerous to fully confide in Ran. 3. Fear of Emotional Pain for Ran Shinichi is fully aware of Ran's feelings for him and how much she suffers from his absence. However, he is afraid that if she learns the truth, the emotional burden might become even greater. By revealing his identity, he would be asking her to share in his difficult, dangerous reality, one that involves constant threats, fear, and uncertainty about the future. Shinichi doesn't want to put her in a situation where she has to constantly worry about him or his safety. Ran has a tendency to be protective of Conan, and if she knew Conan was Shinichi, she'd likely feel even more compelled to intervene in dangerous situations. This could lead to her putting herself at risk or being drawn deeper into his dangerous world. Shinichi doesn’t want to see her suffer more than she already has due to his absence. 4. The Classic Detective Trope From a storytelling perspective, Detective Conan uses the trope of prolonged secrecy and delayed confession, which is common in detective and mystery stories. Keeping Ran in the dark about Conan's true identity maintains dramatic tension in the series, allowing for more suspenseful and emotional moments. The writers play with the “Will she find out?” tension, which is a central element of the long-running series. The near-reveals and misunderstandings where Ran gets close to discovering the truth but doesn't quite confirm it also keep viewers invested in the storyline. The series thrives on the anticipation of when and how Shinichi will finally reveal himself to Ran, so the secrecy serves as a way to keep that excitement alive. 5. Shinichi's Own Struggles with the Situation Shinichi is still a teenager, and despite his incredible intellect, he’s emotionally conflicted. He loves Ran deeply, but he also feels the weight of his situation and the responsibility of his mission. His decision to keep his identity a secret comes from both a sense of duty and his own emotional struggle. He often feels guilty for not being able to be there for Ran as Shinichi, and this guilt complicates his actions. Conclusion: While it's true that Ran has suspected Conan’s identity several times and has suffered emotionally from Shinichi's absence, Shinichi’s main priority is her safety. He’s also motivated by the need to solve the mystery of the Black Organization and find a permanent cure before involving her in the complexities and dangers of his situation. As frustrating as it can be for viewers, this tension is a key element of Detective Conan’s long-running narrative.\"]\n",
    "        }\n",
    "    })"
   ]
  },
  {
   "cell_type": "code",
   "execution_count": 22,
   "id": "41c14c24-b5dc-4dce-8ba2-505a070aeb88",
   "metadata": {
    "tags": []
   },
   "outputs": [
    {
     "name": "stdout",
     "output_type": "stream",
     "text": [
      "[0.7696796655654907]\n"
     ]
    }
   ],
   "source": [
    "print(data)"
   ]
  },
  {
   "cell_type": "code",
   "execution_count": 15,
   "id": "4b2c3f1d-2259-4a79-8eac-a0c6a5bf7a1e",
   "metadata": {
    "tags": []
   },
   "outputs": [],
   "source": [
    "#Question 14\n",
    "data = query(\n",
    "    {\n",
    "        \"inputs\": {\n",
    "            \"source_sentence\": \"because even when her appearance is a little kid, unlike Conan who sometimes act like a kid, she acts like an adult, thus everyone call her Haibara-san. I remember one chapter tells Ayumi wants to call her Ai once but afraid to do so, at the end, she calls her Ai, but when the others also want to call her Ai, she refuses To expand my comment, it's because she's a transfer student and always act mature Case Closed Chapter 398 Page 3 Ayumi tried to call her Ai-cahn several times but too afraid to do soCase Closed Chapter 398 Page 4 But in the end, she was able to call he Ai-chan, but when the other called her that, she refusedCase Closed Chapter 398 Page 18Pictures taken from Case Closed Chapter 398 and 400\",\n",
    "            \"sentences\": [\n",
    "                \"In Japanese culture, honorifics are used to show respect, familiarity, and relationships between people. The Detective Boys (Conan, Ayumi, Mitsuhiko, and Genta) refer to Ai Haibara as Haibara-san because it reflects a formal and somewhat respectful tone, even though they are all classmates and similar in age (at least in appearance). Here are a few reasons why they call her Haibara-san: 1. Mature Personality Ai Haibara, despite being physically the same age as the Detective Boys due to the effects of the APTX-4869 drug, retains her mature, calm, and reserved personality from when she was an adult scientist, Shiho Miyano. Her demeanor is very different from that of the other Detective Boys, who are more childlike and carefree. This maturity likely causes Conan and the others to subconsciously treat her with a bit more respect, using the more formal honorific -san. 2. Distance and Formality In Japanese, -san is the most common and neutral honorific, and it is used to address someone with respect. Conan and the others don't call Ai by her first name (Ai-chan) or use the more casual -kun or -chan because she tends to keep an emotional distance from others. Especially early on, Ai doesn't seem to fully integrate herself into the group in a casual or friendly way, so using -san acknowledges that formality and distance. 3. Conan's Understanding of Her True Identity Conan (Shinichi) knows that Ai Haibara is actually an adult in a child’s body, and as a result, he respects her as someone older and more knowledgeable. Referring to her as Haibara-san aligns with that recognition of her mature and serious background as Shiho Miyano, a former scientist of the Black Organization. 4. Cultural Norms Even though the Detective Boys are kids, Japanese culture places importance on politeness, especially when addressing someone who may be perceived as more mature or distant. Conan and the other kids using Haibara-san reflects this cultural aspect, showing a polite level of respect toward her. Conclusion: The Detective Boys call Ai Haibara-san because of her mature personality, the emotional distance she maintains, and the respect that Conan (and likely the others) feel for her, given her adult-like intellect and experiences. Using -san indicates a balance of politeness and respect, in line with her unique position within the group.\"]\n",
    "        }\n",
    "    })"
   ]
  },
  {
   "cell_type": "code",
   "execution_count": 17,
   "id": "60b9c49e-79f4-43ab-be81-6b32859a682b",
   "metadata": {
    "tags": []
   },
   "outputs": [
    {
     "name": "stdout",
     "output_type": "stream",
     "text": [
      "[0.5943763256072998]\n"
     ]
    }
   ],
   "source": [
    "print(data)"
   ]
  },
  {
   "cell_type": "code",
   "execution_count": 25,
   "id": "b2dce364-d55f-42f0-884e-c4f7738b21c5",
   "metadata": {
    "tags": []
   },
   "outputs": [],
   "source": [
    "#Question 15\n",
    "data = query(\n",
    "    {\n",
    "        \"inputs\": {\n",
    "            \"source_sentence\": \"Remember that once your body develops an immunity against baiju thus you can't grow twice. Conan was probably thinking that it might be useful in the fell clutch of circumstance. Plot-wise, if Haibara already drank baiju and so, if Haibara wasn't in adult form, Conan and Haibara will be unprotected and might die. Since they have this plot immunity, then that won't happen. I'm not sure why he kept it from Haibara, but at that point, it's very likely that he still didn't trust her. Haibara first appearance in manga is in chapter 176 and he told her about the wine in chapter 241. That's only 65 chapters apart, and in those 65 chapters there are only 5 cases of which that include Haibara. From Conan point of view, it was probably not enough time to trust her.\",\n",
    "            \"sentences\": [\n",
    "                \"Conan not telling Haibara about the liquor that temporarily restored him to his original size immediately after meeting her might seem strange at first, but there are several logical reasons why he didn’t bring it up earlier, despite the importance of the information. Here's a breakdown of why Conan might have hesitated: 1. Lack of Immediate Trust When Conan first meets Haibara (Shiho Miyano), she is a former member of the Black Organization, a criminal group that he fears and distrusts. Although she is in the same situation as him (shrunk by APTX-4869), Conan is naturally cautious at first. It took some time for Conan to fully trust her and recognize that she had truly defected from the Black Organization and wasn't a threat. Sharing critical information like the effects of the liquor might not have been something he was comfortable doing until he felt confident in her loyalty. 2. Limited Knowledge About the Liquor The liquor that restored Conan to his original size in Episode 49 (Diplomat Murder Case) was a very specific and unique combination of alcohol and other factors, including his fever. Conan likely didn’t fully understand why the liquor caused him to temporarily revert to Shinichi. It might have seemed like a one-time fluke, and he wouldn’t want to mislead Haibara or give her false hope based on something he couldn't explain scientifically. Since Haibara is a scientist, Conan might have thought it was better to wait until he had more conclusive information before telling her. 3. Fear of the Black Organization Haibara’s connection to the Black Organization and the constant threat they pose likely made Conan cautious about any actions that might attract attention. He might have worried that if Haibara tried to replicate the effects of the liquor too soon, it could lead to unpredictable consequences, especially if the Organization caught wind of it. This could have jeopardized not only their safety but also their long-term efforts to bring down the Organization. 4. Unpredictable and Temporary Effects Conan’s experience with the liquor had only resulted in a temporary restoration of his original body. The fact that it wore off so quickly made it an unreliable solution. Conan probably felt that a more permanent solution—like an actual antidote to APTX-4869—was what they should be focused on, rather than chasing a temporary fix. Haibara, being a scientist, would likely prefer a long-term solution rather than relying on an unpredictable factor like alcohol and fever. 5. Focus on Other Priorities After meeting Haibara, both Conan and Haibara are focused on surviving the Black Organization and keeping their identities secret. Given the many dangerous situations they face, their priority is often to avoid detection and gather information on the Organization rather than experimenting with potential temporary solutions. Conan may have thought that working toward a complete antidote (which Haibara was already doing) was the best path forward. Conclusion: Conan didn’t tell Haibara about the liquor immediately because he was initially cautious about trusting her, uncertain about the scientific basis of the liquor’s effect, and concerned about the temporary nature of the transformation. His focus was likely on long-term safety and finding a permanent antidote, rather than risking an unpredictable and fleeting solution that might not lead to a true cure for their condition.\"]\n",
    "        }\n",
    "    })"
   ]
  },
  {
   "cell_type": "code",
   "execution_count": 27,
   "id": "d7d41f07-796b-489e-b47d-335eccd0c10b",
   "metadata": {
    "tags": []
   },
   "outputs": [
    {
     "name": "stdout",
     "output_type": "stream",
     "text": [
      "[0.6801429390907288]\n"
     ]
    }
   ],
   "source": [
    "print(data)"
   ]
  },
  {
   "cell_type": "code",
   "execution_count": 27,
   "id": "367ccb42-e1c7-485d-9437-19705d1ded3f",
   "metadata": {
    "tags": []
   },
   "outputs": [],
   "source": [
    "#Antworten mit Chat-Modell und Detective Conan, One Piece und Naruto-Daten\n",
    "#Question 1\n",
    "data = query(\n",
    "    {\n",
    "        \"inputs\": {\n",
    "            \"source_sentence\": \"It is because a wounded person is harder to carry even as a hostage. Conan shot Ran in the leg or knee so that she wouldn't be able to walk if Sawaki forces her to. Which leaves her with a bruise, and spares her from being a hostage with a death threat. It is because a wounded person is harder to carry even as a hostage. Conan shot Ran in the leg or knee so that she wouldn't be able to walk if Sawaki forces her to. Which leaves her with a bruise, and spares her from being a hostage with a death threat. There's also a similar flashback of Kogoro shooting Eri at the beginning of the movie, noting that Kogoro is one of the finest and most precise shooters in the story who graduated with unprecedented marks in the Police Academy. Conan also explains that scene here, that wounded hostages are harder to carry, so they're abandoned by the criminal in most cases.D:F\",\n",
    "            \"sentences\": [\n",
    "                \"In the scene you're referring to, Conan shoots Ran in the leg to make her an unattractive hostage to Kohei Sawaki. Sawaki then releases Ran, as she is no longer of any use to him. This is not because he is forced to do so, but rather because Ran is now a liability to him due to her injury. Sawaki then flees the scene, leaving Ran behind.\"]\n",
    "        }\n",
    "    })"
   ]
  },
  {
   "cell_type": "code",
   "execution_count": 29,
   "id": "00bfe9b9-5a98-4765-9f05-331f0df2f751",
   "metadata": {
    "tags": []
   },
   "outputs": [
    {
     "name": "stdout",
     "output_type": "stream",
     "text": [
      "[0.6727350354194641]\n"
     ]
    }
   ],
   "source": [
    "print(data)"
   ]
  },
  {
   "cell_type": "code",
   "execution_count": 31,
   "id": "108ce850-1509-4a07-9356-eb44fface697",
   "metadata": {
    "tags": []
   },
   "outputs": [],
   "source": [
    "#Question 2\n",
    "data = query(\n",
    "    {\n",
    "        \"inputs\": {\n",
    "            \"source_sentence\": \"He doesn't blow his cover, but regular characters pay attention to him down the line. This includes police inspectors. Though, you have to watch a couple of hundred episodes more. Around ep900 this becomes more prominent, but he's still formally just a kid and these kind of moments are more comic relief than anything else. Of course, he exposes his identity to more and more characters, too, and those take him seriously. Yes, Conan is paid attention to by multiple characters. The following characters take Conan very seriously… 1. Detective Boys: Ai Haibara, Sherry/Shiho Miyano, Ayumi Yoshida, Mitsuhiko Tsuburaya, Genta Kojima 2. Hiroshi Agasa 3. Heiji Hattori 4. Kaitou Kid / Kaito Kuroba 5. FBI: James Black, Jodie Starling\",\n",
    "            \"sentences\": [\n",
    "                \"Detective Conan does get taken seriously as an actual detective in some cases, but it is not common for the main characters to recognize him as such. In the episode 'The Tenth Passenger ~ Part 1' (Episode 201), Conan is seen taking charge of the investigation and revealing the identity of the murderer while disguised as Sonoko using his voice changer. However, this is not a common occurrence and the main characters, such as Kogoro Mouri, often dismiss Conan's contributions and see him as a mere kid.\\n\\nIn the episode 'Whereabouts of the Dark Photograph ~ Part 1' (Episode 484), Conan is seen leading the investigation and solving the case with his own abilities, but again, this is not a common occurrence.\\n\\nIn the episode 'The Identity of the Murderer! Template:Infobox/Conan/Chapter' (Case Closed Chapter 1010), Conan is seen taking charge of the investigation and revealing the identity of the murderer while disguised as Sonoko using his voice changer. However, this is not a common occurrence and the main characters, such as Kogoro Mouri, often dismiss Conan's contributions and see him as a mere kid.\\n\\nIn the episode 'The Missing Watch Case' (Case Closed Chapter 1011), Conan is seen taking charge of the investigation and solving the case with his own abilities, but again, this is not a common occurrence.\\n\\nIn the episode 'Escalator Message Case' (Case Closed Chapter 1012), Conan is seen taking charge of the investigation and solving the case with his own abilities, but again, this is not a common occurrence.\\n\\nIn the episode 'The Darkness of the Teito Tower ~ Part 1' (Case Closed Chapter 1013), Conan is seen taking charge of the investigation and solving the case with his own abilities, but again, this is not a common occurrence.\\n\\nIn the episode 'The Darkness of the Teito Tower ~ Part 2' (Case Closed Chapter 1014), Conan is seen taking charge of the investigation and solving the case with his own abilities, but again, this is not a common occurrence.\\n\\nIn the episode 'The Darkness of the Teito Tower'\"]\n",
    "        }\n",
    "    })"
   ]
  },
  {
   "cell_type": "code",
   "execution_count": 33,
   "id": "6e18c9d3-4dce-43ca-9846-d51a5793fd0c",
   "metadata": {
    "tags": []
   },
   "outputs": [
    {
     "name": "stdout",
     "output_type": "stream",
     "text": [
      "[0.6904522180557251]\n"
     ]
    }
   ],
   "source": [
    "print(data)"
   ]
  },
  {
   "cell_type": "code",
   "execution_count": 35,
   "id": "3a9f29ce-56e9-45a1-871c-4b7f8d09f189",
   "metadata": {
    "tags": []
   },
   "outputs": [],
   "source": [
    "#Question 3\n",
    "data = query(\n",
    "    {\n",
    "        \"inputs\": {\n",
    "            \"source_sentence\": \"There's no contradiction between the two episodes: in episode 219, Shinichi never saw Kaito Kid (even during the duel with the guns, Kid was hidden behind the sheet) and he didn't even hear the name Kid: he did ask Megure what's the thief's name at the end, but Megure was so focused on the code that Shinichi gave up asking, while still thinking but then, one day..., foreshadowing that the two may meet again in the future. Episode 76 is adapted from manga chapters 156-159, while the Clocktower Heist segment of episode 219 is adapted from the Magic Kaito manga chapters 23-24 (beware a faulty fan translation of the these two chapters in which Shinichi calls the thief Kid all the time, which doesn't happen in the original as I said above). The Shinichi vs Kid showdown was an afterthought, as in it wasn't planned when the first Conan vs Kid case was written (Aoyama said so in his comment for the book Detective Conan vs Kaitou Kid Perfect Edition) and yet when he decided to write a prequel Aoyama was clever enough to find a way around this, by preventing Shinichi from seeing Kid and learning his name. A similar trick was used by Aoyama for the prequel encounter between Shinichi and Heiji three years before the current timeline: neither of them manged to get a clear look at the rival detective or to learn each other's names; that prequel also had the trick of Shinichi and Heiji both solving the case while thinking it was solved by the other detective, thus avoiding a contadiction with a previous story that showed Shinichi solving his first case one year before the current timeline. Another thing is that Shinichi briefly interacted with Heiji's mother in the 3-year old flashback even though he doesn't know her when she first appears in the series: this can be easily explained by the fact that she did nothing to stand out and had her face partially obscured by a cap and ski glasses, plus their interaction was very brief. Gosho Aoyama likes his work to be coherent.\",\n",
    "            \"sentences\": [\n",
    "                \"Kaito Kid first met Shinichi in the Detective Conan series, not Conan. They met in the Clock tower heist case where Shinichi anticipated Kid's next move and managed to decipher the code Kid left behind. However, they were both unaware of their familial relationship at the time. Conan only appeared after Shinichi was turned into a child by the APTX 4869. Therefore, Conan and Kaito Kid have not met in the Detective Conan series until now.\"]\n",
    "        }\n",
    "    })"
   ]
  },
  {
   "cell_type": "code",
   "execution_count": 37,
   "id": "05edd1fd-5aa3-4943-bc29-b113d1d9464b",
   "metadata": {
    "tags": []
   },
   "outputs": [
    {
     "name": "stdout",
     "output_type": "stream",
     "text": [
      "[0.6153445839881897]\n"
     ]
    }
   ],
   "source": [
    "print(data)"
   ]
  },
  {
   "cell_type": "code",
   "execution_count": 39,
   "id": "7fa9c9aa-e797-493f-9870-bb23e08a63d0",
   "metadata": {
    "tags": []
   },
   "outputs": [],
   "source": [
    "#Question 4\n",
    "data = query(\n",
    "    {\n",
    "        \"inputs\": {\n",
    "            \"source_sentence\": \"Haibara is still in the form of a child and is not hidden from society, so people know who she is. If she doesn't go to school, people will question what is going on, and she can probably keep better tabs on Conan and make sure he doesn't accidentally reveal his identity. According to Detective Conan World Wiki, Because she occasionally works overnight on the antidote for the APTX 4869, she tends to be tired quite frequently, causing Conan to call her an evil-eyed yawny girl on one occasion. So, it is likely that school can also function as a sort of break for her. Also, it's not like she isn't working on it a lot. The files on the drug were all deleted so it is difficult for her to create a permanent antidote and as such, makes progress slow on it.\",\n",
    "            \"sentences\": [\n",
    "                \"Haibara attends school to prevent the Black Organization from knowing that she had shrunk into a child. She and the Professor created her alias Ai Haibara and enrolled in Teitan Elementary School to keep her identity hidden. Additionally, Haibara is also a member of the Detective Boys, which allows her to work with Conan and the others to solve mysteries and gather information about the Black Organization. While Haibara may have the knowledge and skills to redevelop the APTX drug and find an antibody to it, her primary focus is on staying hidden and gathering information to help take down the Black Organization.\"]\n",
    "        }\n",
    "    })"
   ]
  },
  {
   "cell_type": "code",
   "execution_count": 41,
   "id": "eacf459a-fa20-4800-87d6-d44bba298830",
   "metadata": {
    "tags": []
   },
   "outputs": [
    {
     "name": "stdout",
     "output_type": "stream",
     "text": [
      "[0.724979817867279]\n"
     ]
    }
   ],
   "source": [
    "print(data)"
   ]
  },
  {
   "cell_type": "code",
   "execution_count": 43,
   "id": "52c85468-8a26-4e7c-8367-4f4af597138a",
   "metadata": {
    "tags": []
   },
   "outputs": [],
   "source": [
    "#Question 5 \n",
    "data = query(\n",
    "    {\n",
    "        \"inputs\": {\n",
    "            \"source_sentence\": \"Akemi Miyano actually was in a previous case, in episode 13, The Strange Person Hunt Murder Case. The problem is that the anime didn't do that episode according to the manga, so they had to change some things later to make the show follow the correct storyline. Here's a summary from Detective Conan World Wiki: In the manga version of the story Gin and Vodka are the masterminds of the case (rather than Okita), and they end up killing Masami Hirota/Akemi Miyano who informs Conan of the organization's existence and that they dress in black. Her death is the motive of Shiho Miyano's defection which leads to Ai Haibara's appearance later in the series. Furthermore, Shiho makes a silhouetted appearance when Akemi is demanding for herself and her sister to be free of the organization, which is also omitted. To repair the storyline, Episode 128 The Black Organization: One Billion Yen Robbery Case was written with a similar ending to the manga version.\",\n",
    "            \"sentences\": [\n",
    "                \"Conan and Haibara's sister, Akemi Miyano, met each other in the past when Conan was still Shinichi Kudo. This is implied in the documents when it is mentioned that Akemi suspects Conan to be Shinichi, indicating that they have met before. However, the specific details of their meeting are not provided in the documents.\"]\n",
    "        }\n",
    "    })"
   ]
  },
  {
   "cell_type": "code",
   "execution_count": 45,
   "id": "93e9ccd3-b89e-4ac3-9223-6669bc630ec0",
   "metadata": {
    "tags": []
   },
   "outputs": [
    {
     "name": "stdout",
     "output_type": "stream",
     "text": [
      "[0.6021249890327454]\n"
     ]
    }
   ],
   "source": [
    "print(data)"
   ]
  },
  {
   "cell_type": "code",
   "execution_count": 47,
   "id": "d612becd-af02-4a24-9022-2b055c51d151",
   "metadata": {
    "tags": []
   },
   "outputs": [],
   "source": [
    "#Question 6\n",
    "data = query(\n",
    "    {\n",
    "        \"inputs\": {\n",
    "            \"source_sentence\": \"Conan never learned about their codenames in the anime due to the plot modification, which makes a big plothole.Detective Conan World's Wiki stated: The first season of Detective Conan rarely featured the Black Organization because the anime writers wanted to downplay their presence. Two of the episodes at least, were altered heavily in light of this: Episode 5, The Shinkansen's Bomb Case: The episode replaces the two men who shrunk Conan with lookalikes unrelated to the Black Organization. In the manga version of this case, Conan runs into the real pair and learns their code names (Gin/Vodka in the Japanese Version, Melkior and Kaspar in the English Version). Their replacement creates a continuity error in Episode 54, Game Company Murder Case. Conan recognizes their code names when Tequila speaks to them, yet Conan never learned their code names in the anime version of events.[...]As already mentioned, in the manga version, Conan first learned about their codenames in The Shinkansen's Bomb Case (vol 4, files 4-6) where he ran into them inside the train. There, using the microphone bug gadget by Professor Agasa, he eavesdropped on their conversation and learned about Gin and Vodka, their codenames.\",\n",
    "            \"sentences\": [\n",
    "                \"Conan learns their codenames and overhears Gin explain to Vodka the details of the bombing plan in episode 11 of Detective Conan (Case Closed) titled The Black Organization: Murderous Intentions on the Shinkansen. This episode is the first time Conan learns their codenames and overhears their plan.\"]\n",
    "        }\n",
    "    })"
   ]
  },
  {
   "cell_type": "code",
   "execution_count": 49,
   "id": "947a715d-f9f9-402c-91f8-57674c3bf637",
   "metadata": {
    "tags": []
   },
   "outputs": [
    {
     "name": "stdout",
     "output_type": "stream",
     "text": [
      "[0.8337130546569824]\n"
     ]
    }
   ],
   "source": [
    "print(data)"
   ]
  },
  {
   "cell_type": "code",
   "execution_count": 51,
   "id": "fb04117e-7145-41fb-83f1-deb224d5aa58",
   "metadata": {
    "tags": []
   },
   "outputs": [],
   "source": [
    "#Question 7\n",
    "data = query(\n",
    "    {\n",
    "        \"inputs\": {\n",
    "            \"source_sentence\": \"according to the detective conan wiki:4 Agasa updated the glasses so they can zoom in on a distant target and enhance visibility, even in the dark. As of the anime episode The Unsmashable Snowman and Volume 54, Conan's glasses can only have some form of magnifying lens. This lens is on the right, according to the manga, while the Criminal Tracking Glasses feature is on the left lens. Movie 8 and Movie 11 are the only appearances that uses the left lens for the telescopic feature. Because movies are non-canon, it is unknown whether Conan's glasses have this modification on both lenses in conjunction with the criminal tracking feature, or if one modification would instead interfere with the other.  it was never stated when Agasa updated the lenses, and there is only a few appearances. Hope this helps\",\n",
    "            \"sentences\": [\n",
    "                \"The telescopic lenses functionality was added to Conan's glasses in Movie 5, which was released before Episode 466. The movie was released on April 17, 2004, and the episode was aired on November 21, 2011. Therefore, the telescopic lenses functionality had been added to Conan's glasses for at least 7 years and 7 months before Episode 466.\"]\n",
    "        }\n",
    "    })"
   ]
  },
  {
   "cell_type": "code",
   "execution_count": 53,
   "id": "5679754b-d588-4f1d-8f95-eba336bf1601",
   "metadata": {
    "tags": []
   },
   "outputs": [
    {
     "name": "stdout",
     "output_type": "stream",
     "text": [
      "[0.6938870549201965]\n"
     ]
    }
   ],
   "source": [
    "print(data)"
   ]
  },
  {
   "cell_type": "code",
   "execution_count": 55,
   "id": "61ea8180-d53a-4106-a29d-70555e5f0274",
   "metadata": {
    "tags": []
   },
   "outputs": [],
   "source": [
    "#Question 8 \n",
    "data = query(\n",
    "    {\n",
    "        \"inputs\": {\n",
    "            \"source_sentence\": \"You are talking about episode 771 of the anime (chapter 892 in the manga) The woman was Elena Miyano, the mother of Shiho Miyano (Ai Haibara) who created the first prototipes of the APTX-4869 for the BO. Acording to DC world wiki: While the true relationship between them has not been revealed yet, We know that they knew each other when Rei was younger. Rei got into many fights and it seems that Elena would bandage him up after the fights. However, one day, Elena had to move and could no longer bandage Amuro's real name is Rei Furuya and Rei (零) means zero and that is possibly the reason why he is called zero.\",\n",
    "            \"sentences\": [\n",
    "                \"The woman who speaks to young Tooru Amuro/Rei Furuya is his mother. She calls him Zero because it is his codename in the National Police Agency, where he works undercover. The reason for his codename is not explicitly stated in the document, but it is mentioned that Rei Furuya\\'s colleagues from the Public Security Bureau are ordered by him to carry out special operations for the National Police Agency, indicating that he has a high-ranking position in the organization. The document also mentions that Rei Furuya\\'s hostility with Shuichi Akai comes from an incident involving an unspecified man, about whom Shuichi says he regrets. This man may be related to Rei Furuya\\'s past and his involvement in the National Police Agency and the Black Organization.\"]\n",
    "        }\n",
    "    })"
   ]
  },
  {
   "cell_type": "code",
   "execution_count": 57,
   "id": "a3d9af8e-e412-4c2c-a17f-6aa9732eb0e6",
   "metadata": {
    "tags": []
   },
   "outputs": [
    {
     "name": "stdout",
     "output_type": "stream",
     "text": [
      "[0.5745422840118408]\n"
     ]
    }
   ],
   "source": [
    "print(data)"
   ]
  },
  {
   "cell_type": "code",
   "execution_count": 59,
   "id": "e34b3d2f-12e5-4297-8885-c261c61a4063",
   "metadata": {
    "tags": []
   },
   "outputs": [],
   "source": [
    "#Question 9\n",
    "data = query(\n",
    "    {\n",
    "        \"inputs\": {\n",
    "            \"source_sentence\": \"Of course, Conan's real age is the same as his age before he shrank. He was 16 at the time he shrank. Conan does mention his age in the first volume of the manga in File 2, when he almost accidentally tells Ran that he is 16, instead of 6.  Later in the series, Conan's age is 7, as he has experienced a birthday. Conan is also around the same size as other kids that age, which is probably why he was put in class 1-B when he started going to grade school. In Japan, first-year grade school students are between the ages of 6 and 7.\",\n",
    "            \"sentences\": [\n",
    "                \"Conan is supposed to be 17 years old before he shrank and is still 17 years old after shrinking.\"]\n",
    "        }\n",
    "    })"
   ]
  },
  {
   "cell_type": "code",
   "execution_count": 61,
   "id": "c9431972-20c2-4651-a819-ceb7f1636d0f",
   "metadata": {
    "tags": []
   },
   "outputs": [
    {
     "name": "stdout",
     "output_type": "stream",
     "text": [
      "[0.7730598449707031]\n"
     ]
    }
   ],
   "source": [
    "print(data)"
   ]
  },
  {
   "cell_type": "code",
   "execution_count": 29,
   "id": "f387a9b0-eb60-43f4-96fc-f53892650061",
   "metadata": {},
   "outputs": [],
   "source": [
    "#Question 10\n",
    "data = query(\n",
    "    {\n",
    "        \"inputs\": {\n",
    "            \"source_sentence\": \"Her first three lie about her cooking skill, allergies, and the fact that she is married was intended from her to test Mouri whether he noticed it or not, not to hide her real identity as Heiji's mother. But her third lie came unintentionally from her when she was about to say cold coffee. Maybe she did it accidentally and has to cover it with saying Reiko. So she lied to test Mouri, not to hide her real identity. Another possibility is maybe she didn't know whether Heiji told his friend about her hobby and others or not, and she did that because she didn't want to know that she is Heiji's mother and make all her lies vain.\",\n",
    "            \"sentences\": [\n",
    "                \"It is not explicitly stated in the document why Heiji's mother had to lie about her cooking skills and allergy to dust. It is possible that she was testing Mouri and Conan's detective skills, but it is also possible that she had other reasons for lying. Without additional information, it is difficult to determine the exact reason for her deception.\"]\n",
    "        }\n",
    "    })"
   ]
  },
  {
   "cell_type": "code",
   "execution_count": 31,
   "id": "f4408694-8cc8-43d2-8884-98cf39acc495",
   "metadata": {
    "tags": []
   },
   "outputs": [
    {
     "name": "stdout",
     "output_type": "stream",
     "text": [
      "[0.7923191785812378]\n"
     ]
    }
   ],
   "source": [
    "print(data)"
   ]
  },
  {
   "cell_type": "code",
   "execution_count": 33,
   "id": "6adb6e3c-21f3-4155-98dd-5f35fdff01b1",
   "metadata": {
    "tags": []
   },
   "outputs": [],
   "source": [
    "#Question 11\n",
    "data = query(\n",
    "    {\n",
    "        \"inputs\": {\n",
    "            \"source_sentence\": \"Mouri was left on a gas station. At the beginning of this arc, Mouri, Ran, and Conan went to a gas station and asked for the direction. That's when Kid replaced Mouri Last page of chapter 302. Ran: Hey, I still have one question. Where is the real dad~? Mouri: A~~choo! (sneeze) Mouri: Fwa.. (wake up from sleep)\",\n",
    "            \"sentences\": [\n",
    "                \"The real Mouri was likely not in the helicopter. It is possible that Kid disguised himself as Mouri before getting on the helicopter, or that Kid incapacitated Mouri and took his place. The document does not provide enough information to determine exactly what happened to the real Mouri.\"]\n",
    "        }\n",
    "    })"
   ]
  },
  {
   "cell_type": "code",
   "execution_count": 35,
   "id": "2ed66217-626a-4e3e-9b9f-ef53f3d549c4",
   "metadata": {
    "tags": []
   },
   "outputs": [
    {
     "name": "stdout",
     "output_type": "stream",
     "text": [
      "[0.5796380043029785]\n"
     ]
    }
   ],
   "source": [
    "print(data)"
   ]
  },
  {
   "cell_type": "code",
   "execution_count": 37,
   "id": "7a0a56f7-9e5d-436f-8ffc-07179b40c7fd",
   "metadata": {
    "tags": []
   },
   "outputs": [],
   "source": [
    "#Question 12\n",
    "data = query(\n",
    "    {\n",
    "        \"inputs\": {\n",
    "            \"source_sentence\": \"A nice question. I have to get around a few topics to find a logic answer. Let's start with the explanation of the Liar statement against Toru Amuro. The life Amuro is living and showing to all people around him is just a lie / fake. He claims to be a detective like Kogoro in the first episode he appears. And after the case is solved, he wants to be his apprentice to stay close to him, for learning from the Great Kogoro. But after we know he is Bourbon, the whole perspective changed. What does he want? Why is he with the main characters? What exactly is his plan? Soon it is revealed: he wants to prove that Shuichi Akai is alive and he and Kir faked his death. This makes him a fearful enemy: he is close to the main characters, he has the possibility to find out the truth, yet, Toru Amuro is not who we think he is - he's a pretty good liar. Akai explains it in the current chapter: Toru Amuro is actually Rei Furuya, an undercover cop! He is also infiltrating the Organization, like Akai used to / like Kir is at the moment. The theory that Bourbon is our enemy is complete nonsense - he is on our side, even though he hates Akai for some reasons. He even lies to Vermouth at the end: he claims that he was wrong; that Akai is in fact dead and Kir is loyal to the Organization. This lie shows us the real side of Amuro - he's a friend. For me, the situation you are confused by is a simple message to each other: Conan knows about the real Amuro, the real person behind his role. But Amuro in return has his own reasons to question Conan. The Sleeping Kogoro is one point Amuro questions and believes Conan to be behind it -> there is this one scene where he phones with Vermouth and says that he wants to stay with Kogoro because he wants to solve the mystery behind the Sleeping Kogoro. My conclusion: Conan and Amuro know the lies of each other. And with that scene (Liar - You're one to talk...) they admit that they know each others secret. My fingers hurt. I hope this answers your question (a bit).\",\n",
    "            \"sentences\": [\n",
    "                \" In chapter 897, Conan calls Bourbon a liar because Bourbon had previously claimed that Akai Shuichi, a character who was believed to be dead, was still alive. Conan does not believe this claim, and therefore calls Bourbon a liar. This occurs during a conversation between Conan and Bourbon, where Bourbon is trying to gather information about Akai from Conan. Conan, however, is suspicious of Bourbon's motives and does not want to reveal any information about Akai. This leads to Conan calling Bourbon a liar and the conversation ending on a tense note.\"]\n",
    "        }\n",
    "    })"
   ]
  },
  {
   "cell_type": "code",
   "execution_count": 39,
   "id": "c96a483b-c9bd-4e0b-b386-5e9a411ae231",
   "metadata": {
    "tags": []
   },
   "outputs": [
    {
     "name": "stdout",
     "output_type": "stream",
     "text": [
      "[0.42502960562705994]\n"
     ]
    }
   ],
   "source": [
    "print(data)"
   ]
  },
  {
   "cell_type": "code",
   "execution_count": 41,
   "id": "ebf1e74c-0aed-4e90-a61f-42a7dc257aea",
   "metadata": {
    "tags": []
   },
   "outputs": [],
   "source": [
    "#Question 13\n",
    "data = query(\n",
    "    {\n",
    "        \"inputs\": {\n",
    "            \"source_sentence\": \"Saying Conan doesn't reveal his identity is wrong, there are 10 people who know about Conan true identity, and Conan told 2 of them. (Link contain spoiler) Conan never told Ran because it's dangerous for her to know the truth. Professor Agasa warn him about it at the first time he know about Conan, Second Chapter - The Shrunken Detective. Knowing her personality, Ran will risk her life to save others and most likely too help Conan to fight the Black Organization. This chapter (chapter 434 Rotten Apple) is when Ran tried to save Ai from Vermouth, she risk her own life to save her. On several occasion, Shinichi wants to tell Ran the truth about his identity but chooses her safety above their happiness. Beside, different from the others who know Conan's secret, Ran might unintentionally tell anyone about it. Closest possible, she will tell her best friend, Sonoko. For example, when Ran accidentally tell Sonoko about Oogami. (He's a wrestler who cover his real identity by wearing a mask - Chapter 389 The Man Who Can Never Be a Wolf)  At one point Ran knew that Conan is Shinichi and actually waiting for him to tell her by himself, but as always Conan was able to trick her again.\",\n",
    "            \"sentences\": [\n",
    "                \"Conan doesn't reveal his identity to Ran because he is afraid of putting her in danger. Shinichi doesn't tell Ran about his problem because he also doesn't want to put her in danger and he wants to protect her. Additionally, Conan/Shinichi believes that revealing the truth would only cause Ran more pain and suffering, as he would be putting her in a situation where she would have to choose between her love for him and her own safety. The series has many episodes, but the truth has not been revealed yet because it is a crucial part of the plot and the development of the characters. Ran's sympathy is not the main focus of the story, but rather the growth and development of Conan/Shinichi as a detective and a person.\"]\n",
    "        }\n",
    "    })"
   ]
  },
  {
   "cell_type": "code",
   "execution_count": 43,
   "id": "7d0f061e-46b4-44ef-a48a-2cd715ee44bf",
   "metadata": {
    "tags": []
   },
   "outputs": [
    {
     "name": "stdout",
     "output_type": "stream",
     "text": [
      "[0.8309438228607178]\n"
     ]
    }
   ],
   "source": [
    "print(data)"
   ]
  },
  {
   "cell_type": "code",
   "execution_count": 45,
   "id": "096ecdd7-2aa9-4256-9266-3624a45a9b20",
   "metadata": {
    "tags": []
   },
   "outputs": [],
   "source": [
    "#Question 14\n",
    "data = query(\n",
    "    {\n",
    "        \"inputs\": {\n",
    "            \"source_sentence\": \"because even when her appearance is a little kid, unlike Conan who sometimes act like a kid, she acts like an adult, thus everyone call her Haibara-san. I remember one chapter tells Ayumi wants to call her Ai once but afraid to do so, at the end, she calls her Ai, but when the others also want to call her Ai, she refuses To expand my comment, it's because she's a transfer student and always act mature Case Closed Chapter 398 Page 3 Ayumi tried to call her Ai-cahn several times but too afraid to do soCase Closed Chapter 398 Page 4 But in the end, she was able to call he Ai-chan, but when the other called her that, she refusedCase Closed Chapter 398 Page 18Pictures taken from Case Closed Chapter 398 and 400\",\n",
    "            \"sentences\": [\n",
    "                \"Conan and the Detective Boys call Ai Haibara-san as a sign of respect towards her.\"]\n",
    "        }\n",
    "    })"
   ]
  },
  {
   "cell_type": "code",
   "execution_count": 47,
   "id": "83965c03-f95f-477a-b45b-5fef54db1252",
   "metadata": {
    "tags": []
   },
   "outputs": [
    {
     "name": "stdout",
     "output_type": "stream",
     "text": [
      "[0.5990589261054993]\n"
     ]
    }
   ],
   "source": [
    "print(data)"
   ]
  },
  {
   "cell_type": "code",
   "execution_count": 49,
   "id": "2141c773-1da5-413e-ba83-b6ccaa345f5e",
   "metadata": {
    "tags": []
   },
   "outputs": [],
   "source": [
    "#Question 15\n",
    "data = query(\n",
    "    {\n",
    "        \"inputs\": {\n",
    "            \"source_sentence\": \"Remember that once your body develops an immunity against baiju thus you can't grow twice. Conan was probably thinking that it might be useful in the fell clutch of circumstance. Plot-wise, if Haibara already drank baiju and so, if Haibara wasn't in adult form, Conan and Haibara will be unprotected and might die. Since they have this plot immunity, then that won't happen. I'm not sure why he kept it from Haibara, but at that point, it's very likely that he still didn't trust her. Haibara first appearance in manga is in chapter 176 and he told her about the wine in chapter 241. That's only 65 chapters apart, and in those 65 chapters there are only 5 cases of which that include Haibara. From Conan point of view, it was probably not enough time to trust her.\",\n",
    "            \"sentences\": [\n",
    "                \"The documents do not provide enough information to answer this question. The document mentions that Conan trusts Haibara and regards her as a friend, but it does not mention when or how this trust was established. It is possible that Conan did not tell Haibara about the liquor earlier because he did not trust her at first, but this is only speculation. Without more information, it is not possible to determine why Conan did not tell Haibara about the liquor earlier.\"]\n",
    "        }\n",
    "    })"
   ]
  },
  {
   "cell_type": "code",
   "execution_count": 51,
   "id": "be5cecbc-6415-40d6-9d7e-455167fd244d",
   "metadata": {
    "tags": []
   },
   "outputs": [
    {
     "name": "stdout",
     "output_type": "stream",
     "text": [
      "[0.756711483001709]\n"
     ]
    }
   ],
   "source": [
    "print(data)"
   ]
  },
  {
   "cell_type": "code",
   "execution_count": null,
   "id": "1b7d942c-0c8f-4705-9556-ed174d717c0a",
   "metadata": {},
   "outputs": [],
   "source": []
  }
 ],
 "metadata": {
  "kernelspec": {
   "display_name": "Python 3 (ipykernel)",
   "language": "python",
   "name": "python3"
  },
  "language_info": {
   "codemirror_mode": {
    "name": "ipython",
    "version": 3
   },
   "file_extension": ".py",
   "mimetype": "text/x-python",
   "name": "python",
   "nbconvert_exporter": "python",
   "pygments_lexer": "ipython3",
   "version": "3.11.5"
  }
 },
 "nbformat": 4,
 "nbformat_minor": 5
}
